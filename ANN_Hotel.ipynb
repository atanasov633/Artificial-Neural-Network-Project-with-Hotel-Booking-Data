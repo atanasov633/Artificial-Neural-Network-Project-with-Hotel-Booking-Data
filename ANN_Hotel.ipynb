{
 "cells": [
  {
   "cell_type": "code",
   "execution_count": 1,
   "id": "490de887",
   "metadata": {},
   "outputs": [],
   "source": [
    "import pandas as pd\n",
    "import numpy as np\n",
    "import matplotlib.pyplot as plt\n",
    "import seaborn as sns\n",
    "%matplotlib inline\n",
    "import re\n",
    "import plotly.express as px"
   ]
  },
  {
   "cell_type": "code",
   "execution_count": 2,
   "id": "6a6b9a91",
   "metadata": {},
   "outputs": [],
   "source": [
    "from sklearn.preprocessing import LabelEncoder, StandardScaler, OneHotEncoder\n",
    "from sklearn.model_selection import cross_val_score, KFold, GridSearchCV, RandomizedSearchCV\n",
    "from sklearn.impute import SimpleImputer\n",
    "from sklearn.pipeline import Pipeline\n",
    "from sklearn.compose import ColumnTransformer\n",
    "from sklearn.model_selection import train_test_split\n",
    "from sklearn.metrics import confusion_matrix, mean_absolute_error, mean_squared_error, explained_variance_score, classification_report, recall_score, precision_score, f1_score, accuracy_score, f1_score\n",
    "from sklearn.tree import DecisionTreeClassifier\n",
    "from sklearn.linear_model import LogisticRegression\n",
    "from sklearn.neighbors import KNeighborsClassifier\n",
    "from sklearn.feature_selection import SelectKBest\n",
    "from sklearn.feature_selection import chi2"
   ]
  },
  {
   "cell_type": "code",
   "execution_count": 136,
   "id": "e1ccc5f0",
   "metadata": {},
   "outputs": [],
   "source": [
    "from scikeras.wrappers import KerasClassifier\n",
    "import tensorflow as tf\n",
    "import keras_tuner as kt\n",
    "from keras.layers import Dense, Dropout, Activation, Flatten\n",
    "from keras.models import Sequential\n",
    "from keras.optimizers import Adam\n",
    "from keras.callbacks import EarlyStopping\n",
    "import visualkeras"
   ]
  },
  {
   "cell_type": "markdown",
   "id": "63a2a7ce",
   "metadata": {},
   "source": [
    "## DATA - summary"
   ]
  },
  {
   "cell_type": "markdown",
   "id": "4d1f1fad",
   "metadata": {},
   "source": [
    "### Import Hotel Dataset"
   ]
  },
  {
   "cell_type": "code",
   "execution_count": 4,
   "id": "aec6741f",
   "metadata": {},
   "outputs": [],
   "source": [
    "path = \"hotel_bookings.csv\""
   ]
  },
  {
   "cell_type": "code",
   "execution_count": 5,
   "id": "ead28d86",
   "metadata": {
    "scrolled": true
   },
   "outputs": [],
   "source": [
    "df = pd.read_csv(path)"
   ]
  },
  {
   "cell_type": "code",
   "execution_count": 6,
   "id": "957e80af",
   "metadata": {},
   "outputs": [
    {
     "data": {
      "text/html": [
       "<div>\n",
       "<style scoped>\n",
       "    .dataframe tbody tr th:only-of-type {\n",
       "        vertical-align: middle;\n",
       "    }\n",
       "\n",
       "    .dataframe tbody tr th {\n",
       "        vertical-align: top;\n",
       "    }\n",
       "\n",
       "    .dataframe thead th {\n",
       "        text-align: right;\n",
       "    }\n",
       "</style>\n",
       "<table border=\"1\" class=\"dataframe\">\n",
       "  <thead>\n",
       "    <tr style=\"text-align: right;\">\n",
       "      <th></th>\n",
       "      <th>hotel</th>\n",
       "      <th>is_canceled</th>\n",
       "      <th>lead_time</th>\n",
       "      <th>arrival_date_year</th>\n",
       "      <th>arrival_date_month</th>\n",
       "      <th>arrival_date_week_number</th>\n",
       "      <th>arrival_date_day_of_month</th>\n",
       "      <th>stays_in_weekend_nights</th>\n",
       "      <th>stays_in_week_nights</th>\n",
       "      <th>adults</th>\n",
       "      <th>...</th>\n",
       "      <th>deposit_type</th>\n",
       "      <th>agent</th>\n",
       "      <th>company</th>\n",
       "      <th>days_in_waiting_list</th>\n",
       "      <th>customer_type</th>\n",
       "      <th>adr</th>\n",
       "      <th>required_car_parking_spaces</th>\n",
       "      <th>total_of_special_requests</th>\n",
       "      <th>reservation_status</th>\n",
       "      <th>reservation_status_date</th>\n",
       "    </tr>\n",
       "  </thead>\n",
       "  <tbody>\n",
       "    <tr>\n",
       "      <th>0</th>\n",
       "      <td>Resort Hotel</td>\n",
       "      <td>0</td>\n",
       "      <td>342</td>\n",
       "      <td>2015</td>\n",
       "      <td>July</td>\n",
       "      <td>27</td>\n",
       "      <td>1</td>\n",
       "      <td>0</td>\n",
       "      <td>0</td>\n",
       "      <td>2</td>\n",
       "      <td>...</td>\n",
       "      <td>No Deposit</td>\n",
       "      <td>NaN</td>\n",
       "      <td>NaN</td>\n",
       "      <td>0</td>\n",
       "      <td>Transient</td>\n",
       "      <td>0.0</td>\n",
       "      <td>0</td>\n",
       "      <td>0</td>\n",
       "      <td>Check-Out</td>\n",
       "      <td>2015-07-01</td>\n",
       "    </tr>\n",
       "    <tr>\n",
       "      <th>1</th>\n",
       "      <td>Resort Hotel</td>\n",
       "      <td>0</td>\n",
       "      <td>737</td>\n",
       "      <td>2015</td>\n",
       "      <td>July</td>\n",
       "      <td>27</td>\n",
       "      <td>1</td>\n",
       "      <td>0</td>\n",
       "      <td>0</td>\n",
       "      <td>2</td>\n",
       "      <td>...</td>\n",
       "      <td>No Deposit</td>\n",
       "      <td>NaN</td>\n",
       "      <td>NaN</td>\n",
       "      <td>0</td>\n",
       "      <td>Transient</td>\n",
       "      <td>0.0</td>\n",
       "      <td>0</td>\n",
       "      <td>0</td>\n",
       "      <td>Check-Out</td>\n",
       "      <td>2015-07-01</td>\n",
       "    </tr>\n",
       "    <tr>\n",
       "      <th>2</th>\n",
       "      <td>Resort Hotel</td>\n",
       "      <td>0</td>\n",
       "      <td>7</td>\n",
       "      <td>2015</td>\n",
       "      <td>July</td>\n",
       "      <td>27</td>\n",
       "      <td>1</td>\n",
       "      <td>0</td>\n",
       "      <td>1</td>\n",
       "      <td>1</td>\n",
       "      <td>...</td>\n",
       "      <td>No Deposit</td>\n",
       "      <td>NaN</td>\n",
       "      <td>NaN</td>\n",
       "      <td>0</td>\n",
       "      <td>Transient</td>\n",
       "      <td>75.0</td>\n",
       "      <td>0</td>\n",
       "      <td>0</td>\n",
       "      <td>Check-Out</td>\n",
       "      <td>2015-07-02</td>\n",
       "    </tr>\n",
       "    <tr>\n",
       "      <th>3</th>\n",
       "      <td>Resort Hotel</td>\n",
       "      <td>0</td>\n",
       "      <td>13</td>\n",
       "      <td>2015</td>\n",
       "      <td>July</td>\n",
       "      <td>27</td>\n",
       "      <td>1</td>\n",
       "      <td>0</td>\n",
       "      <td>1</td>\n",
       "      <td>1</td>\n",
       "      <td>...</td>\n",
       "      <td>No Deposit</td>\n",
       "      <td>304.0</td>\n",
       "      <td>NaN</td>\n",
       "      <td>0</td>\n",
       "      <td>Transient</td>\n",
       "      <td>75.0</td>\n",
       "      <td>0</td>\n",
       "      <td>0</td>\n",
       "      <td>Check-Out</td>\n",
       "      <td>2015-07-02</td>\n",
       "    </tr>\n",
       "    <tr>\n",
       "      <th>4</th>\n",
       "      <td>Resort Hotel</td>\n",
       "      <td>0</td>\n",
       "      <td>14</td>\n",
       "      <td>2015</td>\n",
       "      <td>July</td>\n",
       "      <td>27</td>\n",
       "      <td>1</td>\n",
       "      <td>0</td>\n",
       "      <td>2</td>\n",
       "      <td>2</td>\n",
       "      <td>...</td>\n",
       "      <td>No Deposit</td>\n",
       "      <td>240.0</td>\n",
       "      <td>NaN</td>\n",
       "      <td>0</td>\n",
       "      <td>Transient</td>\n",
       "      <td>98.0</td>\n",
       "      <td>0</td>\n",
       "      <td>1</td>\n",
       "      <td>Check-Out</td>\n",
       "      <td>2015-07-03</td>\n",
       "    </tr>\n",
       "  </tbody>\n",
       "</table>\n",
       "<p>5 rows × 32 columns</p>\n",
       "</div>"
      ],
      "text/plain": [
       "          hotel  is_canceled  lead_time  arrival_date_year arrival_date_month  \\\n",
       "0  Resort Hotel            0        342               2015               July   \n",
       "1  Resort Hotel            0        737               2015               July   \n",
       "2  Resort Hotel            0          7               2015               July   \n",
       "3  Resort Hotel            0         13               2015               July   \n",
       "4  Resort Hotel            0         14               2015               July   \n",
       "\n",
       "   arrival_date_week_number  arrival_date_day_of_month  \\\n",
       "0                        27                          1   \n",
       "1                        27                          1   \n",
       "2                        27                          1   \n",
       "3                        27                          1   \n",
       "4                        27                          1   \n",
       "\n",
       "   stays_in_weekend_nights  stays_in_week_nights  adults  ...  deposit_type  \\\n",
       "0                        0                     0       2  ...    No Deposit   \n",
       "1                        0                     0       2  ...    No Deposit   \n",
       "2                        0                     1       1  ...    No Deposit   \n",
       "3                        0                     1       1  ...    No Deposit   \n",
       "4                        0                     2       2  ...    No Deposit   \n",
       "\n",
       "   agent company days_in_waiting_list customer_type   adr  \\\n",
       "0    NaN     NaN                    0     Transient   0.0   \n",
       "1    NaN     NaN                    0     Transient   0.0   \n",
       "2    NaN     NaN                    0     Transient  75.0   \n",
       "3  304.0     NaN                    0     Transient  75.0   \n",
       "4  240.0     NaN                    0     Transient  98.0   \n",
       "\n",
       "   required_car_parking_spaces  total_of_special_requests  reservation_status  \\\n",
       "0                            0                          0           Check-Out   \n",
       "1                            0                          0           Check-Out   \n",
       "2                            0                          0           Check-Out   \n",
       "3                            0                          0           Check-Out   \n",
       "4                            0                          1           Check-Out   \n",
       "\n",
       "  reservation_status_date  \n",
       "0              2015-07-01  \n",
       "1              2015-07-01  \n",
       "2              2015-07-02  \n",
       "3              2015-07-02  \n",
       "4              2015-07-03  \n",
       "\n",
       "[5 rows x 32 columns]"
      ]
     },
     "execution_count": 6,
     "metadata": {},
     "output_type": "execute_result"
    }
   ],
   "source": [
    "df.head()"
   ]
  },
  {
   "cell_type": "markdown",
   "id": "4c42d2c4",
   "metadata": {},
   "source": [
    "## Get overall statistics for the data"
   ]
  },
  {
   "cell_type": "markdown",
   "id": "3f524c70",
   "metadata": {},
   "source": [
    "### Data Description\n",
    "    hotel (str) - Hotel (H1 = Resort Hotel or H2 = City Hotel)\n",
    "    lead_time (int) - Number of days that elapsed between the entering date of the booking into the PMS and the arrival date\n",
    "    arrival_date_year (int) - Year of arrival date\n",
    "    arrival_date_month (str) - Month of arrival date\n",
    "    arrival_date_week_number (int) - Week number of year for arrival date\n",
    "    arrival_date_day_of_month (int) - Day of arrival date\n",
    "    stays_in_weekend_nights (int) - Number of weekend nights (Saturday or Sunday) the guest stayed or booked to stay at the hotel\n",
    "    stays_in_week_nights (int) - Number of week nights (Monday to Friday) the guest stayed or booked to stay at the hotel\n",
    "    adults (int) - Number of adults\n",
    "    children (float) - Number of children\n",
    "    babies (int) - Number of babies\n",
    "    meal (str) - Type of meal booked. Categories are presented in standard hospitality meal packages: (Undefined/SC = no meal package, BB = Bed & Breakfast, HB = Half board – breakfast and one other meal - usually dinner, FB = Full board – breakfast, lunch and dinner)\n",
    "    country (str) - Country of origin. Categories are represented in the ISO 3155–3:2013 format\n",
    "    market_segment (str) - Market segment designation (TA = Travel Agents, TO = Tour Operators)\n",
    "    distribution_channel (str) - Booking distribution channel (TA = Travel Agents, TO = Tour Operators)\n",
    "    is_repeated_guest (int) - Value indicating if the booking name was from a repeated guest (1) or not (0)\n",
    "    previous_cancellations (int) - Number of previous bookings that were cancelled by the customer prior to the current booking\n",
    "    previous_bookings_not_canceled (int) - Number of previous bookings not cancelled by the customer prior to the current booking\n",
    "    reserved_room_type (str) - Code of room type reserved. Code is presented instead of designation for anonymity reasons\n",
    "    assigned_room_type (str) - Code for the type of room assigned to the booking. Sometimes the assigned room type differs from the reserved room type due to hotel operation reasons (e.g. overbooking) or by customer request. Code is presented instead of designation for anonymity reasons\n",
    "    booking_changes (int) - Number of changes/amendments made to the booking from the moment the booking was entered on the PMS until the moment of check-in or cancellation\n",
    "    deposit_type (str) - Indication on if the customer made a deposit to guarantee the booking. This variable can assume three categories: (No Deposit = no deposit was made, Non Refund = a deposit was made in the value of the total stay cost, Refundable = a deposit was made with a value under the total cost of stay)\n",
    "    agent (float) - ID of the travel agency that made the booking\n",
    "    company (float) - ID of the company/entity that made the booking or responsible for paying the booking. ID is presented instead of designation for anonymity reasons\n",
    "    days_in_waiting_list (int) - Number of days the booking was in the waiting list before it was confirmed to the customer\n",
    "    customer_type (str) - Type of booking, assuming one of four categories: (Contract = when the booking has an allotment or other type of contract associated to it, Group = when the booking is associated to a group, Transient = when the booking is not part of a group or contract, and is not associated to other transient booking, Transient-party = when the booking is transient, but is associated to at least other transient booking\n",
    "    adr (float) - Average Daily Rate as defined by dividing the sum of all lodging transactions by the total number of staying nights\n",
    "    required_car_parking_spaces (int) - Number of car parking spaces required by the customer\n",
    "    total_of_special_requests (int) - Number of special requests made by the customer (e.g. twin bed or high floor)\n",
    "    reservation_status (str) - Reservation last status, assuming one of three categories: (Canceled = booking was canceled by the customer, Check-Out = customer has checked in but already departed, No-Show = customer did not check-in and did inform the hotel of the reason why)\n",
    "    reservation_status_date (str) - Date at which the last status was set. This variable can be used in conjunction with the ReservationStatus to understand when was the booking canceled or when did the customer checked-out of the hotel\n"
   ]
  },
  {
   "cell_type": "code",
   "execution_count": 7,
   "id": "5c8a35b9",
   "metadata": {},
   "outputs": [
    {
     "data": {
      "text/html": [
       "<div>\n",
       "<style scoped>\n",
       "    .dataframe tbody tr th:only-of-type {\n",
       "        vertical-align: middle;\n",
       "    }\n",
       "\n",
       "    .dataframe tbody tr th {\n",
       "        vertical-align: top;\n",
       "    }\n",
       "\n",
       "    .dataframe thead th {\n",
       "        text-align: right;\n",
       "    }\n",
       "</style>\n",
       "<table border=\"1\" class=\"dataframe\">\n",
       "  <thead>\n",
       "    <tr style=\"text-align: right;\">\n",
       "      <th></th>\n",
       "      <th>is_canceled</th>\n",
       "      <th>lead_time</th>\n",
       "      <th>arrival_date_year</th>\n",
       "      <th>arrival_date_week_number</th>\n",
       "      <th>arrival_date_day_of_month</th>\n",
       "      <th>stays_in_weekend_nights</th>\n",
       "      <th>stays_in_week_nights</th>\n",
       "      <th>adults</th>\n",
       "      <th>children</th>\n",
       "      <th>babies</th>\n",
       "      <th>is_repeated_guest</th>\n",
       "      <th>previous_cancellations</th>\n",
       "      <th>previous_bookings_not_canceled</th>\n",
       "      <th>booking_changes</th>\n",
       "      <th>agent</th>\n",
       "      <th>company</th>\n",
       "      <th>days_in_waiting_list</th>\n",
       "      <th>adr</th>\n",
       "      <th>required_car_parking_spaces</th>\n",
       "      <th>total_of_special_requests</th>\n",
       "    </tr>\n",
       "  </thead>\n",
       "  <tbody>\n",
       "    <tr>\n",
       "      <th>count</th>\n",
       "      <td>119390.000000</td>\n",
       "      <td>119390.000000</td>\n",
       "      <td>119390.000000</td>\n",
       "      <td>119390.000000</td>\n",
       "      <td>119390.000000</td>\n",
       "      <td>119390.000000</td>\n",
       "      <td>119390.000000</td>\n",
       "      <td>119390.000000</td>\n",
       "      <td>119386.000000</td>\n",
       "      <td>119390.000000</td>\n",
       "      <td>119390.000000</td>\n",
       "      <td>119390.000000</td>\n",
       "      <td>119390.000000</td>\n",
       "      <td>119390.000000</td>\n",
       "      <td>103050.000000</td>\n",
       "      <td>6797.000000</td>\n",
       "      <td>119390.000000</td>\n",
       "      <td>119390.000000</td>\n",
       "      <td>119390.000000</td>\n",
       "      <td>119390.000000</td>\n",
       "    </tr>\n",
       "    <tr>\n",
       "      <th>mean</th>\n",
       "      <td>0.370416</td>\n",
       "      <td>104.011416</td>\n",
       "      <td>2016.156554</td>\n",
       "      <td>27.165173</td>\n",
       "      <td>15.798241</td>\n",
       "      <td>0.927599</td>\n",
       "      <td>2.500302</td>\n",
       "      <td>1.856403</td>\n",
       "      <td>0.103890</td>\n",
       "      <td>0.007949</td>\n",
       "      <td>0.031912</td>\n",
       "      <td>0.087118</td>\n",
       "      <td>0.137097</td>\n",
       "      <td>0.221124</td>\n",
       "      <td>86.693382</td>\n",
       "      <td>189.266735</td>\n",
       "      <td>2.321149</td>\n",
       "      <td>101.831122</td>\n",
       "      <td>0.062518</td>\n",
       "      <td>0.571363</td>\n",
       "    </tr>\n",
       "    <tr>\n",
       "      <th>std</th>\n",
       "      <td>0.482918</td>\n",
       "      <td>106.863097</td>\n",
       "      <td>0.707476</td>\n",
       "      <td>13.605138</td>\n",
       "      <td>8.780829</td>\n",
       "      <td>0.998613</td>\n",
       "      <td>1.908286</td>\n",
       "      <td>0.579261</td>\n",
       "      <td>0.398561</td>\n",
       "      <td>0.097436</td>\n",
       "      <td>0.175767</td>\n",
       "      <td>0.844336</td>\n",
       "      <td>1.497437</td>\n",
       "      <td>0.652306</td>\n",
       "      <td>110.774548</td>\n",
       "      <td>131.655015</td>\n",
       "      <td>17.594721</td>\n",
       "      <td>50.535790</td>\n",
       "      <td>0.245291</td>\n",
       "      <td>0.792798</td>\n",
       "    </tr>\n",
       "    <tr>\n",
       "      <th>min</th>\n",
       "      <td>0.000000</td>\n",
       "      <td>0.000000</td>\n",
       "      <td>2015.000000</td>\n",
       "      <td>1.000000</td>\n",
       "      <td>1.000000</td>\n",
       "      <td>0.000000</td>\n",
       "      <td>0.000000</td>\n",
       "      <td>0.000000</td>\n",
       "      <td>0.000000</td>\n",
       "      <td>0.000000</td>\n",
       "      <td>0.000000</td>\n",
       "      <td>0.000000</td>\n",
       "      <td>0.000000</td>\n",
       "      <td>0.000000</td>\n",
       "      <td>1.000000</td>\n",
       "      <td>6.000000</td>\n",
       "      <td>0.000000</td>\n",
       "      <td>-6.380000</td>\n",
       "      <td>0.000000</td>\n",
       "      <td>0.000000</td>\n",
       "    </tr>\n",
       "    <tr>\n",
       "      <th>25%</th>\n",
       "      <td>0.000000</td>\n",
       "      <td>18.000000</td>\n",
       "      <td>2016.000000</td>\n",
       "      <td>16.000000</td>\n",
       "      <td>8.000000</td>\n",
       "      <td>0.000000</td>\n",
       "      <td>1.000000</td>\n",
       "      <td>2.000000</td>\n",
       "      <td>0.000000</td>\n",
       "      <td>0.000000</td>\n",
       "      <td>0.000000</td>\n",
       "      <td>0.000000</td>\n",
       "      <td>0.000000</td>\n",
       "      <td>0.000000</td>\n",
       "      <td>9.000000</td>\n",
       "      <td>62.000000</td>\n",
       "      <td>0.000000</td>\n",
       "      <td>69.290000</td>\n",
       "      <td>0.000000</td>\n",
       "      <td>0.000000</td>\n",
       "    </tr>\n",
       "    <tr>\n",
       "      <th>50%</th>\n",
       "      <td>0.000000</td>\n",
       "      <td>69.000000</td>\n",
       "      <td>2016.000000</td>\n",
       "      <td>28.000000</td>\n",
       "      <td>16.000000</td>\n",
       "      <td>1.000000</td>\n",
       "      <td>2.000000</td>\n",
       "      <td>2.000000</td>\n",
       "      <td>0.000000</td>\n",
       "      <td>0.000000</td>\n",
       "      <td>0.000000</td>\n",
       "      <td>0.000000</td>\n",
       "      <td>0.000000</td>\n",
       "      <td>0.000000</td>\n",
       "      <td>14.000000</td>\n",
       "      <td>179.000000</td>\n",
       "      <td>0.000000</td>\n",
       "      <td>94.575000</td>\n",
       "      <td>0.000000</td>\n",
       "      <td>0.000000</td>\n",
       "    </tr>\n",
       "    <tr>\n",
       "      <th>75%</th>\n",
       "      <td>1.000000</td>\n",
       "      <td>160.000000</td>\n",
       "      <td>2017.000000</td>\n",
       "      <td>38.000000</td>\n",
       "      <td>23.000000</td>\n",
       "      <td>2.000000</td>\n",
       "      <td>3.000000</td>\n",
       "      <td>2.000000</td>\n",
       "      <td>0.000000</td>\n",
       "      <td>0.000000</td>\n",
       "      <td>0.000000</td>\n",
       "      <td>0.000000</td>\n",
       "      <td>0.000000</td>\n",
       "      <td>0.000000</td>\n",
       "      <td>229.000000</td>\n",
       "      <td>270.000000</td>\n",
       "      <td>0.000000</td>\n",
       "      <td>126.000000</td>\n",
       "      <td>0.000000</td>\n",
       "      <td>1.000000</td>\n",
       "    </tr>\n",
       "    <tr>\n",
       "      <th>max</th>\n",
       "      <td>1.000000</td>\n",
       "      <td>737.000000</td>\n",
       "      <td>2017.000000</td>\n",
       "      <td>53.000000</td>\n",
       "      <td>31.000000</td>\n",
       "      <td>19.000000</td>\n",
       "      <td>50.000000</td>\n",
       "      <td>55.000000</td>\n",
       "      <td>10.000000</td>\n",
       "      <td>10.000000</td>\n",
       "      <td>1.000000</td>\n",
       "      <td>26.000000</td>\n",
       "      <td>72.000000</td>\n",
       "      <td>21.000000</td>\n",
       "      <td>535.000000</td>\n",
       "      <td>543.000000</td>\n",
       "      <td>391.000000</td>\n",
       "      <td>5400.000000</td>\n",
       "      <td>8.000000</td>\n",
       "      <td>5.000000</td>\n",
       "    </tr>\n",
       "  </tbody>\n",
       "</table>\n",
       "</div>"
      ],
      "text/plain": [
       "         is_canceled      lead_time  arrival_date_year  \\\n",
       "count  119390.000000  119390.000000      119390.000000   \n",
       "mean        0.370416     104.011416        2016.156554   \n",
       "std         0.482918     106.863097           0.707476   \n",
       "min         0.000000       0.000000        2015.000000   \n",
       "25%         0.000000      18.000000        2016.000000   \n",
       "50%         0.000000      69.000000        2016.000000   \n",
       "75%         1.000000     160.000000        2017.000000   \n",
       "max         1.000000     737.000000        2017.000000   \n",
       "\n",
       "       arrival_date_week_number  arrival_date_day_of_month  \\\n",
       "count             119390.000000              119390.000000   \n",
       "mean                  27.165173                  15.798241   \n",
       "std                   13.605138                   8.780829   \n",
       "min                    1.000000                   1.000000   \n",
       "25%                   16.000000                   8.000000   \n",
       "50%                   28.000000                  16.000000   \n",
       "75%                   38.000000                  23.000000   \n",
       "max                   53.000000                  31.000000   \n",
       "\n",
       "       stays_in_weekend_nights  stays_in_week_nights         adults  \\\n",
       "count            119390.000000         119390.000000  119390.000000   \n",
       "mean                  0.927599              2.500302       1.856403   \n",
       "std                   0.998613              1.908286       0.579261   \n",
       "min                   0.000000              0.000000       0.000000   \n",
       "25%                   0.000000              1.000000       2.000000   \n",
       "50%                   1.000000              2.000000       2.000000   \n",
       "75%                   2.000000              3.000000       2.000000   \n",
       "max                  19.000000             50.000000      55.000000   \n",
       "\n",
       "            children         babies  is_repeated_guest  \\\n",
       "count  119386.000000  119390.000000      119390.000000   \n",
       "mean        0.103890       0.007949           0.031912   \n",
       "std         0.398561       0.097436           0.175767   \n",
       "min         0.000000       0.000000           0.000000   \n",
       "25%         0.000000       0.000000           0.000000   \n",
       "50%         0.000000       0.000000           0.000000   \n",
       "75%         0.000000       0.000000           0.000000   \n",
       "max        10.000000      10.000000           1.000000   \n",
       "\n",
       "       previous_cancellations  previous_bookings_not_canceled  \\\n",
       "count           119390.000000                   119390.000000   \n",
       "mean                 0.087118                        0.137097   \n",
       "std                  0.844336                        1.497437   \n",
       "min                  0.000000                        0.000000   \n",
       "25%                  0.000000                        0.000000   \n",
       "50%                  0.000000                        0.000000   \n",
       "75%                  0.000000                        0.000000   \n",
       "max                 26.000000                       72.000000   \n",
       "\n",
       "       booking_changes          agent      company  days_in_waiting_list  \\\n",
       "count    119390.000000  103050.000000  6797.000000         119390.000000   \n",
       "mean          0.221124      86.693382   189.266735              2.321149   \n",
       "std           0.652306     110.774548   131.655015             17.594721   \n",
       "min           0.000000       1.000000     6.000000              0.000000   \n",
       "25%           0.000000       9.000000    62.000000              0.000000   \n",
       "50%           0.000000      14.000000   179.000000              0.000000   \n",
       "75%           0.000000     229.000000   270.000000              0.000000   \n",
       "max          21.000000     535.000000   543.000000            391.000000   \n",
       "\n",
       "                 adr  required_car_parking_spaces  total_of_special_requests  \n",
       "count  119390.000000                119390.000000              119390.000000  \n",
       "mean      101.831122                     0.062518                   0.571363  \n",
       "std        50.535790                     0.245291                   0.792798  \n",
       "min        -6.380000                     0.000000                   0.000000  \n",
       "25%        69.290000                     0.000000                   0.000000  \n",
       "50%        94.575000                     0.000000                   0.000000  \n",
       "75%       126.000000                     0.000000                   1.000000  \n",
       "max      5400.000000                     8.000000                   5.000000  "
      ]
     },
     "execution_count": 7,
     "metadata": {},
     "output_type": "execute_result"
    }
   ],
   "source": [
    "df.describe()"
   ]
  },
  {
   "cell_type": "markdown",
   "id": "fe3ef669",
   "metadata": {},
   "source": [
    "#### Check for missing data"
   ]
  },
  {
   "cell_type": "code",
   "execution_count": 8,
   "id": "d0a33009",
   "metadata": {},
   "outputs": [
    {
     "data": {
      "text/plain": [
       "(119390, 32)"
      ]
     },
     "execution_count": 8,
     "metadata": {},
     "output_type": "execute_result"
    }
   ],
   "source": [
    "df.shape"
   ]
  },
  {
   "cell_type": "code",
   "execution_count": 9,
   "id": "c0fb9e5d",
   "metadata": {},
   "outputs": [
    {
     "data": {
      "text/plain": [
       "hotel                                  0\n",
       "is_canceled                            0\n",
       "lead_time                              0\n",
       "arrival_date_year                      0\n",
       "arrival_date_month                     0\n",
       "arrival_date_week_number               0\n",
       "arrival_date_day_of_month              0\n",
       "stays_in_weekend_nights                0\n",
       "stays_in_week_nights                   0\n",
       "adults                                 0\n",
       "children                               4\n",
       "babies                                 0\n",
       "meal                                   0\n",
       "country                              488\n",
       "market_segment                         0\n",
       "distribution_channel                   0\n",
       "is_repeated_guest                      0\n",
       "previous_cancellations                 0\n",
       "previous_bookings_not_canceled         0\n",
       "reserved_room_type                     0\n",
       "assigned_room_type                     0\n",
       "booking_changes                        0\n",
       "deposit_type                           0\n",
       "agent                              16340\n",
       "company                           112593\n",
       "days_in_waiting_list                   0\n",
       "customer_type                          0\n",
       "adr                                    0\n",
       "required_car_parking_spaces            0\n",
       "total_of_special_requests              0\n",
       "reservation_status                     0\n",
       "reservation_status_date                0\n",
       "dtype: int64"
      ]
     },
     "execution_count": 9,
     "metadata": {},
     "output_type": "execute_result"
    }
   ],
   "source": [
    "df.isnull().sum()"
   ]
  },
  {
   "cell_type": "code",
   "execution_count": 10,
   "id": "2a27efbd",
   "metadata": {},
   "outputs": [
    {
     "data": {
      "text/plain": [
       "is_canceled                       1.000000\n",
       "lead_time                         0.293123\n",
       "total_of_special_requests         0.234658\n",
       "required_car_parking_spaces       0.195498\n",
       "booking_changes                   0.144381\n",
       "previous_cancellations            0.110133\n",
       "is_repeated_guest                 0.084793\n",
       "agent                             0.083114\n",
       "adults                            0.060017\n",
       "previous_bookings_not_canceled    0.057358\n",
       "days_in_waiting_list              0.054186\n",
       "adr                               0.047557\n",
       "babies                            0.032491\n",
       "stays_in_week_nights              0.024765\n",
       "company                           0.020642\n",
       "arrival_date_year                 0.016660\n",
       "arrival_date_week_number          0.008148\n",
       "arrival_date_day_of_month         0.006130\n",
       "children                          0.005048\n",
       "stays_in_weekend_nights           0.001791\n",
       "Name: is_canceled, dtype: float64"
      ]
     },
     "execution_count": 10,
     "metadata": {},
     "output_type": "execute_result"
    }
   ],
   "source": [
    "# Our dependent variable will be is_canceled, so we would be interested to see which regressors are highly / low correlated \n",
    "# to it, so taht we can remove some of them\n",
    "corr = df.corr()['is_canceled'].abs().sort_values(ascending=False)\n",
    "corr"
   ]
  },
  {
   "cell_type": "code",
   "execution_count": 11,
   "id": "81cfa36c",
   "metadata": {},
   "outputs": [
    {
     "data": {
      "text/plain": [
       "is_canceled  hotel       \n",
       "0            City Hotel      46228\n",
       "             Resort Hotel    28938\n",
       "1            City Hotel      33102\n",
       "             Resort Hotel    11122\n",
       "Name: hotel, dtype: int64"
      ]
     },
     "execution_count": 11,
     "metadata": {},
     "output_type": "execute_result"
    }
   ],
   "source": [
    "df.groupby(\"is_canceled\")['hotel'].value_counts()"
   ]
  },
  {
   "cell_type": "code",
   "execution_count": 12,
   "id": "3f292482",
   "metadata": {},
   "outputs": [],
   "source": [
    "# The idea is that if company or agent is 0, then the booking was not made through either of them\n",
    "df['company'] = np.where(df['company'].isnull(),0,1)\n",
    "df['agent'] = np.where(df['agent'].isnull(),0,1)"
   ]
  },
  {
   "cell_type": "code",
   "execution_count": 13,
   "id": "0c1def7c",
   "metadata": {},
   "outputs": [],
   "source": [
    "# These 3 columns cannot all be 0 at once (we cannot have 0 guests), so we can drop them\n",
    "filter = (df.children==0) & (df.adults==0) & (df.babies==0)\n",
    "df[filter]\n",
    "df=df[~filter]"
   ]
  },
  {
   "cell_type": "code",
   "execution_count": null,
   "id": "ef509814",
   "metadata": {},
   "outputs": [],
   "source": [
    "# From previous research:\n",
    "\n",
    "# to predict wheater or not a booking will be canceled, the number of booking changes is a possible source of leakage, \n",
    "# because this information can change over time.\n",
    "# I will also not include days_in_waiting_list and arrival_date_year.\n",
    "\n",
    "# The most important feature to exclude is the \"reservation_status\":"
   ]
  },
  {
   "cell_type": "code",
   "execution_count": 49,
   "id": "a8c44944",
   "metadata": {},
   "outputs": [],
   "source": [
    "# This variables causes data leakeg\n",
    "df.drop(['company'], axis=1,inplace=True)\n",
    "df.drop(['stays_in_weekend_nights'], axis=1, inplace=True)\n",
    "df.drop(['stays_in_week_nights'], axis=1, inplace=True)\n",
    "df.drop(['deposit_type'], axis=1,inplace=True)\n",
    "df.drop(['booking_changes'], axis=1, inplace=True)\n",
    "df.drop(['country'], axis=1, inplace=True)\n",
    "df.drop(['reserved_room_types'], axis=1,inplace=True)\n",
    "df.drop(['reservation_status_date'], axis=1, inplace=True)\n",
    "df.drop(['reservation_status'], axis=1, inplace=True)\n",
    "df.drop(['arrival_date_year'], axis=1, inplace=True)\n",
    "#  Another suggested varaible that was proved to cause disturbance in the results \"assigned_room_type\" will be dropped\n",
    "df.drop(['assigned_room_type'], axis=1, inplace=True)"
   ]
  },
  {
   "cell_type": "code",
   "execution_count": 18,
   "id": "ac4a18ef",
   "metadata": {},
   "outputs": [],
   "source": [
    "# Children and Babies seem to be relative unimportant to our task --> cancellation of a booking, so we can add them to \n",
    "# the adults in a combined family column:\n",
    "df['family'] = df['adults'] + df['children'] + df['babies']\n",
    "# # Therefore we can drop the adults, children & babies columns\n",
    "df.drop(['adults'], axis=1, inplace=True)\n",
    "df.drop(['children'], axis=1, inplace=True)\n",
    "df.drop(['babies'], axis=1, inplace=True)"
   ]
  },
  {
   "cell_type": "code",
   "execution_count": 51,
   "id": "8282092d",
   "metadata": {},
   "outputs": [
    {
     "data": {
      "text/plain": [
       "(119210, 21)"
      ]
     },
     "execution_count": 51,
     "metadata": {},
     "output_type": "execute_result"
    }
   ],
   "source": [
    "df.shape"
   ]
  },
  {
   "cell_type": "code",
   "execution_count": 21,
   "id": "3616c27f",
   "metadata": {},
   "outputs": [],
   "source": [
    "# adr has 1 empty cell:\n",
    "df['adr'] = df['adr'].fillna(value=df['adr'].mean())"
   ]
  },
  {
   "cell_type": "code",
   "execution_count": 50,
   "id": "2d77b56e",
   "metadata": {
    "scrolled": false
   },
   "outputs": [
    {
     "data": {
      "text/plain": [
       "hotel                             0\n",
       "is_canceled                       0\n",
       "lead_time                         0\n",
       "arrival_date_month                0\n",
       "arrival_date_week_number          0\n",
       "arrival_date_day_of_month         0\n",
       "meal                              0\n",
       "market_segment                    0\n",
       "distribution_channel              0\n",
       "is_repeated_guest                 0\n",
       "previous_cancellations            0\n",
       "previous_bookings_not_canceled    0\n",
       "reserved_room_type                0\n",
       "agent                             0\n",
       "days_in_waiting_list              0\n",
       "customer_type                     0\n",
       "adr                               0\n",
       "required_car_parking_spaces       0\n",
       "total_of_special_requests         0\n",
       "reservation_status_date           0\n",
       "family                            0\n",
       "dtype: int64"
      ]
     },
     "execution_count": 50,
     "metadata": {},
     "output_type": "execute_result"
    }
   ],
   "source": [
    "# Empty cells are fixed\n",
    "df.isnull().sum()"
   ]
  },
  {
   "cell_type": "code",
   "execution_count": 52,
   "id": "54ab4f7c",
   "metadata": {},
   "outputs": [
    {
     "data": {
      "text/plain": [
       "hotel                             0\n",
       "is_canceled                       0\n",
       "lead_time                         0\n",
       "arrival_date_month                0\n",
       "arrival_date_week_number          0\n",
       "arrival_date_day_of_month         0\n",
       "meal                              0\n",
       "market_segment                    0\n",
       "distribution_channel              0\n",
       "is_repeated_guest                 0\n",
       "previous_cancellations            0\n",
       "previous_bookings_not_canceled    0\n",
       "reserved_room_type                0\n",
       "agent                             0\n",
       "days_in_waiting_list              0\n",
       "customer_type                     0\n",
       "adr                               0\n",
       "required_car_parking_spaces       0\n",
       "total_of_special_requests         0\n",
       "reservation_status_date           0\n",
       "family                            0\n",
       "dtype: int64"
      ]
     },
     "execution_count": 52,
     "metadata": {},
     "output_type": "execute_result"
    }
   ],
   "source": [
    "df.isna().sum()"
   ]
  },
  {
   "cell_type": "code",
   "execution_count": 24,
   "id": "00869fa8",
   "metadata": {},
   "outputs": [
    {
     "data": {
      "text/plain": [
       "hotel                              object\n",
       "is_canceled                         int64\n",
       "lead_time                           int64\n",
       "arrival_date_year                   int64\n",
       "arrival_date_month                 object\n",
       "arrival_date_week_number            int64\n",
       "arrival_date_day_of_month           int64\n",
       "stays_in_weekend_nights             int64\n",
       "stays_in_week_nights                int64\n",
       "meal                               object\n",
       "market_segment                     object\n",
       "distribution_channel               object\n",
       "is_repeated_guest                   int64\n",
       "previous_cancellations              int64\n",
       "previous_bookings_not_canceled      int64\n",
       "reserved_room_type                 object\n",
       "booking_changes                     int64\n",
       "deposit_type                       object\n",
       "agent                               int32\n",
       "company                             int32\n",
       "days_in_waiting_list                int64\n",
       "customer_type                      object\n",
       "adr                               float64\n",
       "required_car_parking_spaces         int64\n",
       "total_of_special_requests           int64\n",
       "reservation_status                 object\n",
       "reservation_status_date            object\n",
       "family                            float64\n",
       "dtype: object"
      ]
     },
     "execution_count": 24,
     "metadata": {},
     "output_type": "execute_result"
    }
   ],
   "source": [
    "df.dtypes"
   ]
  },
  {
   "cell_type": "markdown",
   "id": "8762b35d",
   "metadata": {},
   "source": [
    "# Data Preprocessing"
   ]
  },
  {
   "cell_type": "markdown",
   "id": "2cbdc7af",
   "metadata": {},
   "source": [
    "## Feature Selection"
   ]
  },
  {
   "cell_type": "code",
   "execution_count": 53,
   "id": "561440cb",
   "metadata": {},
   "outputs": [
    {
     "data": {
      "text/plain": [
       "<AxesSubplot:>"
      ]
     },
     "execution_count": 53,
     "metadata": {},
     "output_type": "execute_result"
    },
    {
     "data": {
      "image/png": "[encoded data removed]",
      "text/plain": [
       "<Figure size 1500x1500 with 2 Axes>"
      ]
     },
     "metadata": {},
     "output_type": "display_data"
    }
   ],
   "source": [
    "# Correlation Map\n",
    "fig, ax = plt.subplots(figsize=(15,15))\n",
    "sns.heatmap(df.corr(), annot=True, linewidths=.5, ax=ax)"
   ]
  },
  {
   "cell_type": "markdown",
   "id": "d10ffe13",
   "metadata": {},
   "source": [
    "### Categorical data preprocessing"
   ]
  },
  {
   "cell_type": "code",
   "execution_count": 54,
   "id": "ee5e8fb2",
   "metadata": {},
   "outputs": [],
   "source": [
    "cat_cols = [col for col in df.columns if df[col].dtype==('object')]"
   ]
  },
  {
   "cell_type": "code",
   "execution_count": 55,
   "id": "685842e3",
   "metadata": {},
   "outputs": [],
   "source": [
    "df_cat = df[cat_cols]"
   ]
  },
  {
   "cell_type": "code",
   "execution_count": 56,
   "id": "022c5c85",
   "metadata": {},
   "outputs": [
    {
     "data": {
      "text/html": [
       "<div>\n",
       "<style scoped>\n",
       "    .dataframe tbody tr th:only-of-type {\n",
       "        vertical-align: middle;\n",
       "    }\n",
       "\n",
       "    .dataframe tbody tr th {\n",
       "        vertical-align: top;\n",
       "    }\n",
       "\n",
       "    .dataframe thead th {\n",
       "        text-align: right;\n",
       "    }\n",
       "</style>\n",
       "<table border=\"1\" class=\"dataframe\">\n",
       "  <thead>\n",
       "    <tr style=\"text-align: right;\">\n",
       "      <th></th>\n",
       "      <th>hotel</th>\n",
       "      <th>arrival_date_month</th>\n",
       "      <th>meal</th>\n",
       "      <th>market_segment</th>\n",
       "      <th>distribution_channel</th>\n",
       "      <th>reserved_room_type</th>\n",
       "      <th>customer_type</th>\n",
       "      <th>reservation_status_date</th>\n",
       "    </tr>\n",
       "  </thead>\n",
       "  <tbody>\n",
       "    <tr>\n",
       "      <th>0</th>\n",
       "      <td>Resort Hotel</td>\n",
       "      <td>July</td>\n",
       "      <td>BB</td>\n",
       "      <td>Direct</td>\n",
       "      <td>Direct</td>\n",
       "      <td>C</td>\n",
       "      <td>Transient</td>\n",
       "      <td>2015-07-01</td>\n",
       "    </tr>\n",
       "    <tr>\n",
       "      <th>1</th>\n",
       "      <td>Resort Hotel</td>\n",
       "      <td>July</td>\n",
       "      <td>BB</td>\n",
       "      <td>Direct</td>\n",
       "      <td>Direct</td>\n",
       "      <td>C</td>\n",
       "      <td>Transient</td>\n",
       "      <td>2015-07-01</td>\n",
       "    </tr>\n",
       "    <tr>\n",
       "      <th>2</th>\n",
       "      <td>Resort Hotel</td>\n",
       "      <td>July</td>\n",
       "      <td>BB</td>\n",
       "      <td>Direct</td>\n",
       "      <td>Direct</td>\n",
       "      <td>A</td>\n",
       "      <td>Transient</td>\n",
       "      <td>2015-07-02</td>\n",
       "    </tr>\n",
       "    <tr>\n",
       "      <th>3</th>\n",
       "      <td>Resort Hotel</td>\n",
       "      <td>July</td>\n",
       "      <td>BB</td>\n",
       "      <td>Corporate</td>\n",
       "      <td>Corporate</td>\n",
       "      <td>A</td>\n",
       "      <td>Transient</td>\n",
       "      <td>2015-07-02</td>\n",
       "    </tr>\n",
       "    <tr>\n",
       "      <th>4</th>\n",
       "      <td>Resort Hotel</td>\n",
       "      <td>July</td>\n",
       "      <td>BB</td>\n",
       "      <td>Online TA</td>\n",
       "      <td>TA/TO</td>\n",
       "      <td>A</td>\n",
       "      <td>Transient</td>\n",
       "      <td>2015-07-03</td>\n",
       "    </tr>\n",
       "  </tbody>\n",
       "</table>\n",
       "</div>"
      ],
      "text/plain": [
       "          hotel arrival_date_month meal market_segment distribution_channel  \\\n",
       "0  Resort Hotel               July   BB         Direct               Direct   \n",
       "1  Resort Hotel               July   BB         Direct               Direct   \n",
       "2  Resort Hotel               July   BB         Direct               Direct   \n",
       "3  Resort Hotel               July   BB      Corporate            Corporate   \n",
       "4  Resort Hotel               July   BB      Online TA                TA/TO   \n",
       "\n",
       "  reserved_room_type customer_type reservation_status_date  \n",
       "0                  C     Transient              2015-07-01  \n",
       "1                  C     Transient              2015-07-01  \n",
       "2                  A     Transient              2015-07-02  \n",
       "3                  A     Transient              2015-07-02  \n",
       "4                  A     Transient              2015-07-03  "
      ]
     },
     "execution_count": 56,
     "metadata": {},
     "output_type": "execute_result"
    }
   ],
   "source": [
    "df_cat.head()"
   ]
  },
  {
   "cell_type": "code",
   "execution_count": 58,
   "id": "c45bee1b",
   "metadata": {},
   "outputs": [],
   "source": [
    "label_enc = LabelEncoder()"
   ]
  },
  {
   "cell_type": "code",
   "execution_count": 59,
   "id": "79f3ced2",
   "metadata": {},
   "outputs": [],
   "source": [
    "df_cat_encoded = df_cat.apply(lambda x: label_enc.fit_transform(x))"
   ]
  },
  {
   "cell_type": "markdown",
   "id": "436ef054",
   "metadata": {},
   "source": [
    "### Numerical data preprocessing"
   ]
  },
  {
   "cell_type": "code",
   "execution_count": 61,
   "id": "1c8cfe2a",
   "metadata": {},
   "outputs": [
    {
     "data": {
      "text/html": [
       "<div>\n",
       "<style scoped>\n",
       "    .dataframe tbody tr th:only-of-type {\n",
       "        vertical-align: middle;\n",
       "    }\n",
       "\n",
       "    .dataframe tbody tr th {\n",
       "        vertical-align: top;\n",
       "    }\n",
       "\n",
       "    .dataframe thead th {\n",
       "        text-align: right;\n",
       "    }\n",
       "</style>\n",
       "<table border=\"1\" class=\"dataframe\">\n",
       "  <thead>\n",
       "    <tr style=\"text-align: right;\">\n",
       "      <th></th>\n",
       "      <th>is_canceled</th>\n",
       "      <th>lead_time</th>\n",
       "      <th>arrival_date_week_number</th>\n",
       "      <th>arrival_date_day_of_month</th>\n",
       "      <th>is_repeated_guest</th>\n",
       "      <th>previous_cancellations</th>\n",
       "      <th>previous_bookings_not_canceled</th>\n",
       "      <th>agent</th>\n",
       "      <th>days_in_waiting_list</th>\n",
       "      <th>adr</th>\n",
       "      <th>required_car_parking_spaces</th>\n",
       "      <th>total_of_special_requests</th>\n",
       "      <th>family</th>\n",
       "    </tr>\n",
       "  </thead>\n",
       "  <tbody>\n",
       "    <tr>\n",
       "      <th>0</th>\n",
       "      <td>0</td>\n",
       "      <td>342</td>\n",
       "      <td>27</td>\n",
       "      <td>1</td>\n",
       "      <td>0</td>\n",
       "      <td>0</td>\n",
       "      <td>0</td>\n",
       "      <td>0</td>\n",
       "      <td>0</td>\n",
       "      <td>0.0</td>\n",
       "      <td>0</td>\n",
       "      <td>0</td>\n",
       "      <td>2.0</td>\n",
       "    </tr>\n",
       "    <tr>\n",
       "      <th>1</th>\n",
       "      <td>0</td>\n",
       "      <td>737</td>\n",
       "      <td>27</td>\n",
       "      <td>1</td>\n",
       "      <td>0</td>\n",
       "      <td>0</td>\n",
       "      <td>0</td>\n",
       "      <td>0</td>\n",
       "      <td>0</td>\n",
       "      <td>0.0</td>\n",
       "      <td>0</td>\n",
       "      <td>0</td>\n",
       "      <td>2.0</td>\n",
       "    </tr>\n",
       "    <tr>\n",
       "      <th>2</th>\n",
       "      <td>0</td>\n",
       "      <td>7</td>\n",
       "      <td>27</td>\n",
       "      <td>1</td>\n",
       "      <td>0</td>\n",
       "      <td>0</td>\n",
       "      <td>0</td>\n",
       "      <td>0</td>\n",
       "      <td>0</td>\n",
       "      <td>75.0</td>\n",
       "      <td>0</td>\n",
       "      <td>0</td>\n",
       "      <td>1.0</td>\n",
       "    </tr>\n",
       "    <tr>\n",
       "      <th>3</th>\n",
       "      <td>0</td>\n",
       "      <td>13</td>\n",
       "      <td>27</td>\n",
       "      <td>1</td>\n",
       "      <td>0</td>\n",
       "      <td>0</td>\n",
       "      <td>0</td>\n",
       "      <td>1</td>\n",
       "      <td>0</td>\n",
       "      <td>75.0</td>\n",
       "      <td>0</td>\n",
       "      <td>0</td>\n",
       "      <td>1.0</td>\n",
       "    </tr>\n",
       "    <tr>\n",
       "      <th>4</th>\n",
       "      <td>0</td>\n",
       "      <td>14</td>\n",
       "      <td>27</td>\n",
       "      <td>1</td>\n",
       "      <td>0</td>\n",
       "      <td>0</td>\n",
       "      <td>0</td>\n",
       "      <td>1</td>\n",
       "      <td>0</td>\n",
       "      <td>98.0</td>\n",
       "      <td>0</td>\n",
       "      <td>1</td>\n",
       "      <td>2.0</td>\n",
       "    </tr>\n",
       "  </tbody>\n",
       "</table>\n",
       "</div>"
      ],
      "text/plain": [
       "   is_canceled  lead_time  arrival_date_week_number  \\\n",
       "0            0        342                        27   \n",
       "1            0        737                        27   \n",
       "2            0          7                        27   \n",
       "3            0         13                        27   \n",
       "4            0         14                        27   \n",
       "\n",
       "   arrival_date_day_of_month  is_repeated_guest  previous_cancellations  \\\n",
       "0                          1                  0                       0   \n",
       "1                          1                  0                       0   \n",
       "2                          1                  0                       0   \n",
       "3                          1                  0                       0   \n",
       "4                          1                  0                       0   \n",
       "\n",
       "   previous_bookings_not_canceled  agent  days_in_waiting_list   adr  \\\n",
       "0                               0      0                     0   0.0   \n",
       "1                               0      0                     0   0.0   \n",
       "2                               0      0                     0  75.0   \n",
       "3                               0      1                     0  75.0   \n",
       "4                               0      1                     0  98.0   \n",
       "\n",
       "   required_car_parking_spaces  total_of_special_requests  family  \n",
       "0                            0                          0     2.0  \n",
       "1                            0                          0     2.0  \n",
       "2                            0                          0     1.0  \n",
       "3                            0                          0     1.0  \n",
       "4                            0                          1     2.0  "
      ]
     },
     "execution_count": 61,
     "metadata": {},
     "output_type": "execute_result"
    }
   ],
   "source": [
    "df_num = df.drop(columns=cat_cols, axis=1)\n",
    "num_cols = df_num.columns\n",
    "df_num.head()"
   ]
  },
  {
   "cell_type": "code",
   "execution_count": 62,
   "id": "fd778086",
   "metadata": {},
   "outputs": [
    {
     "data": {
      "text/plain": [
       "is_canceled                           0.233300\n",
       "lead_time                         11422.361808\n",
       "arrival_date_week_number            184.990111\n",
       "arrival_date_day_of_month            77.107192\n",
       "is_repeated_guest                     0.030507\n",
       "previous_cancellations                0.713887\n",
       "previous_bookings_not_canceled        2.244415\n",
       "agent                                 0.117917\n",
       "days_in_waiting_list                309.689671\n",
       "adr                                2543.589039\n",
       "required_car_parking_spaces           0.060201\n",
       "total_of_special_requests             0.628652\n",
       "family                                0.516783\n",
       "dtype: float64"
      ]
     },
     "execution_count": 62,
     "metadata": {},
     "output_type": "execute_result"
    }
   ],
   "source": [
    "# We need to normalize the data, so that we don't experience a great influence of the variables with higher variance on our data\n",
    "df_num.var()"
   ]
  },
  {
   "cell_type": "code",
   "execution_count": 340,
   "id": "d5fe19c7",
   "metadata": {},
   "outputs": [
    {
     "name": "stderr",
     "output_type": "stream",
     "text": [
      "C:\\Users\\Asus\\anaconda3\\lib\\site-packages\\pandas\\core\\arraylike.py:358: RuntimeWarning:\n",
      "\n",
      "invalid value encountered in log\n",
      "\n"
     ]
    }
   ],
   "source": [
    "# # Normalize the numeric variables that have high variance\n",
    "df_num['lead_time'] = np.log(df_num['lead_time'] + 1)\n",
    "df_num['arrival_date_week_number'] = np.log(df_num['arrival_date_week_number'] + 1)\n",
    "df_num['arrival_date_day_of_month'] = np.log(df_num['arrival_date_day_of_month'] + 1)\n",
    "df_num['adr'] = np.log(df_num['adr'] + 1)"
   ]
  },
  {
   "cell_type": "markdown",
   "id": "d1dcafc0",
   "metadata": {},
   "source": [
    "### Training, validation and test data split:"
   ]
  },
  {
   "cell_type": "code",
   "execution_count": 64,
   "id": "b23ad9ad",
   "metadata": {},
   "outputs": [],
   "source": [
    "# We will use this X for train / test\n",
    "X = pd.concat([df_cat_encoded,df_num], axis=1)\n",
    "X = X.drop('is_canceled', axis=1)\n",
    "y = df['is_canceled']"
   ]
  },
  {
   "cell_type": "code",
   "execution_count": 65,
   "id": "e1213689",
   "metadata": {},
   "outputs": [],
   "source": [
    "# Split the sample into 60 % --> train, 20% ---> test, 20% --> validation\n",
    "X_train, X_test, y_train, y_test = train_test_split(X, y, test_size=0.25, random_state=42, shuffle=True)\n",
    "X_train, X_val, y_train, y_val = train_test_split(X_train, y_train, test_size=0.33, random_state=42, shuffle=True)"
   ]
  },
  {
   "cell_type": "code",
   "execution_count": 66,
   "id": "097d56df",
   "metadata": {},
   "outputs": [],
   "source": [
    "# Prepare Data in an array format:\n",
    "X_train = np.array(X_train)\n",
    "X_val = np.array(X_val)\n",
    "y_train = np.array(y_train)\n",
    "y_val = np.array(y_val)\n",
    "X_test = np.array(X_test)\n",
    "y_test = np.array(y_test)"
   ]
  },
  {
   "cell_type": "code",
   "execution_count": 67,
   "id": "37c90d6a",
   "metadata": {},
   "outputs": [
    {
     "data": {
      "text/plain": [
       "((59902, 19), (29803, 19))"
      ]
     },
     "execution_count": 67,
     "metadata": {},
     "output_type": "execute_result"
    }
   ],
   "source": [
    "X_train.shape, X_test.shape"
   ]
  },
  {
   "cell_type": "markdown",
   "id": "531211b1",
   "metadata": {},
   "source": [
    "# Logistic Regression"
   ]
  },
  {
   "cell_type": "code",
   "execution_count": 214,
   "id": "083b8343",
   "metadata": {},
   "outputs": [
    {
     "name": "stderr",
     "output_type": "stream",
     "text": [
      "C:\\Users\\Asus\\anaconda3\\lib\\site-packages\\sklearn\\linear_model\\_logistic.py:444: ConvergenceWarning:\n",
      "\n",
      "lbfgs failed to converge (status=1):\n",
      "STOP: TOTAL NO. of ITERATIONS REACHED LIMIT.\n",
      "\n",
      "Increase the number of iterations (max_iter) or scale the data as shown in:\n",
      "    https://scikit-learn.org/stable/modules/preprocessing.html\n",
      "Please also refer to the documentation for alternative solver options:\n",
      "    https://scikit-learn.org/stable/modules/linear_model.html#logistic-regression\n",
      "\n"
     ]
    },
    {
     "name": "stdout",
     "output_type": "stream",
     "text": [
      "Accuracy Score of Logistic Regression is : 0.7386840250981445\n",
      "Confusion Matrix : \n",
      "[[16324  2409]\n",
      " [ 5379  5691]]\n",
      "Classification Report : \n",
      "              precision    recall  f1-score   support\n",
      "\n",
      "           0       0.75      0.87      0.81     18733\n",
      "           1       0.70      0.51      0.59     11070\n",
      "\n",
      "    accuracy                           0.74     29803\n",
      "   macro avg       0.73      0.69      0.70     29803\n",
      "weighted avg       0.73      0.74      0.73     29803\n",
      "\n"
     ]
    }
   ],
   "source": [
    "lr = LogisticRegression()\n",
    "lr.fit(X_train, y_train)\n",
    "\n",
    "y_pred_lr = lr.predict(X_test)\n",
    "\n",
    "acc_lr = accuracy_score(y_test, y_pred_lr)\n",
    "conf = confusion_matrix(y_test, y_pred_lr)\n",
    "clf_report = classification_report(y_test, y_pred_lr)\n",
    "\n",
    "print(f\"Accuracy Score of Logistic Regression is : {acc_lr}\")\n",
    "print(f\"Confusion Matrix : \\n{conf}\")\n",
    "print(f\"Classification Report : \\n{clf_report}\")"
   ]
  },
  {
   "cell_type": "code",
   "execution_count": 215,
   "id": "9deecbfc",
   "metadata": {},
   "outputs": [
    {
     "data": {
      "text/plain": [
       "Text(50.72222222222221, 0.5, 'Actual')"
      ]
     },
     "execution_count": 215,
     "metadata": {},
     "output_type": "execute_result"
    },
    {
     "data": {
      "image/png": "[encoded data removed]",
      "text/plain": [
       "<Figure size 640x480 with 2 Axes>"
      ]
     },
     "metadata": {},
     "output_type": "display_data"
    }
   ],
   "source": [
    "mat = confusion_matrix(y_test, y_pred_lr)\n",
    "labels_conf_mat = ['Legitimate', 'Fraudulent']\n",
    "sns.heatmap(mat/np.sum(mat),annot=True, xticklabels=labels_conf_mat, yticklabels=labels_conf_mat)\n",
    "plt.xlabel('Predicted')\n",
    "plt.ylabel('Actual')"
   ]
  },
  {
   "cell_type": "markdown",
   "id": "20b966c3",
   "metadata": {},
   "source": [
    "# KNN - test"
   ]
  },
  {
   "cell_type": "code",
   "execution_count": 216,
   "id": "3f4393ef",
   "metadata": {},
   "outputs": [
    {
     "name": "stdout",
     "output_type": "stream",
     "text": [
      "Accuracy Score of KNN is : 0.756064825688689\n",
      "Confusion Matrix : \n",
      "[[15733  3000]\n",
      " [ 4270  6800]]\n",
      "Classification Report : \n",
      "              precision    recall  f1-score   support\n",
      "\n",
      "           0       0.79      0.84      0.81     18733\n",
      "           1       0.69      0.61      0.65     11070\n",
      "\n",
      "    accuracy                           0.76     29803\n",
      "   macro avg       0.74      0.73      0.73     29803\n",
      "weighted avg       0.75      0.76      0.75     29803\n",
      "\n"
     ]
    }
   ],
   "source": [
    "knn = KNeighborsClassifier()\n",
    "knn.fit(X_train, y_train)\n",
    "\n",
    "y_pred_knn = knn.predict(X_test)\n",
    "\n",
    "acc_knn = accuracy_score(y_test, y_pred_knn)\n",
    "conf = confusion_matrix(y_test, y_pred_knn)\n",
    "clf_report = classification_report(y_test, y_pred_knn)\n",
    "\n",
    "print(f\"Accuracy Score of KNN is : {acc_knn}\")\n",
    "print(f\"Confusion Matrix : \\n{conf}\")\n",
    "print(f\"Classification Report : \\n{clf_report}\")"
   ]
  },
  {
   "cell_type": "code",
   "execution_count": 217,
   "id": "2ab01372",
   "metadata": {},
   "outputs": [
    {
     "data": {
      "text/plain": [
       "Text(50.72222222222221, 0.5, 'Actual')"
      ]
     },
     "execution_count": 217,
     "metadata": {},
     "output_type": "execute_result"
    },
    {
     "data": {
      "image/png": "[encoded data removed]",
      "text/plain": [
       "<Figure size 640x480 with 2 Axes>"
      ]
     },
     "metadata": {},
     "output_type": "display_data"
    }
   ],
   "source": [
    "mat = confusion_matrix(y_test, y_pred_knn)\n",
    "labels_conf_mat = ['Legitimate', 'Fraudulent']\n",
    "sns.heatmap(mat/np.sum(mat),annot=True, xticklabels=labels_conf_mat, yticklabels=labels_conf_mat)\n",
    "plt.xlabel('Predicted')\n",
    "plt.ylabel('Actual')"
   ]
  },
  {
   "cell_type": "markdown",
   "id": "224969fd",
   "metadata": {},
   "source": [
    "## Decisiom Tree Classifier"
   ]
  },
  {
   "cell_type": "code",
   "execution_count": 218,
   "id": "4bf8ca74",
   "metadata": {},
   "outputs": [
    {
     "name": "stdout",
     "output_type": "stream",
     "text": [
      "Accuracy Score of Decision Tree is : 0.8082072274603228\n",
      "Confusion Matrix : \n",
      "[[15813  2920]\n",
      " [ 2796  8274]]\n",
      "Classification Report : \n",
      "              precision    recall  f1-score   support\n",
      "\n",
      "           0       0.85      0.84      0.85     18733\n",
      "           1       0.74      0.75      0.74     11070\n",
      "\n",
      "    accuracy                           0.81     29803\n",
      "   macro avg       0.79      0.80      0.80     29803\n",
      "weighted avg       0.81      0.81      0.81     29803\n",
      "\n"
     ]
    }
   ],
   "source": [
    "dtc = DecisionTreeClassifier()\n",
    "dtc.fit(X_train, y_train)\n",
    "\n",
    "y_pred_dtc = dtc.predict(X_test)\n",
    "\n",
    "acc_dtc = accuracy_score(y_test, y_pred_dtc)\n",
    "conf = confusion_matrix(y_test, y_pred_dtc)\n",
    "clf_report = classification_report(y_test, y_pred_dtc)\n",
    "\n",
    "print(f\"Accuracy Score of Decision Tree is : {acc_dtc}\")\n",
    "print(f\"Confusion Matrix : \\n{conf}\")\n",
    "print(f\"Classification Report : \\n{clf_report}\")"
   ]
  },
  {
   "cell_type": "code",
   "execution_count": 219,
   "id": "7ce6257b",
   "metadata": {},
   "outputs": [
    {
     "data": {
      "text/plain": [
       "Text(50.72222222222221, 0.5, 'Actual')"
      ]
     },
     "execution_count": 219,
     "metadata": {},
     "output_type": "execute_result"
    },
    {
     "data": {
      "image/png": "[encoded data removed]",
      "text/plain": [
       "<Figure size 640x480 with 2 Axes>"
      ]
     },
     "metadata": {},
     "output_type": "display_data"
    }
   ],
   "source": [
    "mat = confusion_matrix(y_test, y_pred_dtc)\n",
    "labels_conf_mat = ['Legitimate', 'Fraudulent']\n",
    "sns.heatmap(mat/np.sum(mat),annot=True, xticklabels=labels_conf_mat, yticklabels=labels_conf_mat)\n",
    "plt.xlabel('Predicted')\n",
    "plt.ylabel('Actual')"
   ]
  },
  {
   "cell_type": "markdown",
   "id": "52926e97",
   "metadata": {},
   "source": []
  },
  {
   "cell_type": "markdown",
   "id": "9d523bc0",
   "metadata": {},
   "source": [
    "# Artificial Neural Network\n",
    "###### we initialize the number of columns, as they will be the input variables to the first layer"
   ]
  },
  {
   "cell_type": "code",
   "execution_count": 74,
   "id": "17c036ae",
   "metadata": {},
   "outputs": [],
   "source": [
    "n_cols = X.shape[1]"
   ]
  },
  {
   "cell_type": "markdown",
   "id": "f1f54ef8",
   "metadata": {},
   "source": [
    "#### Below we perform the training, and here we input the \"best\" parameters"
   ]
  },
  {
   "cell_type": "code",
   "execution_count": 187,
   "id": "23314941",
   "metadata": {},
   "outputs": [],
   "source": [
    "model = Sequential()\n",
    "\n",
    "#Input layer\n",
    "model.add(Dense(n_cols, activation='relu', input_shape=(n_cols,)))\n",
    "\n",
    "#First hidden layer\n",
    "model.add(Dense(192, activation='relu',use_bias=True, bias_initializer='ones'))\n",
    "\n",
    "#Dropout rate - normally 0.2 is suggested\n",
    "model.add(Dropout(0.1))\n",
    "\n",
    "#Second hidden layer\n",
    "model.add(Dense(192, activation='relu',use_bias=True, bias_initializer='ones'))\n",
    "\n",
    "#Dropout rate - normally 0.2 is suggested\n",
    "model.add(Dropout(0.1))\n",
    "\n",
    "model.add(Flatten())\n",
    "\n",
    "#Output layer\n",
    "\n",
    "model.add(Dense(1, activation='sigmoid'))\n",
    "\n",
    "# optimizer \n",
    "adam = Adam(learning_rate=0.001)\n",
    "\n",
    "#first apply the optimizing method adam, mean_squared_error is preferreable for regression  tasks)\n",
    "\n",
    "model.compile(optimizer=adam, loss='binary_crossentropy', metrics=['accuracy'])"
   ]
  },
  {
   "cell_type": "code",
   "execution_count": 188,
   "id": "3043a9ba",
   "metadata": {},
   "outputs": [],
   "source": [
    "# Earlystopping will cut the training when the validation accuracy does not improve in N-consequtive epochs\n",
    "early_stopping = EarlyStopping(\n",
    "    min_delta=0.001, # minimium amount of change to count as an improvement\n",
    "    patience=5, # how many epochs to wait before stopping\n",
    "    restore_best_weights=True)"
   ]
  },
  {
   "cell_type": "code",
   "execution_count": 157,
   "id": "f6c4db87",
   "metadata": {},
   "outputs": [],
   "source": [
    "# #reconstruct the model identically to what we have trained in the Hyperparameter section at the bottom:\n",
    "# reconstructed_model = tf.keras.models.load_model(\"ANN_hotel_model\")"
   ]
  },
  {
   "cell_type": "code",
   "execution_count": 189,
   "id": "c68e98a6",
   "metadata": {},
   "outputs": [
    {
     "name": "stdout",
     "output_type": "stream",
     "text": [
      "Epoch 1/80\n",
      "749/749 [==============================] - 14s 16ms/step - loss: 0.7240 - accuracy: 0.6476 - val_loss: 0.5799 - val_accuracy: 0.6867\n",
      "Epoch 2/80\n",
      "749/749 [==============================] - 12s 15ms/step - loss: 0.5670 - accuracy: 0.6972 - val_loss: 0.5326 - val_accuracy: 0.7187\n",
      "Epoch 3/80\n",
      "749/749 [==============================] - 11s 15ms/step - loss: 0.5269 - accuracy: 0.7321 - val_loss: 0.5034 - val_accuracy: 0.7444\n",
      "Epoch 4/80\n",
      "749/749 [==============================] - 11s 14ms/step - loss: 0.5076 - accuracy: 0.7474 - val_loss: 0.4993 - val_accuracy: 0.7551\n",
      "Epoch 5/80\n",
      "749/749 [==============================] - 11s 14ms/step - loss: 0.5004 - accuracy: 0.7528 - val_loss: 0.5140 - val_accuracy: 0.7398\n",
      "Epoch 6/80\n",
      "749/749 [==============================] - 11s 14ms/step - loss: 0.4931 - accuracy: 0.7560 - val_loss: 0.4821 - val_accuracy: 0.7605\n",
      "Epoch 7/80\n",
      "749/749 [==============================] - 11s 14ms/step - loss: 0.4890 - accuracy: 0.7567 - val_loss: 0.4949 - val_accuracy: 0.7554\n",
      "Epoch 8/80\n",
      "749/749 [==============================] - 11s 15ms/step - loss: 0.4844 - accuracy: 0.7593 - val_loss: 0.4816 - val_accuracy: 0.7675\n",
      "Epoch 9/80\n",
      "749/749 [==============================] - 12s 16ms/step - loss: 0.4797 - accuracy: 0.7636 - val_loss: 0.4685 - val_accuracy: 0.7720\n",
      "Epoch 10/80\n",
      "749/749 [==============================] - 11s 15ms/step - loss: 0.4764 - accuracy: 0.7636 - val_loss: 0.4679 - val_accuracy: 0.7734\n",
      "Epoch 11/80\n",
      "749/749 [==============================] - 11s 15ms/step - loss: 0.4719 - accuracy: 0.7675 - val_loss: 0.4810 - val_accuracy: 0.7524\n",
      "Epoch 12/80\n",
      "749/749 [==============================] - 12s 16ms/step - loss: 0.4701 - accuracy: 0.7670 - val_loss: 0.4949 - val_accuracy: 0.7346\n",
      "Epoch 13/80\n",
      "749/749 [==============================] - 13s 17ms/step - loss: 0.4645 - accuracy: 0.7722 - val_loss: 0.4688 - val_accuracy: 0.7725\n",
      "Epoch 14/80\n",
      "749/749 [==============================] - 16s 21ms/step - loss: 0.4624 - accuracy: 0.7722 - val_loss: 0.4513 - val_accuracy: 0.7814\n",
      "Epoch 15/80\n",
      "749/749 [==============================] - 13s 18ms/step - loss: 0.4590 - accuracy: 0.7759 - val_loss: 0.4520 - val_accuracy: 0.7840\n",
      "Epoch 16/80\n",
      "749/749 [==============================] - 11s 15ms/step - loss: 0.4534 - accuracy: 0.7789 - val_loss: 0.4535 - val_accuracy: 0.7835\n",
      "Epoch 17/80\n",
      "749/749 [==============================] - 11s 15ms/step - loss: 0.4486 - accuracy: 0.7839 - val_loss: 0.4454 - val_accuracy: 0.7864\n",
      "Epoch 18/80\n",
      "749/749 [==============================] - 16s 21ms/step - loss: 0.4451 - accuracy: 0.7855 - val_loss: 0.4518 - val_accuracy: 0.7767\n",
      "Epoch 19/80\n",
      "749/749 [==============================] - 15s 20ms/step - loss: 0.4425 - accuracy: 0.7881 - val_loss: 0.4437 - val_accuracy: 0.7883\n",
      "Epoch 20/80\n",
      "749/749 [==============================] - 14s 18ms/step - loss: 0.4401 - accuracy: 0.7893 - val_loss: 0.4331 - val_accuracy: 0.7902\n",
      "Epoch 21/80\n",
      "749/749 [==============================] - 10s 13ms/step - loss: 0.4372 - accuracy: 0.7901 - val_loss: 0.4409 - val_accuracy: 0.7860\n",
      "Epoch 22/80\n",
      "749/749 [==============================] - 15s 20ms/step - loss: 0.4354 - accuracy: 0.7921 - val_loss: 0.4292 - val_accuracy: 0.7939\n",
      "Epoch 23/80\n",
      "749/749 [==============================] - 14s 19ms/step - loss: 0.4339 - accuracy: 0.7924 - val_loss: 0.4439 - val_accuracy: 0.7856\n",
      "Epoch 24/80\n",
      "749/749 [==============================] - 16s 21ms/step - loss: 0.4327 - accuracy: 0.7921 - val_loss: 0.4547 - val_accuracy: 0.7816\n",
      "Epoch 25/80\n",
      "749/749 [==============================] - 10s 14ms/step - loss: 0.4289 - accuracy: 0.7942 - val_loss: 0.4275 - val_accuracy: 0.7973\n",
      "Epoch 26/80\n",
      "749/749 [==============================] - 11s 14ms/step - loss: 0.4278 - accuracy: 0.7952 - val_loss: 0.4263 - val_accuracy: 0.7959\n",
      "Epoch 27/80\n",
      "749/749 [==============================] - 11s 15ms/step - loss: 0.4250 - accuracy: 0.7965 - val_loss: 0.4270 - val_accuracy: 0.7979\n",
      "Epoch 28/80\n",
      "749/749 [==============================] - 10s 14ms/step - loss: 0.4224 - accuracy: 0.7986 - val_loss: 0.4233 - val_accuracy: 0.7958\n",
      "Epoch 29/80\n",
      "749/749 [==============================] - 10s 14ms/step - loss: 0.4208 - accuracy: 0.7999 - val_loss: 0.4243 - val_accuracy: 0.7984\n",
      "Epoch 30/80\n",
      "749/749 [==============================] - 10s 14ms/step - loss: 0.4187 - accuracy: 0.8004 - val_loss: 0.4222 - val_accuracy: 0.8000\n",
      "Epoch 31/80\n",
      "749/749 [==============================] - 10s 13ms/step - loss: 0.4188 - accuracy: 0.8001 - val_loss: 0.4206 - val_accuracy: 0.8017\n",
      "Epoch 32/80\n",
      "749/749 [==============================] - 10s 13ms/step - loss: 0.4163 - accuracy: 0.8025 - val_loss: 0.4452 - val_accuracy: 0.7792\n",
      "Epoch 33/80\n",
      "749/749 [==============================] - 10s 13ms/step - loss: 0.4171 - accuracy: 0.8002 - val_loss: 0.4193 - val_accuracy: 0.7994\n",
      "Epoch 34/80\n",
      "749/749 [==============================] - 11s 14ms/step - loss: 0.4128 - accuracy: 0.8031 - val_loss: 0.4249 - val_accuracy: 0.7972\n",
      "Epoch 35/80\n",
      "749/749 [==============================] - 12s 15ms/step - loss: 0.4124 - accuracy: 0.8042 - val_loss: 0.4249 - val_accuracy: 0.7982\n",
      "Epoch 36/80\n",
      "749/749 [==============================] - 9s 12ms/step - loss: 0.4101 - accuracy: 0.8037 - val_loss: 0.4235 - val_accuracy: 0.7952\n",
      "Epoch 37/80\n",
      "749/749 [==============================] - 9s 13ms/step - loss: 0.4075 - accuracy: 0.8061 - val_loss: 0.4166 - val_accuracy: 0.8045\n",
      "Epoch 38/80\n",
      "749/749 [==============================] - 9s 13ms/step - loss: 0.4075 - accuracy: 0.8056 - val_loss: 0.4192 - val_accuracy: 0.7999\n",
      "Epoch 39/80\n",
      "749/749 [==============================] - 13s 17ms/step - loss: 0.4083 - accuracy: 0.8054 - val_loss: 0.4119 - val_accuracy: 0.8032\n",
      "Epoch 40/80\n",
      "749/749 [==============================] - 14s 19ms/step - loss: 0.4057 - accuracy: 0.8075 - val_loss: 0.4173 - val_accuracy: 0.8042\n",
      "Epoch 41/80\n",
      "749/749 [==============================] - 11s 15ms/step - loss: 0.4039 - accuracy: 0.8083 - val_loss: 0.4261 - val_accuracy: 0.7975\n",
      "Epoch 42/80\n",
      "749/749 [==============================] - 11s 15ms/step - loss: 0.4033 - accuracy: 0.8068 - val_loss: 0.4137 - val_accuracy: 0.8035\n",
      "Epoch 43/80\n",
      "749/749 [==============================] - 11s 15ms/step - loss: 0.3996 - accuracy: 0.8101 - val_loss: 0.4162 - val_accuracy: 0.8070\n",
      "Epoch 44/80\n",
      "749/749 [==============================] - 11s 15ms/step - loss: 0.4019 - accuracy: 0.8090 - val_loss: 0.4101 - val_accuracy: 0.8077\n",
      "Epoch 45/80\n",
      "749/749 [==============================] - 10s 13ms/step - loss: 0.3991 - accuracy: 0.8093 - val_loss: 0.4096 - val_accuracy: 0.8065\n",
      "Epoch 46/80\n",
      "749/749 [==============================] - 9s 13ms/step - loss: 0.3967 - accuracy: 0.8109 - val_loss: 0.4151 - val_accuracy: 0.8026\n",
      "Epoch 47/80\n",
      "749/749 [==============================] - 9s 12ms/step - loss: 0.3967 - accuracy: 0.8124 - val_loss: 0.4080 - val_accuracy: 0.8123\n",
      "Epoch 48/80\n",
      "749/749 [==============================] - 9s 13ms/step - loss: 0.3964 - accuracy: 0.8112 - val_loss: 0.4059 - val_accuracy: 0.8092\n",
      "Epoch 49/80\n",
      "749/749 [==============================] - 9s 13ms/step - loss: 0.3938 - accuracy: 0.8135 - val_loss: 0.4063 - val_accuracy: 0.8095\n",
      "Epoch 50/80\n",
      "749/749 [==============================] - 9s 12ms/step - loss: 0.3938 - accuracy: 0.8126 - val_loss: 0.4111 - val_accuracy: 0.8080\n",
      "Epoch 51/80\n",
      "749/749 [==============================] - 9s 13ms/step - loss: 0.3937 - accuracy: 0.8135 - val_loss: 0.4173 - val_accuracy: 0.8048\n",
      "Epoch 52/80\n",
      "749/749 [==============================] - 9s 12ms/step - loss: 0.3911 - accuracy: 0.8140 - val_loss: 0.4071 - val_accuracy: 0.8096\n",
      "Epoch 53/80\n",
      "749/749 [==============================] - 9s 12ms/step - loss: 0.3912 - accuracy: 0.8140 - val_loss: 0.4060 - val_accuracy: 0.8085\n"
     ]
    },
    {
     "data": {
      "text/plain": [
       "<keras.callbacks.History at 0x1ee4c37ae80>"
      ]
     },
     "execution_count": 189,
     "metadata": {},
     "output_type": "execute_result"
    }
   ],
   "source": [
    "model.fit(X_train,y_train,\n",
    "              validation_data=(X_val,y_val),\n",
    "              callbacks=[early_stopping],\n",
    "              batch_size=80,\n",
    "              epochs=80)"
   ]
  },
  {
   "cell_type": "code",
   "execution_count": 190,
   "id": "24c14f11",
   "metadata": {},
   "outputs": [
    {
     "name": "stdout",
     "output_type": "stream",
     "text": [
      "\n",
      "val_accuracy is: 78.54%\n"
     ]
    }
   ],
   "source": [
    "val_accuracy = np.mean(model.history.history['val_accuracy'])\n",
    "print(\"\\n%s: %.2f%%\" % ('val_accuracy is', val_accuracy*100))"
   ]
  },
  {
   "cell_type": "code",
   "execution_count": 191,
   "id": "cc85c650",
   "metadata": {},
   "outputs": [
    {
     "name": "stdout",
     "output_type": "stream",
     "text": [
      "Model: \"sequential_17\"\n",
      "_________________________________________________________________\n",
      " Layer (type)                Output Shape              Param #   \n",
      "=================================================================\n",
      " dense_80 (Dense)            (None, 19)                380       \n",
      "                                                                 \n",
      " dense_81 (Dense)            (None, 192)               3840      \n",
      "                                                                 \n",
      " dropout_40 (Dropout)        (None, 192)               0         \n",
      "                                                                 \n",
      " dense_82 (Dense)            (None, 192)               37056     \n",
      "                                                                 \n",
      " dropout_41 (Dropout)        (None, 192)               0         \n",
      "                                                                 \n",
      " flatten_20 (Flatten)        (None, 192)               0         \n",
      "                                                                 \n",
      " dense_83 (Dense)            (None, 1)                 193       \n",
      "                                                                 \n",
      "=================================================================\n",
      "Total params: 41,469\n",
      "Trainable params: 41,469\n",
      "Non-trainable params: 0\n",
      "_________________________________________________________________\n"
     ]
    }
   ],
   "source": [
    "model.summary()"
   ]
  },
  {
   "cell_type": "code",
   "execution_count": 192,
   "id": "d9af0421",
   "metadata": {},
   "outputs": [
    {
     "data": {
      "text/plain": [
       "Index(['loss', 'accuracy', 'val_loss', 'val_accuracy'], dtype='object')"
      ]
     },
     "execution_count": 192,
     "metadata": {},
     "output_type": "execute_result"
    }
   ],
   "source": [
    "loss_df = pd.DataFrame(model.history.history)\n",
    "loss_df.columns"
   ]
  },
  {
   "cell_type": "code",
   "execution_count": 202,
   "id": "519dcb03",
   "metadata": {},
   "outputs": [],
   "source": [
    "model_loss = loss_df['loss']\n",
    "model_validation_loss = loss_df['val_loss']\n",
    "model_accuracy = loss_df['accuracy']\n",
    "model_validation_accuracy = loss_df['val_accuracy']\n",
    "epochs = range(1, len(model_accuracy) + 1)"
   ]
  },
  {
   "cell_type": "code",
   "execution_count": 203,
   "id": "8ec435bf",
   "metadata": {},
   "outputs": [
    {
     "data": {
      "text/plain": [
       "[]"
      ]
     },
     "execution_count": 203,
     "metadata": {},
     "output_type": "execute_result"
    },
    {
     "data": {
      "image/png": "[encoded data removed]",
      "text/plain": [
       "<Figure size 640x480 with 1 Axes>"
      ]
     },
     "metadata": {},
     "output_type": "display_data"
    }
   ],
   "source": [
    "plt.plot(epochs, model_loss, '-', label='Training loss')\n",
    "plt.plot(epochs, model_validation_loss, ':', label='Validation loss')\n",
    "plt.title('Training and Validation Loss')\n",
    "plt.xlabel('Epoch')\n",
    "plt.ylabel('Loss')\n",
    "plt.legend(loc='upper right')\n",
    "plt.savefig('Loss.png')\n",
    "plt.plot()"
   ]
  },
  {
   "cell_type": "code",
   "execution_count": 205,
   "id": "a13678d1",
   "metadata": {},
   "outputs": [
    {
     "data": {
      "text/plain": [
       "[]"
      ]
     },
     "execution_count": 205,
     "metadata": {},
     "output_type": "execute_result"
    },
    {
     "data": {
      "image/png": "[encoded data removed]",
      "text/plain": [
       "<Figure size 640x480 with 1 Axes>"
      ]
     },
     "metadata": {},
     "output_type": "display_data"
    }
   ],
   "source": [
    "plt.plot(epochs, model_accuracy, '-', label='Training accuracy')\n",
    "plt.plot(epochs, model_validation_accuracy, ':', label='Validation accuracy')\n",
    "plt.title('Training and Validation Accuracy')\n",
    "plt.xlabel('Epoch')\n",
    "plt.ylabel('Accuracy')\n",
    "plt.legend(loc='best')\n",
    "plt.savefig('accuracy.png')\n",
    "plt.plot()"
   ]
  },
  {
   "cell_type": "markdown",
   "id": "2f56ee95",
   "metadata": {},
   "source": [
    "### Evaluation of the DATA"
   ]
  },
  {
   "cell_type": "code",
   "execution_count": 206,
   "id": "b197e265",
   "metadata": {},
   "outputs": [
    {
     "name": "stdout",
     "output_type": "stream",
     "text": [
      "932/932 [==============================] - 2s 2ms/step\n"
     ]
    }
   ],
   "source": [
    "y_pred = model.predict(X_test)"
   ]
  },
  {
   "cell_type": "code",
   "execution_count": 207,
   "id": "36dc5c8e",
   "metadata": {},
   "outputs": [],
   "source": [
    "# Turn the prediction variable into binary\n",
    "y_pred = (y_pred > 0.5)"
   ]
  },
  {
   "cell_type": "code",
   "execution_count": 208,
   "id": "d824c2b3",
   "metadata": {},
   "outputs": [
    {
     "name": "stdout",
     "output_type": "stream",
     "text": [
      "MAE: 0.1908868234741469\n",
      "MSE: 0.1908868234741469\n",
      "RMSE: 0.4369059663979732\n",
      "VarScore: 0.19949786451369023\n"
     ]
    }
   ],
   "source": [
    "from sklearn import metrics\n",
    "print('MAE:', metrics.mean_absolute_error(y_test, y_pred))  \n",
    "print('MSE:', metrics.mean_squared_error(y_test, y_pred))  \n",
    "print('RMSE:', np.sqrt(metrics.mean_squared_error(y_test, y_pred)))\n",
    "print('VarScore:',metrics.explained_variance_score(y_test,y_pred))"
   ]
  },
  {
   "cell_type": "code",
   "execution_count": 209,
   "id": "094b302f",
   "metadata": {},
   "outputs": [
    {
     "data": {
      "text/plain": [
       "0.8091131765258531"
      ]
     },
     "execution_count": 209,
     "metadata": {},
     "output_type": "execute_result"
    }
   ],
   "source": [
    "# Accuracy of the model\n",
    "accuracy_score(y_test, y_pred)"
   ]
  },
  {
   "cell_type": "code",
   "execution_count": 212,
   "id": "cb52d25b",
   "metadata": {},
   "outputs": [
    {
     "data": {
      "text/plain": [
       "<Figure size 1200x600 with 0 Axes>"
      ]
     },
     "metadata": {},
     "output_type": "display_data"
    }
   ],
   "source": [
    "plt.figure(figsize = (12, 6))\n",
    "\n",
    "epoch = range(1, len(model_accuracy) + 1)\n",
    "\n",
    "loss = pd.DataFrame({'train_loss' : model_accuracy, 'val_loss' : model_validation_accuracy})\n",
    "\n",
    "px.line(data_frame = loss, x = epoch, y = ['val_loss', 'train_loss'], title = 'Training and Validation Accuracy',\n",
    "        template = 'plotly_dark')\n",
    "plt.savefig(\"TrainValAccuracy\")"
   ]
  },
  {
   "cell_type": "markdown",
   "id": "ccc8036c",
   "metadata": {},
   "source": [
    "#### Confustion MATRIX to vizualize performance of the model during testing"
   ]
  },
  {
   "cell_type": "code",
   "execution_count": 213,
   "id": "e13d01c1",
   "metadata": {},
   "outputs": [
    {
     "data": {
      "text/plain": [
       "[]"
      ]
     },
     "execution_count": 213,
     "metadata": {},
     "output_type": "execute_result"
    },
    {
     "data": {
      "image/png": "[encoded data removed]",
      "text/plain": [
       "<Figure size 640x480 with 2 Axes>"
      ]
     },
     "metadata": {},
     "output_type": "display_data"
    }
   ],
   "source": [
    "mat = confusion_matrix(y_test, y_pred)\n",
    "labels_conf_mat = ['Legitimate', 'Fraudulent']\n",
    "sns.heatmap(mat/np.sum(mat),annot=True, xticklabels=labels_conf_mat, yticklabels=labels_conf_mat)\n",
    "plt.xlabel('Predicted')\n",
    "plt.ylabel('Actual')\n",
    "plt.savefig('matrix.png')\n",
    "plt.plot()"
   ]
  },
  {
   "cell_type": "markdown",
   "id": "7be086fe",
   "metadata": {},
   "source": [
    "## GridSearch for the batch and epoch hyperparameters"
   ]
  },
  {
   "cell_type": "code",
   "execution_count": 178,
   "id": "c1b60cdc",
   "metadata": {},
   "outputs": [],
   "source": [
    "batch = [20,30,50,80]\n",
    "epochs = [20,30,40,50]\n",
    "params_grid = dict(batch_size=batch, epochs=epochs)"
   ]
  },
  {
   "cell_type": "code",
   "execution_count": 171,
   "id": "e0a3ba2c",
   "metadata": {},
   "outputs": [],
   "source": [
    "kf = KFold(n_splits=10, shuffle=True,random_state=42)"
   ]
  },
  {
   "cell_type": "code",
   "execution_count": 173,
   "id": "e221b3c0",
   "metadata": {},
   "outputs": [],
   "source": [
    "ann_mod = KerasClassifier(build_fn=ann_model_func, verbose = 1)"
   ]
  },
  {
   "cell_type": "code",
   "execution_count": 179,
   "id": "37716ade",
   "metadata": {},
   "outputs": [
    {
     "name": "stdout",
     "output_type": "stream",
     "text": [
      "Fitting 10 folds for each of 16 candidates, totalling 160 fits\n",
      "Epoch 1/20\n"
     ]
    },
    {
     "name": "stderr",
     "output_type": "stream",
     "text": [
      "C:\\Users\\Asus\\anaconda3\\lib\\site-packages\\scikeras\\wrappers.py:301: UserWarning: ``build_fn`` will be renamed to ``model`` in a future release, at which point use of ``build_fn`` will raise an Error instead.\n",
      "  warnings.warn(\n"
     ]
    },
    {
     "name": "stdout",
     "output_type": "stream",
     "text": [
      "2696/2696 [==============================] - 15s 5ms/step - loss: 0.6459 - accuracy: 0.6598\n",
      "Epoch 2/20\n",
      "2696/2696 [==============================] - 17s 6ms/step - loss: 0.5439 - accuracy: 0.7191\n",
      "Epoch 3/20\n",
      "2696/2696 [==============================] - 17s 6ms/step - loss: 0.5122 - accuracy: 0.7460\n",
      "Epoch 4/20\n",
      "2696/2696 [==============================] - 15s 6ms/step - loss: 0.4979 - accuracy: 0.7558\n",
      "Epoch 5/20\n",
      "2696/2696 [==============================] - 14s 5ms/step - loss: 0.4878 - accuracy: 0.7598\n",
      "Epoch 6/20\n",
      "2696/2696 [==============================] - 14s 5ms/step - loss: 0.4811 - accuracy: 0.7643\n",
      "Epoch 7/20\n",
      "2696/2696 [==============================] - 15s 6ms/step - loss: 0.4725 - accuracy: 0.7670\n",
      "Epoch 8/20\n",
      "2696/2696 [==============================] - 14s 5ms/step - loss: 0.4661 - accuracy: 0.7708\n",
      "Epoch 9/20\n",
      "2696/2696 [==============================] - 16s 6ms/step - loss: 0.4612 - accuracy: 0.7754\n",
      "Epoch 10/20\n",
      "2696/2696 [==============================] - 15s 6ms/step - loss: 0.4558 - accuracy: 0.7796\n",
      "Epoch 11/20\n",
      "2696/2696 [==============================] - 14s 5ms/step - loss: 0.4536 - accuracy: 0.7808\n",
      "Epoch 12/20\n",
      "2696/2696 [==============================] - 14s 5ms/step - loss: 0.4488 - accuracy: 0.7853\n",
      "Epoch 13/20\n",
      "2696/2696 [==============================] - 14s 5ms/step - loss: 0.4458 - accuracy: 0.7870\n",
      "Epoch 14/20\n",
      "2696/2696 [==============================] - 14s 5ms/step - loss: 0.4431 - accuracy: 0.7865\n",
      "Epoch 15/20\n",
      "2696/2696 [==============================] - 14s 5ms/step - loss: 0.4406 - accuracy: 0.7904\n",
      "Epoch 16/20\n",
      "2696/2696 [==============================] - 13s 5ms/step - loss: 0.4399 - accuracy: 0.7902\n",
      "Epoch 17/20\n",
      "2696/2696 [==============================] - 13s 5ms/step - loss: 0.4362 - accuracy: 0.7916\n",
      "Epoch 18/20\n",
      "2696/2696 [==============================] - 12s 5ms/step - loss: 0.4365 - accuracy: 0.7925\n",
      "Epoch 19/20\n",
      "2696/2696 [==============================] - 14s 5ms/step - loss: 0.4335 - accuracy: 0.7915\n",
      "Epoch 20/20\n",
      "2696/2696 [==============================] - 15s 6ms/step - loss: 0.4322 - accuracy: 0.7921\n",
      "300/300 [==============================] - 1s 2ms/step\n",
      "Epoch 1/20\n"
     ]
    },
    {
     "name": "stderr",
     "output_type": "stream",
     "text": [
      "C:\\Users\\Asus\\anaconda3\\lib\\site-packages\\scikeras\\wrappers.py:301: UserWarning: ``build_fn`` will be renamed to ``model`` in a future release, at which point use of ``build_fn`` will raise an Error instead.\n",
      "  warnings.warn(\n"
     ]
    },
    {
     "name": "stdout",
     "output_type": "stream",
     "text": [
      "2696/2696 [==============================] - 14s 5ms/step - loss: 0.6436 - accuracy: 0.6618\n",
      "Epoch 2/20\n",
      "2696/2696 [==============================] - 13s 5ms/step - loss: 0.5388 - accuracy: 0.7271\n",
      "Epoch 3/20\n",
      "2696/2696 [==============================] - 17s 6ms/step - loss: 0.5110 - accuracy: 0.7479\n",
      "Epoch 4/20\n",
      "2696/2696 [==============================] - 15s 6ms/step - loss: 0.4978 - accuracy: 0.7549\n",
      "Epoch 5/20\n",
      "2696/2696 [==============================] - 13s 5ms/step - loss: 0.4855 - accuracy: 0.7644\n",
      "Epoch 6/20\n",
      "2696/2696 [==============================] - 14s 5ms/step - loss: 0.4753 - accuracy: 0.7698\n",
      "Epoch 7/20\n",
      "2696/2696 [==============================] - 16s 6ms/step - loss: 0.4636 - accuracy: 0.7767\n",
      "Epoch 8/20\n",
      "2696/2696 [==============================] - 14s 5ms/step - loss: 0.4589 - accuracy: 0.7801\n",
      "Epoch 9/20\n",
      "2696/2696 [==============================] - 16s 6ms/step - loss: 0.4520 - accuracy: 0.7824\n",
      "Epoch 10/20\n",
      "2696/2696 [==============================] - 19s 7ms/step - loss: 0.4486 - accuracy: 0.7853\n",
      "Epoch 11/20\n",
      "2696/2696 [==============================] - 16s 6ms/step - loss: 0.4444 - accuracy: 0.7888\n",
      "Epoch 12/20\n",
      "2696/2696 [==============================] - 14s 5ms/step - loss: 0.4408 - accuracy: 0.7904\n",
      "Epoch 13/20\n",
      "2696/2696 [==============================] - 15s 6ms/step - loss: 0.4383 - accuracy: 0.7912\n",
      "Epoch 14/20\n",
      "2696/2696 [==============================] - 15s 5ms/step - loss: 0.4361 - accuracy: 0.7913\n",
      "Epoch 15/20\n",
      "2696/2696 [==============================] - 14s 5ms/step - loss: 0.4340 - accuracy: 0.7929\n",
      "Epoch 16/20\n",
      "2696/2696 [==============================] - 14s 5ms/step - loss: 0.4328 - accuracy: 0.7946\n",
      "Epoch 17/20\n",
      "2696/2696 [==============================] - 14s 5ms/step - loss: 0.4305 - accuracy: 0.7961\n",
      "Epoch 18/20\n",
      "2696/2696 [==============================] - 14s 5ms/step - loss: 0.4288 - accuracy: 0.7963\n",
      "Epoch 19/20\n",
      "2696/2696 [==============================] - 13s 5ms/step - loss: 0.4280 - accuracy: 0.7969\n",
      "Epoch 20/20\n",
      "2696/2696 [==============================] - 15s 5ms/step - loss: 0.4261 - accuracy: 0.7974\n",
      "300/300 [==============================] - 1s 3ms/step\n"
     ]
    },
    {
     "name": "stderr",
     "output_type": "stream",
     "text": [
      "C:\\Users\\Asus\\anaconda3\\lib\\site-packages\\scikeras\\wrappers.py:301: UserWarning: ``build_fn`` will be renamed to ``model`` in a future release, at which point use of ``build_fn`` will raise an Error instead.\n",
      "  warnings.warn(\n"
     ]
    },
    {
     "name": "stdout",
     "output_type": "stream",
     "text": [
      "Epoch 1/20\n",
      "2696/2696 [==============================] - 15s 5ms/step - loss: 0.6391 - accuracy: 0.6610\n",
      "Epoch 2/20\n",
      "2696/2696 [==============================] - 14s 5ms/step - loss: 0.5387 - accuracy: 0.7243\n",
      "Epoch 3/20\n",
      "2696/2696 [==============================] - 13s 5ms/step - loss: 0.5117 - accuracy: 0.7456\n",
      "Epoch 4/20\n",
      "2696/2696 [==============================] - 14s 5ms/step - loss: 0.5024 - accuracy: 0.7512\n",
      "Epoch 5/20\n",
      "2696/2696 [==============================] - 14s 5ms/step - loss: 0.4934 - accuracy: 0.7548\n",
      "Epoch 6/20\n",
      "2696/2696 [==============================] - 14s 5ms/step - loss: 0.4849 - accuracy: 0.7607\n",
      "Epoch 7/20\n",
      "2696/2696 [==============================] - 14s 5ms/step - loss: 0.4780 - accuracy: 0.7641\n",
      "Epoch 8/20\n",
      "2696/2696 [==============================] - 14s 5ms/step - loss: 0.4711 - accuracy: 0.7682\n",
      "Epoch 9/20\n",
      "2696/2696 [==============================] - 14s 5ms/step - loss: 0.4619 - accuracy: 0.7751\n",
      "Epoch 10/20\n",
      "2696/2696 [==============================] - 14s 5ms/step - loss: 0.4552 - accuracy: 0.7811\n",
      "Epoch 11/20\n",
      "2696/2696 [==============================] - 18s 7ms/step - loss: 0.4501 - accuracy: 0.7843\n",
      "Epoch 12/20\n",
      "2696/2696 [==============================] - 18s 7ms/step - loss: 0.4461 - accuracy: 0.7867\n",
      "Epoch 13/20\n",
      "2696/2696 [==============================] - 18s 7ms/step - loss: 0.4437 - accuracy: 0.7878\n",
      "Epoch 14/20\n",
      "2696/2696 [==============================] - 15s 6ms/step - loss: 0.4390 - accuracy: 0.7905\n",
      "Epoch 15/20\n",
      "2696/2696 [==============================] - 14s 5ms/step - loss: 0.4371 - accuracy: 0.7924\n",
      "Epoch 16/20\n",
      "2696/2696 [==============================] - 16s 6ms/step - loss: 0.4346 - accuracy: 0.7932\n",
      "Epoch 17/20\n",
      "2696/2696 [==============================] - 24s 9ms/step - loss: 0.4317 - accuracy: 0.7935\n",
      "Epoch 18/20\n",
      "2696/2696 [==============================] - 19s 7ms/step - loss: 0.4318 - accuracy: 0.7950\n",
      "Epoch 19/20\n",
      "2696/2696 [==============================] - 17s 6ms/step - loss: 0.4304 - accuracy: 0.7956\n",
      "Epoch 20/20\n",
      "2696/2696 [==============================] - 15s 6ms/step - loss: 0.4263 - accuracy: 0.7971\n",
      "300/300 [==============================] - 1s 3ms/step\n"
     ]
    },
    {
     "name": "stderr",
     "output_type": "stream",
     "text": [
      "C:\\Users\\Asus\\anaconda3\\lib\\site-packages\\scikeras\\wrappers.py:301: UserWarning: ``build_fn`` will be renamed to ``model`` in a future release, at which point use of ``build_fn`` will raise an Error instead.\n",
      "  warnings.warn(\n"
     ]
    },
    {
     "name": "stdout",
     "output_type": "stream",
     "text": [
      "Epoch 1/20\n",
      "2696/2696 [==============================] - 24s 7ms/step - loss: 0.6651 - accuracy: 0.6569\n",
      "Epoch 2/20\n",
      "2696/2696 [==============================] - 17s 6ms/step - loss: 0.5596 - accuracy: 0.7074\n",
      "Epoch 3/20\n",
      "2696/2696 [==============================] - 14s 5ms/step - loss: 0.5192 - accuracy: 0.7395\n",
      "Epoch 4/20\n",
      "2696/2696 [==============================] - 15s 6ms/step - loss: 0.5038 - accuracy: 0.7503\n",
      "Epoch 5/20\n",
      "2696/2696 [==============================] - 17s 6ms/step - loss: 0.4973 - accuracy: 0.7549\n",
      "Epoch 6/20\n",
      "2696/2696 [==============================] - 22s 8ms/step - loss: 0.4893 - accuracy: 0.7589\n",
      "Epoch 7/20\n",
      "2696/2696 [==============================] - 17s 6ms/step - loss: 0.4848 - accuracy: 0.7627\n",
      "Epoch 8/20\n",
      "2696/2696 [==============================] - 18s 7ms/step - loss: 0.4820 - accuracy: 0.7632\n",
      "Epoch 9/20\n",
      "2696/2696 [==============================] - 19s 7ms/step - loss: 0.4757 - accuracy: 0.7686\n",
      "Epoch 10/20\n",
      "2696/2696 [==============================] - 15s 6ms/step - loss: 0.4668 - accuracy: 0.7744\n",
      "Epoch 11/20\n",
      "2696/2696 [==============================] - 17s 6ms/step - loss: 0.4618 - accuracy: 0.7801\n",
      "Epoch 12/20\n",
      "2696/2696 [==============================] - 16s 6ms/step - loss: 0.4574 - accuracy: 0.7785\n",
      "Epoch 13/20\n",
      "2696/2696 [==============================] - 18s 7ms/step - loss: 0.4517 - accuracy: 0.7835\n",
      "Epoch 14/20\n",
      "2696/2696 [==============================] - 18s 7ms/step - loss: 0.4511 - accuracy: 0.7846\n",
      "Epoch 15/20\n",
      "2696/2696 [==============================] - 16s 6ms/step - loss: 0.4457 - accuracy: 0.7871\n",
      "Epoch 16/20\n",
      "2696/2696 [==============================] - 17s 6ms/step - loss: 0.4432 - accuracy: 0.7873\n",
      "Epoch 17/20\n",
      "2696/2696 [==============================] - 17s 6ms/step - loss: 0.4412 - accuracy: 0.7891\n",
      "Epoch 18/20\n",
      "2696/2696 [==============================] - 16s 6ms/step - loss: 0.4375 - accuracy: 0.7909\n",
      "Epoch 19/20\n",
      "2696/2696 [==============================] - 15s 6ms/step - loss: 0.4357 - accuracy: 0.7927\n",
      "Epoch 20/20\n",
      "2696/2696 [==============================] - 17s 6ms/step - loss: 0.4340 - accuracy: 0.7930\n",
      "300/300 [==============================] - 1s 2ms/step\n",
      "Epoch 1/20\n"
     ]
    },
    {
     "name": "stderr",
     "output_type": "stream",
     "text": [
      "C:\\Users\\Asus\\anaconda3\\lib\\site-packages\\scikeras\\wrappers.py:301: UserWarning: ``build_fn`` will be renamed to ``model`` in a future release, at which point use of ``build_fn`` will raise an Error instead.\n",
      "  warnings.warn(\n"
     ]
    },
    {
     "name": "stdout",
     "output_type": "stream",
     "text": [
      "2696/2696 [==============================] - 17s 6ms/step - loss: 0.6346 - accuracy: 0.6632\n",
      "Epoch 2/20\n",
      "2696/2696 [==============================] - 15s 6ms/step - loss: 0.5331 - accuracy: 0.7318\n",
      "Epoch 3/20\n",
      "2696/2696 [==============================] - 14s 5ms/step - loss: 0.5008 - accuracy: 0.7526\n",
      "Epoch 4/20\n",
      "2696/2696 [==============================] - 14s 5ms/step - loss: 0.4856 - accuracy: 0.7600\n",
      "Epoch 5/20\n",
      "2696/2696 [==============================] - 19s 7ms/step - loss: 0.4743 - accuracy: 0.7688\n",
      "Epoch 6/20\n",
      "2696/2696 [==============================] - 13s 5ms/step - loss: 0.4656 - accuracy: 0.7743\n",
      "Epoch 7/20\n",
      "2696/2696 [==============================] - 17s 6ms/step - loss: 0.4585 - accuracy: 0.7782\n",
      "Epoch 8/20\n",
      "2696/2696 [==============================] - 15s 5ms/step - loss: 0.4524 - accuracy: 0.7807\n",
      "Epoch 9/20\n",
      "2696/2696 [==============================] - 17s 6ms/step - loss: 0.4497 - accuracy: 0.7829\n",
      "Epoch 10/20\n",
      "2696/2696 [==============================] - 16s 6ms/step - loss: 0.4443 - accuracy: 0.7883\n",
      "Epoch 11/20\n",
      "2696/2696 [==============================] - 16s 6ms/step - loss: 0.4434 - accuracy: 0.7870\n",
      "Epoch 12/20\n",
      "2696/2696 [==============================] - 21s 8ms/step - loss: 0.4393 - accuracy: 0.7889\n",
      "Epoch 13/20\n",
      "2696/2696 [==============================] - 19s 7ms/step - loss: 0.4392 - accuracy: 0.7897\n",
      "Epoch 14/20\n",
      "2696/2696 [==============================] - 24s 9ms/step - loss: 0.4365 - accuracy: 0.7901\n",
      "Epoch 15/20\n",
      "2696/2696 [==============================] - 18s 7ms/step - loss: 0.4347 - accuracy: 0.7923\n",
      "Epoch 16/20\n",
      "2696/2696 [==============================] - 16s 6ms/step - loss: 0.4309 - accuracy: 0.7950\n",
      "Epoch 17/20\n",
      "2696/2696 [==============================] - 16s 6ms/step - loss: 0.4291 - accuracy: 0.7938\n",
      "Epoch 18/20\n",
      "2696/2696 [==============================] - 14s 5ms/step - loss: 0.4332 - accuracy: 0.7923\n",
      "Epoch 19/20\n",
      "2696/2696 [==============================] - 16s 6ms/step - loss: 0.4270 - accuracy: 0.7973\n",
      "Epoch 20/20\n",
      "2696/2696 [==============================] - 14s 5ms/step - loss: 0.4275 - accuracy: 0.7960\n",
      "300/300 [==============================] - 1s 2ms/step\n",
      "Epoch 1/20\n"
     ]
    },
    {
     "name": "stderr",
     "output_type": "stream",
     "text": [
      "C:\\Users\\Asus\\anaconda3\\lib\\site-packages\\scikeras\\wrappers.py:301: UserWarning: ``build_fn`` will be renamed to ``model`` in a future release, at which point use of ``build_fn`` will raise an Error instead.\n",
      "  warnings.warn(\n"
     ]
    },
    {
     "name": "stdout",
     "output_type": "stream",
     "text": [
      "2696/2696 [==============================] - 17s 6ms/step - loss: 0.6297 - accuracy: 0.6664\n",
      "Epoch 2/20\n",
      "2696/2696 [==============================] - 19s 7ms/step - loss: 0.5315 - accuracy: 0.7344\n",
      "Epoch 3/20\n",
      "2696/2696 [==============================] - 17s 6ms/step - loss: 0.5036 - accuracy: 0.7533\n",
      "Epoch 4/20\n",
      "2696/2696 [==============================] - 16s 6ms/step - loss: 0.4901 - accuracy: 0.7594\n",
      "Epoch 5/20\n",
      "2696/2696 [==============================] - 17s 6ms/step - loss: 0.4800 - accuracy: 0.7654\n",
      "Epoch 6/20\n",
      "2696/2696 [==============================] - 16s 6ms/step - loss: 0.4726 - accuracy: 0.7679\n",
      "Epoch 7/20\n",
      "2696/2696 [==============================] - 22s 8ms/step - loss: 0.4640 - accuracy: 0.7757\n",
      "Epoch 8/20\n",
      "2696/2696 [==============================] - 15s 5ms/step - loss: 0.4614 - accuracy: 0.7771\n",
      "Epoch 9/20\n",
      "2696/2696 [==============================] - 15s 6ms/step - loss: 0.4544 - accuracy: 0.7806\n",
      "Epoch 10/20\n",
      "2696/2696 [==============================] - 15s 6ms/step - loss: 0.4521 - accuracy: 0.7825\n",
      "Epoch 11/20\n",
      "2696/2696 [==============================] - 15s 6ms/step - loss: 0.4492 - accuracy: 0.7844\n",
      "Epoch 12/20\n",
      "2696/2696 [==============================] - 13s 5ms/step - loss: 0.4467 - accuracy: 0.7857\n",
      "Epoch 13/20\n",
      "2696/2696 [==============================] - 16s 6ms/step - loss: 0.4439 - accuracy: 0.7870\n",
      "Epoch 14/20\n",
      "2696/2696 [==============================] - 18s 7ms/step - loss: 0.4418 - accuracy: 0.7860\n",
      "Epoch 15/20\n",
      "2696/2696 [==============================] - 17s 6ms/step - loss: 0.4398 - accuracy: 0.7886\n",
      "Epoch 16/20\n",
      "2696/2696 [==============================] - 15s 6ms/step - loss: 0.4389 - accuracy: 0.7894\n",
      "Epoch 17/20\n",
      "2696/2696 [==============================] - 15s 5ms/step - loss: 0.4384 - accuracy: 0.7897\n",
      "Epoch 18/20\n",
      "2696/2696 [==============================] - 15s 5ms/step - loss: 0.4344 - accuracy: 0.7913\n",
      "Epoch 19/20\n",
      "2696/2696 [==============================] - 15s 6ms/step - loss: 0.4355 - accuracy: 0.7898\n",
      "Epoch 20/20\n",
      "2696/2696 [==============================] - 15s 6ms/step - loss: 0.4317 - accuracy: 0.7917\n",
      "300/300 [==============================] - 1s 4ms/step\n",
      "Epoch 1/20\n"
     ]
    },
    {
     "name": "stderr",
     "output_type": "stream",
     "text": [
      "C:\\Users\\Asus\\anaconda3\\lib\\site-packages\\scikeras\\wrappers.py:301: UserWarning: ``build_fn`` will be renamed to ``model`` in a future release, at which point use of ``build_fn`` will raise an Error instead.\n",
      "  warnings.warn(\n"
     ]
    },
    {
     "name": "stdout",
     "output_type": "stream",
     "text": [
      "2696/2696 [==============================] - 17s 6ms/step - loss: 0.6748 - accuracy: 0.6562\n",
      "Epoch 2/20\n",
      "2696/2696 [==============================] - 17s 6ms/step - loss: 0.5604 - accuracy: 0.7057\n",
      "Epoch 3/20\n",
      "2696/2696 [==============================] - 16s 6ms/step - loss: 0.5200 - accuracy: 0.7387\n",
      "Epoch 4/20\n",
      "2696/2696 [==============================] - 15s 6ms/step - loss: 0.5053 - accuracy: 0.7504\n",
      "Epoch 5/20\n",
      "2696/2696 [==============================] - 15s 6ms/step - loss: 0.4978 - accuracy: 0.7541\n",
      "Epoch 6/20\n",
      "2696/2696 [==============================] - 16s 6ms/step - loss: 0.4885 - accuracy: 0.7580\n",
      "Epoch 7/20\n",
      "2696/2696 [==============================] - 15s 5ms/step - loss: 0.4795 - accuracy: 0.7618\n",
      "Epoch 8/20\n",
      "2696/2696 [==============================] - 16s 6ms/step - loss: 0.4719 - accuracy: 0.7701\n",
      "Epoch 9/20\n",
      "2696/2696 [==============================] - 15s 6ms/step - loss: 0.4654 - accuracy: 0.7731\n",
      "Epoch 10/20\n",
      "2696/2696 [==============================] - 15s 6ms/step - loss: 0.4591 - accuracy: 0.7776\n",
      "Epoch 11/20\n",
      "2696/2696 [==============================] - 16s 6ms/step - loss: 0.4544 - accuracy: 0.7810\n",
      "Epoch 12/20\n",
      "2696/2696 [==============================] - 16s 6ms/step - loss: 0.4553 - accuracy: 0.7806\n",
      "Epoch 13/20\n",
      "2696/2696 [==============================] - 16s 6ms/step - loss: 0.4490 - accuracy: 0.7848\n",
      "Epoch 14/20\n",
      "2696/2696 [==============================] - 14s 5ms/step - loss: 0.4462 - accuracy: 0.7859\n",
      "Epoch 15/20\n",
      "2696/2696 [==============================] - 15s 5ms/step - loss: 0.4438 - accuracy: 0.7861\n",
      "Epoch 16/20\n",
      "2696/2696 [==============================] - 15s 6ms/step - loss: 0.4430 - accuracy: 0.7871\n",
      "Epoch 17/20\n",
      "2696/2696 [==============================] - 17s 6ms/step - loss: 0.4396 - accuracy: 0.7870\n",
      "Epoch 18/20\n",
      "2696/2696 [==============================] - 17s 6ms/step - loss: 0.4384 - accuracy: 0.7893\n",
      "Epoch 19/20\n",
      "2696/2696 [==============================] - 19s 7ms/step - loss: 0.4364 - accuracy: 0.7903\n",
      "Epoch 20/20\n",
      "2696/2696 [==============================] - 16s 6ms/step - loss: 0.4351 - accuracy: 0.7916\n",
      "300/300 [==============================] - 1s 2ms/step\n",
      "Epoch 1/20\n"
     ]
    },
    {
     "name": "stderr",
     "output_type": "stream",
     "text": [
      "C:\\Users\\Asus\\anaconda3\\lib\\site-packages\\scikeras\\wrappers.py:301: UserWarning: ``build_fn`` will be renamed to ``model`` in a future release, at which point use of ``build_fn`` will raise an Error instead.\n",
      "  warnings.warn(\n"
     ]
    },
    {
     "name": "stdout",
     "output_type": "stream",
     "text": [
      "2696/2696 [==============================] - 16s 6ms/step - loss: 0.6516 - accuracy: 0.6599\n",
      "Epoch 2/20\n",
      "2696/2696 [==============================] - 17s 6ms/step - loss: 0.5391 - accuracy: 0.7271\n",
      "Epoch 3/20\n",
      "2696/2696 [==============================] - 16s 6ms/step - loss: 0.5090 - accuracy: 0.7476\n",
      "Epoch 4/20\n",
      "2696/2696 [==============================] - 15s 5ms/step - loss: 0.4968 - accuracy: 0.7563\n",
      "Epoch 5/20\n",
      "2696/2696 [==============================] - 15s 6ms/step - loss: 0.4840 - accuracy: 0.7628\n",
      "Epoch 6/20\n",
      "2696/2696 [==============================] - 17s 6ms/step - loss: 0.4697 - accuracy: 0.7730\n",
      "Epoch 7/20\n",
      "2696/2696 [==============================] - 16s 6ms/step - loss: 0.4624 - accuracy: 0.7781\n",
      "Epoch 8/20\n",
      "2696/2696 [==============================] - 17s 6ms/step - loss: 0.4588 - accuracy: 0.7802\n",
      "Epoch 9/20\n",
      "2696/2696 [==============================] - 15s 5ms/step - loss: 0.4547 - accuracy: 0.7827\n",
      "Epoch 10/20\n",
      "2696/2696 [==============================] - 16s 6ms/step - loss: 0.4506 - accuracy: 0.7848\n",
      "Epoch 11/20\n",
      "2696/2696 [==============================] - 17s 6ms/step - loss: 0.4481 - accuracy: 0.7869\n",
      "Epoch 12/20\n",
      "2696/2696 [==============================] - 16s 6ms/step - loss: 0.4439 - accuracy: 0.7866\n",
      "Epoch 13/20\n",
      "2696/2696 [==============================] - 16s 6ms/step - loss: 0.4424 - accuracy: 0.7890\n",
      "Epoch 14/20\n",
      "2696/2696 [==============================] - 15s 6ms/step - loss: 0.4405 - accuracy: 0.7898\n",
      "Epoch 15/20\n",
      "2696/2696 [==============================] - 16s 6ms/step - loss: 0.4364 - accuracy: 0.7911\n",
      "Epoch 16/20\n",
      "2696/2696 [==============================] - 16s 6ms/step - loss: 0.4345 - accuracy: 0.7936\n",
      "Epoch 17/20\n",
      "2696/2696 [==============================] - 15s 6ms/step - loss: 0.4342 - accuracy: 0.7908\n",
      "Epoch 18/20\n",
      "2696/2696 [==============================] - 15s 6ms/step - loss: 0.4325 - accuracy: 0.7930\n",
      "Epoch 19/20\n",
      "2696/2696 [==============================] - 18s 7ms/step - loss: 0.4310 - accuracy: 0.7936\n",
      "Epoch 20/20\n",
      "2696/2696 [==============================] - 16s 6ms/step - loss: 0.4305 - accuracy: 0.7943\n",
      "300/300 [==============================] - 1s 3ms/step\n",
      "Epoch 1/20\n"
     ]
    },
    {
     "name": "stderr",
     "output_type": "stream",
     "text": [
      "C:\\Users\\Asus\\anaconda3\\lib\\site-packages\\scikeras\\wrappers.py:301: UserWarning: ``build_fn`` will be renamed to ``model`` in a future release, at which point use of ``build_fn`` will raise an Error instead.\n",
      "  warnings.warn(\n"
     ]
    },
    {
     "name": "stdout",
     "output_type": "stream",
     "text": [
      "2696/2696 [==============================] - 18s 6ms/step - loss: 0.6464 - accuracy: 0.6647\n",
      "Epoch 2/20\n",
      "2696/2696 [==============================] - 16s 6ms/step - loss: 0.5402 - accuracy: 0.7240\n",
      "Epoch 3/20\n",
      "2696/2696 [==============================] - 16s 6ms/step - loss: 0.5057 - accuracy: 0.7511\n",
      "Epoch 4/20\n",
      "2696/2696 [==============================] - 16s 6ms/step - loss: 0.4890 - accuracy: 0.7603\n",
      "Epoch 5/20\n",
      "2696/2696 [==============================] - 17s 6ms/step - loss: 0.4752 - accuracy: 0.7692\n",
      "Epoch 6/20\n",
      "2696/2696 [==============================] - 16s 6ms/step - loss: 0.4648 - accuracy: 0.7747\n",
      "Epoch 7/20\n",
      "2696/2696 [==============================] - 16s 6ms/step - loss: 0.4567 - accuracy: 0.7805\n",
      "Epoch 8/20\n",
      "2696/2696 [==============================] - 17s 6ms/step - loss: 0.4515 - accuracy: 0.7838\n",
      "Epoch 9/20\n",
      "2696/2696 [==============================] - 17s 6ms/step - loss: 0.4488 - accuracy: 0.7850\n",
      "Epoch 10/20\n",
      "2696/2696 [==============================] - 14s 5ms/step - loss: 0.4441 - accuracy: 0.7880\n",
      "Epoch 11/20\n",
      "2696/2696 [==============================] - 17s 6ms/step - loss: 0.4410 - accuracy: 0.7877\n",
      "Epoch 12/20\n",
      "2696/2696 [==============================] - 18s 7ms/step - loss: 0.4369 - accuracy: 0.7910\n",
      "Epoch 13/20\n",
      "2696/2696 [==============================] - 18s 7ms/step - loss: 0.4355 - accuracy: 0.7915\n",
      "Epoch 14/20\n",
      "2696/2696 [==============================] - 16s 6ms/step - loss: 0.4324 - accuracy: 0.7930\n",
      "Epoch 15/20\n",
      "2696/2696 [==============================] - 16s 6ms/step - loss: 0.4319 - accuracy: 0.7940\n",
      "Epoch 16/20\n",
      "2696/2696 [==============================] - 16s 6ms/step - loss: 0.4323 - accuracy: 0.7925\n",
      "Epoch 17/20\n",
      "2696/2696 [==============================] - 21s 8ms/step - loss: 0.4296 - accuracy: 0.7948\n",
      "Epoch 18/20\n",
      "2696/2696 [==============================] - 18s 7ms/step - loss: 0.4274 - accuracy: 0.7939\n",
      "Epoch 19/20\n",
      "2696/2696 [==============================] - 18s 7ms/step - loss: 0.4258 - accuracy: 0.7966\n",
      "Epoch 20/20\n",
      "2696/2696 [==============================] - 17s 6ms/step - loss: 0.4229 - accuracy: 0.7982\n",
      "300/300 [==============================] - 1s 3ms/step\n",
      "Epoch 1/20\n"
     ]
    },
    {
     "name": "stderr",
     "output_type": "stream",
     "text": [
      "C:\\Users\\Asus\\anaconda3\\lib\\site-packages\\scikeras\\wrappers.py:301: UserWarning: ``build_fn`` will be renamed to ``model`` in a future release, at which point use of ``build_fn`` will raise an Error instead.\n",
      "  warnings.warn(\n"
     ]
    },
    {
     "name": "stdout",
     "output_type": "stream",
     "text": [
      "2696/2696 [==============================] - 17s 6ms/step - loss: 0.6659 - accuracy: 0.6607\n",
      "Epoch 2/20\n",
      "2696/2696 [==============================] - 18s 6ms/step - loss: 0.5408 - accuracy: 0.7240\n",
      "Epoch 3/20\n",
      "2696/2696 [==============================] - 14s 5ms/step - loss: 0.5127 - accuracy: 0.7459\n",
      "Epoch 4/20\n",
      "2696/2696 [==============================] - 14s 5ms/step - loss: 0.5005 - accuracy: 0.7527\n",
      "Epoch 5/20\n",
      "2696/2696 [==============================] - 14s 5ms/step - loss: 0.4916 - accuracy: 0.7589\n",
      "Epoch 6/20\n",
      "2696/2696 [==============================] - 14s 5ms/step - loss: 0.4834 - accuracy: 0.7613\n",
      "Epoch 7/20\n",
      "2696/2696 [==============================] - 14s 5ms/step - loss: 0.4724 - accuracy: 0.7680\n",
      "Epoch 8/20\n",
      "2696/2696 [==============================] - 14s 5ms/step - loss: 0.4650 - accuracy: 0.7750\n",
      "Epoch 9/20\n",
      "2696/2696 [==============================] - 14s 5ms/step - loss: 0.4593 - accuracy: 0.7768\n",
      "Epoch 10/20\n",
      "2696/2696 [==============================] - 14s 5ms/step - loss: 0.4549 - accuracy: 0.7813\n",
      "Epoch 11/20\n",
      "2696/2696 [==============================] - 14s 5ms/step - loss: 0.4513 - accuracy: 0.7837\n",
      "Epoch 12/20\n",
      "2696/2696 [==============================] - 15s 5ms/step - loss: 0.4475 - accuracy: 0.7854\n",
      "Epoch 13/20\n",
      "2696/2696 [==============================] - 15s 6ms/step - loss: 0.4455 - accuracy: 0.7864\n",
      "Epoch 14/20\n",
      "2696/2696 [==============================] - 15s 5ms/step - loss: 0.4453 - accuracy: 0.7871\n",
      "Epoch 15/20\n",
      "2696/2696 [==============================] - 15s 5ms/step - loss: 0.4416 - accuracy: 0.7895\n",
      "Epoch 16/20\n",
      "2696/2696 [==============================] - 14s 5ms/step - loss: 0.4397 - accuracy: 0.7893\n",
      "Epoch 17/20\n",
      "2696/2696 [==============================] - 14s 5ms/step - loss: 0.4393 - accuracy: 0.7892\n",
      "Epoch 18/20\n",
      "2696/2696 [==============================] - 15s 6ms/step - loss: 0.4381 - accuracy: 0.7916\n",
      "Epoch 19/20\n",
      "2696/2696 [==============================] - 14s 5ms/step - loss: 0.4358 - accuracy: 0.7926\n",
      "Epoch 20/20\n",
      "2696/2696 [==============================] - 22s 8ms/step - loss: 0.4341 - accuracy: 0.7944\n",
      "300/300 [==============================] - 2s 5ms/step\n"
     ]
    },
    {
     "name": "stderr",
     "output_type": "stream",
     "text": [
      "C:\\Users\\Asus\\anaconda3\\lib\\site-packages\\scikeras\\wrappers.py:301: UserWarning: ``build_fn`` will be renamed to ``model`` in a future release, at which point use of ``build_fn`` will raise an Error instead.\n",
      "  warnings.warn(\n"
     ]
    },
    {
     "name": "stdout",
     "output_type": "stream",
     "text": [
      "Epoch 1/30\n",
      "2696/2696 [==============================] - 24s 8ms/step - loss: 0.6523 - accuracy: 0.6606\n",
      "Epoch 2/30\n",
      "2696/2696 [==============================] - 14s 5ms/step - loss: 0.5446 - accuracy: 0.7197\n",
      "Epoch 3/30\n",
      "2696/2696 [==============================] - 13s 5ms/step - loss: 0.5103 - accuracy: 0.7475\n",
      "Epoch 4/30\n",
      "2696/2696 [==============================] - 14s 5ms/step - loss: 0.4970 - accuracy: 0.7545\n",
      "Epoch 5/30\n",
      "2696/2696 [==============================] - 13s 5ms/step - loss: 0.4905 - accuracy: 0.7585\n",
      "Epoch 6/30\n",
      "2696/2696 [==============================] - 13s 5ms/step - loss: 0.4848 - accuracy: 0.7626\n",
      "Epoch 7/30\n",
      "2696/2696 [==============================] - 13s 5ms/step - loss: 0.4783 - accuracy: 0.7648\n",
      "Epoch 8/30\n",
      "2696/2696 [==============================] - 13s 5ms/step - loss: 0.4736 - accuracy: 0.7670\n",
      "Epoch 9/30\n",
      "2696/2696 [==============================] - 13s 5ms/step - loss: 0.4672 - accuracy: 0.7720\n",
      "Epoch 10/30\n",
      "2696/2696 [==============================] - 13s 5ms/step - loss: 0.4617 - accuracy: 0.7779\n",
      "Epoch 11/30\n",
      "2696/2696 [==============================] - 13s 5ms/step - loss: 0.4553 - accuracy: 0.7827\n",
      "Epoch 12/30\n",
      "2696/2696 [==============================] - 13s 5ms/step - loss: 0.4517 - accuracy: 0.7856\n",
      "Epoch 13/30\n",
      "2696/2696 [==============================] - 13s 5ms/step - loss: 0.4478 - accuracy: 0.7855\n",
      "Epoch 14/30\n",
      "2696/2696 [==============================] - 13s 5ms/step - loss: 0.4445 - accuracy: 0.7872\n",
      "Epoch 15/30\n",
      "2696/2696 [==============================] - 13s 5ms/step - loss: 0.4435 - accuracy: 0.7903\n",
      "Epoch 16/30\n",
      "2696/2696 [==============================] - 13s 5ms/step - loss: 0.4425 - accuracy: 0.7883\n",
      "Epoch 17/30\n",
      "2696/2696 [==============================] - 13s 5ms/step - loss: 0.4374 - accuracy: 0.7934\n",
      "Epoch 18/30\n",
      "2696/2696 [==============================] - 13s 5ms/step - loss: 0.4361 - accuracy: 0.7925\n",
      "Epoch 19/30\n",
      "2696/2696 [==============================] - 13s 5ms/step - loss: 0.4347 - accuracy: 0.7943\n",
      "Epoch 20/30\n",
      "2696/2696 [==============================] - 14s 5ms/step - loss: 0.4328 - accuracy: 0.7927\n",
      "Epoch 21/30\n",
      "2696/2696 [==============================] - 14s 5ms/step - loss: 0.4318 - accuracy: 0.7939\n",
      "Epoch 22/30\n",
      "2696/2696 [==============================] - 14s 5ms/step - loss: 0.4294 - accuracy: 0.7961\n",
      "Epoch 23/30\n",
      "2696/2696 [==============================] - 15s 6ms/step - loss: 0.4299 - accuracy: 0.7969\n",
      "Epoch 24/30\n",
      "2696/2696 [==============================] - 15s 6ms/step - loss: 0.4276 - accuracy: 0.7961\n",
      "Epoch 25/30\n",
      "2696/2696 [==============================] - 17s 6ms/step - loss: 0.4256 - accuracy: 0.7983\n",
      "Epoch 26/30\n",
      "2696/2696 [==============================] - 16s 6ms/step - loss: 0.4239 - accuracy: 0.7992\n",
      "Epoch 27/30\n",
      "2696/2696 [==============================] - 16s 6ms/step - loss: 0.4229 - accuracy: 0.7990\n",
      "Epoch 28/30\n",
      "2696/2696 [==============================] - 14s 5ms/step - loss: 0.4251 - accuracy: 0.7979\n",
      "Epoch 29/30\n",
      "2696/2696 [==============================] - 13s 5ms/step - loss: 0.4204 - accuracy: 0.8001\n",
      "Epoch 30/30\n",
      "2696/2696 [==============================] - 13s 5ms/step - loss: 0.4203 - accuracy: 0.8010\n",
      "300/300 [==============================] - 1s 2ms/step\n",
      "Epoch 1/30\n"
     ]
    },
    {
     "name": "stderr",
     "output_type": "stream",
     "text": [
      "C:\\Users\\Asus\\anaconda3\\lib\\site-packages\\scikeras\\wrappers.py:301: UserWarning: ``build_fn`` will be renamed to ``model`` in a future release, at which point use of ``build_fn`` will raise an Error instead.\n",
      "  warnings.warn(\n"
     ]
    },
    {
     "name": "stdout",
     "output_type": "stream",
     "text": [
      "2696/2696 [==============================] - 14s 5ms/step - loss: 0.6701 - accuracy: 0.6522\n",
      "Epoch 2/30\n",
      "2696/2696 [==============================] - 14s 5ms/step - loss: 0.5468 - accuracy: 0.7168\n",
      "Epoch 3/30\n",
      "2696/2696 [==============================] - 14s 5ms/step - loss: 0.5105 - accuracy: 0.7490\n",
      "Epoch 4/30\n",
      "2696/2696 [==============================] - 13s 5ms/step - loss: 0.4980 - accuracy: 0.7558\n",
      "Epoch 5/30\n",
      "2696/2696 [==============================] - 13s 5ms/step - loss: 0.4891 - accuracy: 0.7587\n",
      "Epoch 6/30\n",
      "2696/2696 [==============================] - 13s 5ms/step - loss: 0.4795 - accuracy: 0.7652\n",
      "Epoch 7/30\n",
      "2696/2696 [==============================] - 13s 5ms/step - loss: 0.4676 - accuracy: 0.7732\n",
      "Epoch 8/30\n",
      "2696/2696 [==============================] - 14s 5ms/step - loss: 0.4604 - accuracy: 0.7792\n",
      "Epoch 9/30\n",
      "2696/2696 [==============================] - 13s 5ms/step - loss: 0.4566 - accuracy: 0.7804\n",
      "Epoch 10/30\n",
      "2696/2696 [==============================] - 13s 5ms/step - loss: 0.4524 - accuracy: 0.7842\n",
      "Epoch 11/30\n",
      "2696/2696 [==============================] - 13s 5ms/step - loss: 0.4490 - accuracy: 0.7850\n",
      "Epoch 12/30\n",
      "2696/2696 [==============================] - 13s 5ms/step - loss: 0.4440 - accuracy: 0.7885\n",
      "Epoch 13/30\n",
      "2696/2696 [==============================] - 13s 5ms/step - loss: 0.4421 - accuracy: 0.7898\n",
      "Epoch 14/30\n",
      "2696/2696 [==============================] - 13s 5ms/step - loss: 0.4395 - accuracy: 0.7912\n",
      "Epoch 15/30\n",
      "2696/2696 [==============================] - 13s 5ms/step - loss: 0.4376 - accuracy: 0.7915\n",
      "Epoch 16/30\n",
      "2696/2696 [==============================] - 13s 5ms/step - loss: 0.4364 - accuracy: 0.7930\n",
      "Epoch 17/30\n",
      "2696/2696 [==============================] - 19s 7ms/step - loss: 0.4348 - accuracy: 0.7917\n",
      "Epoch 18/30\n",
      "2696/2696 [==============================] - 17s 6ms/step - loss: 0.4329 - accuracy: 0.7934\n",
      "Epoch 19/30\n",
      "2696/2696 [==============================] - 14s 5ms/step - loss: 0.4293 - accuracy: 0.7953\n",
      "Epoch 20/30\n",
      "2696/2696 [==============================] - 19s 7ms/step - loss: 0.4299 - accuracy: 0.7953\n",
      "Epoch 21/30\n",
      "2696/2696 [==============================] - 19s 7ms/step - loss: 0.4272 - accuracy: 0.7952\n",
      "Epoch 22/30\n",
      "2696/2696 [==============================] - 23s 8ms/step - loss: 0.4279 - accuracy: 0.7945\n",
      "Epoch 23/30\n",
      "2696/2696 [==============================] - 18s 7ms/step - loss: 0.4245 - accuracy: 0.7969\n",
      "Epoch 24/30\n",
      "2696/2696 [==============================] - 20s 7ms/step - loss: 0.4231 - accuracy: 0.7980\n",
      "Epoch 25/30\n",
      "2696/2696 [==============================] - 16s 6ms/step - loss: 0.4239 - accuracy: 0.7976\n",
      "Epoch 26/30\n",
      "2696/2696 [==============================] - 15s 6ms/step - loss: 0.4214 - accuracy: 0.7984\n",
      "Epoch 27/30\n",
      "2696/2696 [==============================] - 16s 6ms/step - loss: 0.4222 - accuracy: 0.7984\n",
      "Epoch 28/30\n",
      "2696/2696 [==============================] - 16s 6ms/step - loss: 0.4197 - accuracy: 0.7991\n",
      "Epoch 29/30\n",
      "2696/2696 [==============================] - 16s 6ms/step - loss: 0.4192 - accuracy: 0.8001\n",
      "Epoch 30/30\n",
      "2696/2696 [==============================] - 18s 7ms/step - loss: 0.4187 - accuracy: 0.8015\n",
      "300/300 [==============================] - 2s 5ms/step\n",
      "Epoch 1/30\n"
     ]
    },
    {
     "name": "stderr",
     "output_type": "stream",
     "text": [
      "C:\\Users\\Asus\\anaconda3\\lib\\site-packages\\scikeras\\wrappers.py:301: UserWarning: ``build_fn`` will be renamed to ``model`` in a future release, at which point use of ``build_fn`` will raise an Error instead.\n",
      "  warnings.warn(\n"
     ]
    },
    {
     "name": "stdout",
     "output_type": "stream",
     "text": [
      "2696/2696 [==============================] - 23s 6ms/step - loss: 0.6329 - accuracy: 0.6584\n",
      "Epoch 2/30\n",
      "2696/2696 [==============================] - 18s 7ms/step - loss: 0.5515 - accuracy: 0.7118\n",
      "Epoch 3/30\n",
      "2696/2696 [==============================] - 19s 7ms/step - loss: 0.5135 - accuracy: 0.7445\n",
      "Epoch 4/30\n",
      "2696/2696 [==============================] - 19s 7ms/step - loss: 0.5006 - accuracy: 0.7519\n",
      "Epoch 5/30\n",
      "2696/2696 [==============================] - 17s 6ms/step - loss: 0.4915 - accuracy: 0.7581\n",
      "Epoch 6/30\n",
      "2696/2696 [==============================] - 20s 7ms/step - loss: 0.4862 - accuracy: 0.7602\n",
      "Epoch 7/30\n",
      "2696/2696 [==============================] - 29s 11ms/step - loss: 0.4827 - accuracy: 0.7621\n",
      "Epoch 8/30\n",
      "2696/2696 [==============================] - 56s 21ms/step - loss: 0.4785 - accuracy: 0.7635\n",
      "Epoch 9/30\n",
      "2696/2696 [==============================] - 38s 14ms/step - loss: 0.4720 - accuracy: 0.7701\n",
      "Epoch 10/30\n",
      " 929/2696 [=========>....................] - ETA: 12s - loss: 0.4707 - accuracy: 0.7707"
     ]
    },
    {
     "ename": "KeyboardInterrupt",
     "evalue": "",
     "output_type": "error",
     "traceback": [
      "\u001b[1;31m---------------------------------------------------------------------------\u001b[0m",
      "\u001b[1;31mKeyboardInterrupt\u001b[0m                         Traceback (most recent call last)",
      "Cell \u001b[1;32mIn[179], line 2\u001b[0m\n\u001b[0;32m      1\u001b[0m grid \u001b[38;5;241m=\u001b[39m GridSearchCV(estimator \u001b[38;5;241m=\u001b[39m ann_mod,param_grid \u001b[38;5;241m=\u001b[39m params_grid,cv \u001b[38;5;241m=\u001b[39m kf,verbose \u001b[38;5;241m=\u001b[39m \u001b[38;5;241m1\u001b[39m)\n\u001b[1;32m----> 2\u001b[0m grid_res \u001b[38;5;241m=\u001b[39m \u001b[43mgrid\u001b[49m\u001b[38;5;241;43m.\u001b[39;49m\u001b[43mfit\u001b[49m\u001b[43m(\u001b[49m\u001b[43mX_train\u001b[49m\u001b[43m,\u001b[49m\u001b[43m \u001b[49m\u001b[43my_train\u001b[49m\u001b[43m)\u001b[49m\n",
      "File \u001b[1;32m~\\anaconda3\\lib\\site-packages\\sklearn\\model_selection\\_search.py:875\u001b[0m, in \u001b[0;36mBaseSearchCV.fit\u001b[1;34m(self, X, y, groups, **fit_params)\u001b[0m\n\u001b[0;32m    869\u001b[0m     results \u001b[38;5;241m=\u001b[39m \u001b[38;5;28mself\u001b[39m\u001b[38;5;241m.\u001b[39m_format_results(\n\u001b[0;32m    870\u001b[0m         all_candidate_params, n_splits, all_out, all_more_results\n\u001b[0;32m    871\u001b[0m     )\n\u001b[0;32m    873\u001b[0m     \u001b[38;5;28;01mreturn\u001b[39;00m results\n\u001b[1;32m--> 875\u001b[0m \u001b[38;5;28;43mself\u001b[39;49m\u001b[38;5;241;43m.\u001b[39;49m\u001b[43m_run_search\u001b[49m\u001b[43m(\u001b[49m\u001b[43mevaluate_candidates\u001b[49m\u001b[43m)\u001b[49m\n\u001b[0;32m    877\u001b[0m \u001b[38;5;66;03m# multimetric is determined here because in the case of a callable\u001b[39;00m\n\u001b[0;32m    878\u001b[0m \u001b[38;5;66;03m# self.scoring the return type is only known after calling\u001b[39;00m\n\u001b[0;32m    879\u001b[0m first_test_score \u001b[38;5;241m=\u001b[39m all_out[\u001b[38;5;241m0\u001b[39m][\u001b[38;5;124m\"\u001b[39m\u001b[38;5;124mtest_scores\u001b[39m\u001b[38;5;124m\"\u001b[39m]\n",
      "File \u001b[1;32m~\\anaconda3\\lib\\site-packages\\sklearn\\model_selection\\_search.py:1379\u001b[0m, in \u001b[0;36mGridSearchCV._run_search\u001b[1;34m(self, evaluate_candidates)\u001b[0m\n\u001b[0;32m   1377\u001b[0m \u001b[38;5;28;01mdef\u001b[39;00m \u001b[38;5;21m_run_search\u001b[39m(\u001b[38;5;28mself\u001b[39m, evaluate_candidates):\n\u001b[0;32m   1378\u001b[0m     \u001b[38;5;124;03m\"\"\"Search all candidates in param_grid\"\"\"\u001b[39;00m\n\u001b[1;32m-> 1379\u001b[0m     \u001b[43mevaluate_candidates\u001b[49m\u001b[43m(\u001b[49m\u001b[43mParameterGrid\u001b[49m\u001b[43m(\u001b[49m\u001b[38;5;28;43mself\u001b[39;49m\u001b[38;5;241;43m.\u001b[39;49m\u001b[43mparam_grid\u001b[49m\u001b[43m)\u001b[49m\u001b[43m)\u001b[49m\n",
      "File \u001b[1;32m~\\anaconda3\\lib\\site-packages\\sklearn\\model_selection\\_search.py:822\u001b[0m, in \u001b[0;36mBaseSearchCV.fit.<locals>.evaluate_candidates\u001b[1;34m(candidate_params, cv, more_results)\u001b[0m\n\u001b[0;32m    814\u001b[0m \u001b[38;5;28;01mif\u001b[39;00m \u001b[38;5;28mself\u001b[39m\u001b[38;5;241m.\u001b[39mverbose \u001b[38;5;241m>\u001b[39m \u001b[38;5;241m0\u001b[39m:\n\u001b[0;32m    815\u001b[0m     \u001b[38;5;28mprint\u001b[39m(\n\u001b[0;32m    816\u001b[0m         \u001b[38;5;124m\"\u001b[39m\u001b[38;5;124mFitting \u001b[39m\u001b[38;5;132;01m{0}\u001b[39;00m\u001b[38;5;124m folds for each of \u001b[39m\u001b[38;5;132;01m{1}\u001b[39;00m\u001b[38;5;124m candidates,\u001b[39m\u001b[38;5;124m\"\u001b[39m\n\u001b[0;32m    817\u001b[0m         \u001b[38;5;124m\"\u001b[39m\u001b[38;5;124m totalling \u001b[39m\u001b[38;5;132;01m{2}\u001b[39;00m\u001b[38;5;124m fits\u001b[39m\u001b[38;5;124m\"\u001b[39m\u001b[38;5;241m.\u001b[39mformat(\n\u001b[0;32m    818\u001b[0m             n_splits, n_candidates, n_candidates \u001b[38;5;241m*\u001b[39m n_splits\n\u001b[0;32m    819\u001b[0m         )\n\u001b[0;32m    820\u001b[0m     )\n\u001b[1;32m--> 822\u001b[0m out \u001b[38;5;241m=\u001b[39m \u001b[43mparallel\u001b[49m\u001b[43m(\u001b[49m\n\u001b[0;32m    823\u001b[0m \u001b[43m    \u001b[49m\u001b[43mdelayed\u001b[49m\u001b[43m(\u001b[49m\u001b[43m_fit_and_score\u001b[49m\u001b[43m)\u001b[49m\u001b[43m(\u001b[49m\n\u001b[0;32m    824\u001b[0m \u001b[43m        \u001b[49m\u001b[43mclone\u001b[49m\u001b[43m(\u001b[49m\u001b[43mbase_estimator\u001b[49m\u001b[43m)\u001b[49m\u001b[43m,\u001b[49m\n\u001b[0;32m    825\u001b[0m \u001b[43m        \u001b[49m\u001b[43mX\u001b[49m\u001b[43m,\u001b[49m\n\u001b[0;32m    826\u001b[0m \u001b[43m        \u001b[49m\u001b[43my\u001b[49m\u001b[43m,\u001b[49m\n\u001b[0;32m    827\u001b[0m \u001b[43m        \u001b[49m\u001b[43mtrain\u001b[49m\u001b[38;5;241;43m=\u001b[39;49m\u001b[43mtrain\u001b[49m\u001b[43m,\u001b[49m\n\u001b[0;32m    828\u001b[0m \u001b[43m        \u001b[49m\u001b[43mtest\u001b[49m\u001b[38;5;241;43m=\u001b[39;49m\u001b[43mtest\u001b[49m\u001b[43m,\u001b[49m\n\u001b[0;32m    829\u001b[0m \u001b[43m        \u001b[49m\u001b[43mparameters\u001b[49m\u001b[38;5;241;43m=\u001b[39;49m\u001b[43mparameters\u001b[49m\u001b[43m,\u001b[49m\n\u001b[0;32m    830\u001b[0m \u001b[43m        \u001b[49m\u001b[43msplit_progress\u001b[49m\u001b[38;5;241;43m=\u001b[39;49m\u001b[43m(\u001b[49m\u001b[43msplit_idx\u001b[49m\u001b[43m,\u001b[49m\u001b[43m \u001b[49m\u001b[43mn_splits\u001b[49m\u001b[43m)\u001b[49m\u001b[43m,\u001b[49m\n\u001b[0;32m    831\u001b[0m \u001b[43m        \u001b[49m\u001b[43mcandidate_progress\u001b[49m\u001b[38;5;241;43m=\u001b[39;49m\u001b[43m(\u001b[49m\u001b[43mcand_idx\u001b[49m\u001b[43m,\u001b[49m\u001b[43m \u001b[49m\u001b[43mn_candidates\u001b[49m\u001b[43m)\u001b[49m\u001b[43m,\u001b[49m\n\u001b[0;32m    832\u001b[0m \u001b[43m        \u001b[49m\u001b[38;5;241;43m*\u001b[39;49m\u001b[38;5;241;43m*\u001b[39;49m\u001b[43mfit_and_score_kwargs\u001b[49m\u001b[43m,\u001b[49m\n\u001b[0;32m    833\u001b[0m \u001b[43m    \u001b[49m\u001b[43m)\u001b[49m\n\u001b[0;32m    834\u001b[0m \u001b[43m    \u001b[49m\u001b[38;5;28;43;01mfor\u001b[39;49;00m\u001b[43m \u001b[49m\u001b[43m(\u001b[49m\u001b[43mcand_idx\u001b[49m\u001b[43m,\u001b[49m\u001b[43m \u001b[49m\u001b[43mparameters\u001b[49m\u001b[43m)\u001b[49m\u001b[43m,\u001b[49m\u001b[43m \u001b[49m\u001b[43m(\u001b[49m\u001b[43msplit_idx\u001b[49m\u001b[43m,\u001b[49m\u001b[43m \u001b[49m\u001b[43m(\u001b[49m\u001b[43mtrain\u001b[49m\u001b[43m,\u001b[49m\u001b[43m \u001b[49m\u001b[43mtest\u001b[49m\u001b[43m)\u001b[49m\u001b[43m)\u001b[49m\u001b[43m \u001b[49m\u001b[38;5;129;43;01min\u001b[39;49;00m\u001b[43m \u001b[49m\u001b[43mproduct\u001b[49m\u001b[43m(\u001b[49m\n\u001b[0;32m    835\u001b[0m \u001b[43m        \u001b[49m\u001b[38;5;28;43menumerate\u001b[39;49m\u001b[43m(\u001b[49m\u001b[43mcandidate_params\u001b[49m\u001b[43m)\u001b[49m\u001b[43m,\u001b[49m\u001b[43m \u001b[49m\u001b[38;5;28;43menumerate\u001b[39;49m\u001b[43m(\u001b[49m\u001b[43mcv\u001b[49m\u001b[38;5;241;43m.\u001b[39;49m\u001b[43msplit\u001b[49m\u001b[43m(\u001b[49m\u001b[43mX\u001b[49m\u001b[43m,\u001b[49m\u001b[43m \u001b[49m\u001b[43my\u001b[49m\u001b[43m,\u001b[49m\u001b[43m \u001b[49m\u001b[43mgroups\u001b[49m\u001b[43m)\u001b[49m\u001b[43m)\u001b[49m\n\u001b[0;32m    836\u001b[0m \u001b[43m    \u001b[49m\u001b[43m)\u001b[49m\n\u001b[0;32m    837\u001b[0m \u001b[43m\u001b[49m\u001b[43m)\u001b[49m\n\u001b[0;32m    839\u001b[0m \u001b[38;5;28;01mif\u001b[39;00m \u001b[38;5;28mlen\u001b[39m(out) \u001b[38;5;241m<\u001b[39m \u001b[38;5;241m1\u001b[39m:\n\u001b[0;32m    840\u001b[0m     \u001b[38;5;28;01mraise\u001b[39;00m \u001b[38;5;167;01mValueError\u001b[39;00m(\n\u001b[0;32m    841\u001b[0m         \u001b[38;5;124m\"\u001b[39m\u001b[38;5;124mNo fits were performed. \u001b[39m\u001b[38;5;124m\"\u001b[39m\n\u001b[0;32m    842\u001b[0m         \u001b[38;5;124m\"\u001b[39m\u001b[38;5;124mWas the CV iterator empty? \u001b[39m\u001b[38;5;124m\"\u001b[39m\n\u001b[0;32m    843\u001b[0m         \u001b[38;5;124m\"\u001b[39m\u001b[38;5;124mWere there no candidates?\u001b[39m\u001b[38;5;124m\"\u001b[39m\n\u001b[0;32m    844\u001b[0m     )\n",
      "File \u001b[1;32m~\\anaconda3\\lib\\site-packages\\joblib\\parallel.py:1044\u001b[0m, in \u001b[0;36mParallel.__call__\u001b[1;34m(self, iterable)\u001b[0m\n\u001b[0;32m   1041\u001b[0m \u001b[38;5;28;01mif\u001b[39;00m \u001b[38;5;28mself\u001b[39m\u001b[38;5;241m.\u001b[39mdispatch_one_batch(iterator):\n\u001b[0;32m   1042\u001b[0m     \u001b[38;5;28mself\u001b[39m\u001b[38;5;241m.\u001b[39m_iterating \u001b[38;5;241m=\u001b[39m \u001b[38;5;28mself\u001b[39m\u001b[38;5;241m.\u001b[39m_original_iterator \u001b[38;5;129;01mis\u001b[39;00m \u001b[38;5;129;01mnot\u001b[39;00m \u001b[38;5;28;01mNone\u001b[39;00m\n\u001b[1;32m-> 1044\u001b[0m \u001b[38;5;28;01mwhile\u001b[39;00m \u001b[38;5;28;43mself\u001b[39;49m\u001b[38;5;241;43m.\u001b[39;49m\u001b[43mdispatch_one_batch\u001b[49m\u001b[43m(\u001b[49m\u001b[43miterator\u001b[49m\u001b[43m)\u001b[49m:\n\u001b[0;32m   1045\u001b[0m     \u001b[38;5;28;01mpass\u001b[39;00m\n\u001b[0;32m   1047\u001b[0m \u001b[38;5;28;01mif\u001b[39;00m pre_dispatch \u001b[38;5;241m==\u001b[39m \u001b[38;5;124m\"\u001b[39m\u001b[38;5;124mall\u001b[39m\u001b[38;5;124m\"\u001b[39m \u001b[38;5;129;01mor\u001b[39;00m n_jobs \u001b[38;5;241m==\u001b[39m \u001b[38;5;241m1\u001b[39m:\n\u001b[0;32m   1048\u001b[0m     \u001b[38;5;66;03m# The iterable was consumed all at once by the above for loop.\u001b[39;00m\n\u001b[0;32m   1049\u001b[0m     \u001b[38;5;66;03m# No need to wait for async callbacks to trigger to\u001b[39;00m\n\u001b[0;32m   1050\u001b[0m     \u001b[38;5;66;03m# consumption.\u001b[39;00m\n",
      "File \u001b[1;32m~\\anaconda3\\lib\\site-packages\\joblib\\parallel.py:859\u001b[0m, in \u001b[0;36mParallel.dispatch_one_batch\u001b[1;34m(self, iterator)\u001b[0m\n\u001b[0;32m    857\u001b[0m     \u001b[38;5;28;01mreturn\u001b[39;00m \u001b[38;5;28;01mFalse\u001b[39;00m\n\u001b[0;32m    858\u001b[0m \u001b[38;5;28;01melse\u001b[39;00m:\n\u001b[1;32m--> 859\u001b[0m     \u001b[38;5;28;43mself\u001b[39;49m\u001b[38;5;241;43m.\u001b[39;49m\u001b[43m_dispatch\u001b[49m\u001b[43m(\u001b[49m\u001b[43mtasks\u001b[49m\u001b[43m)\u001b[49m\n\u001b[0;32m    860\u001b[0m     \u001b[38;5;28;01mreturn\u001b[39;00m \u001b[38;5;28;01mTrue\u001b[39;00m\n",
      "File \u001b[1;32m~\\anaconda3\\lib\\site-packages\\joblib\\parallel.py:777\u001b[0m, in \u001b[0;36mParallel._dispatch\u001b[1;34m(self, batch)\u001b[0m\n\u001b[0;32m    775\u001b[0m \u001b[38;5;28;01mwith\u001b[39;00m \u001b[38;5;28mself\u001b[39m\u001b[38;5;241m.\u001b[39m_lock:\n\u001b[0;32m    776\u001b[0m     job_idx \u001b[38;5;241m=\u001b[39m \u001b[38;5;28mlen\u001b[39m(\u001b[38;5;28mself\u001b[39m\u001b[38;5;241m.\u001b[39m_jobs)\n\u001b[1;32m--> 777\u001b[0m     job \u001b[38;5;241m=\u001b[39m \u001b[38;5;28;43mself\u001b[39;49m\u001b[38;5;241;43m.\u001b[39;49m\u001b[43m_backend\u001b[49m\u001b[38;5;241;43m.\u001b[39;49m\u001b[43mapply_async\u001b[49m\u001b[43m(\u001b[49m\u001b[43mbatch\u001b[49m\u001b[43m,\u001b[49m\u001b[43m \u001b[49m\u001b[43mcallback\u001b[49m\u001b[38;5;241;43m=\u001b[39;49m\u001b[43mcb\u001b[49m\u001b[43m)\u001b[49m\n\u001b[0;32m    778\u001b[0m     \u001b[38;5;66;03m# A job can complete so quickly than its callback is\u001b[39;00m\n\u001b[0;32m    779\u001b[0m     \u001b[38;5;66;03m# called before we get here, causing self._jobs to\u001b[39;00m\n\u001b[0;32m    780\u001b[0m     \u001b[38;5;66;03m# grow. To ensure correct results ordering, .insert is\u001b[39;00m\n\u001b[0;32m    781\u001b[0m     \u001b[38;5;66;03m# used (rather than .append) in the following line\u001b[39;00m\n\u001b[0;32m    782\u001b[0m     \u001b[38;5;28mself\u001b[39m\u001b[38;5;241m.\u001b[39m_jobs\u001b[38;5;241m.\u001b[39minsert(job_idx, job)\n",
      "File \u001b[1;32m~\\anaconda3\\lib\\site-packages\\joblib\\_parallel_backends.py:208\u001b[0m, in \u001b[0;36mSequentialBackend.apply_async\u001b[1;34m(self, func, callback)\u001b[0m\n\u001b[0;32m    206\u001b[0m \u001b[38;5;28;01mdef\u001b[39;00m \u001b[38;5;21mapply_async\u001b[39m(\u001b[38;5;28mself\u001b[39m, func, callback\u001b[38;5;241m=\u001b[39m\u001b[38;5;28;01mNone\u001b[39;00m):\n\u001b[0;32m    207\u001b[0m     \u001b[38;5;124;03m\"\"\"Schedule a func to be run\"\"\"\u001b[39;00m\n\u001b[1;32m--> 208\u001b[0m     result \u001b[38;5;241m=\u001b[39m \u001b[43mImmediateResult\u001b[49m\u001b[43m(\u001b[49m\u001b[43mfunc\u001b[49m\u001b[43m)\u001b[49m\n\u001b[0;32m    209\u001b[0m     \u001b[38;5;28;01mif\u001b[39;00m callback:\n\u001b[0;32m    210\u001b[0m         callback(result)\n",
      "File \u001b[1;32m~\\anaconda3\\lib\\site-packages\\joblib\\_parallel_backends.py:572\u001b[0m, in \u001b[0;36mImmediateResult.__init__\u001b[1;34m(self, batch)\u001b[0m\n\u001b[0;32m    569\u001b[0m \u001b[38;5;28;01mdef\u001b[39;00m \u001b[38;5;21m__init__\u001b[39m(\u001b[38;5;28mself\u001b[39m, batch):\n\u001b[0;32m    570\u001b[0m     \u001b[38;5;66;03m# Don't delay the application, to avoid keeping the input\u001b[39;00m\n\u001b[0;32m    571\u001b[0m     \u001b[38;5;66;03m# arguments in memory\u001b[39;00m\n\u001b[1;32m--> 572\u001b[0m     \u001b[38;5;28mself\u001b[39m\u001b[38;5;241m.\u001b[39mresults \u001b[38;5;241m=\u001b[39m \u001b[43mbatch\u001b[49m\u001b[43m(\u001b[49m\u001b[43m)\u001b[49m\n",
      "File \u001b[1;32m~\\anaconda3\\lib\\site-packages\\joblib\\parallel.py:262\u001b[0m, in \u001b[0;36mBatchedCalls.__call__\u001b[1;34m(self)\u001b[0m\n\u001b[0;32m    258\u001b[0m \u001b[38;5;28;01mdef\u001b[39;00m \u001b[38;5;21m__call__\u001b[39m(\u001b[38;5;28mself\u001b[39m):\n\u001b[0;32m    259\u001b[0m     \u001b[38;5;66;03m# Set the default nested backend to self._backend but do not set the\u001b[39;00m\n\u001b[0;32m    260\u001b[0m     \u001b[38;5;66;03m# change the default number of processes to -1\u001b[39;00m\n\u001b[0;32m    261\u001b[0m     \u001b[38;5;28;01mwith\u001b[39;00m parallel_backend(\u001b[38;5;28mself\u001b[39m\u001b[38;5;241m.\u001b[39m_backend, n_jobs\u001b[38;5;241m=\u001b[39m\u001b[38;5;28mself\u001b[39m\u001b[38;5;241m.\u001b[39m_n_jobs):\n\u001b[1;32m--> 262\u001b[0m         \u001b[38;5;28;01mreturn\u001b[39;00m [func(\u001b[38;5;241m*\u001b[39margs, \u001b[38;5;241m*\u001b[39m\u001b[38;5;241m*\u001b[39mkwargs)\n\u001b[0;32m    263\u001b[0m                 \u001b[38;5;28;01mfor\u001b[39;00m func, args, kwargs \u001b[38;5;129;01min\u001b[39;00m \u001b[38;5;28mself\u001b[39m\u001b[38;5;241m.\u001b[39mitems]\n",
      "File \u001b[1;32m~\\anaconda3\\lib\\site-packages\\joblib\\parallel.py:262\u001b[0m, in \u001b[0;36m<listcomp>\u001b[1;34m(.0)\u001b[0m\n\u001b[0;32m    258\u001b[0m \u001b[38;5;28;01mdef\u001b[39;00m \u001b[38;5;21m__call__\u001b[39m(\u001b[38;5;28mself\u001b[39m):\n\u001b[0;32m    259\u001b[0m     \u001b[38;5;66;03m# Set the default nested backend to self._backend but do not set the\u001b[39;00m\n\u001b[0;32m    260\u001b[0m     \u001b[38;5;66;03m# change the default number of processes to -1\u001b[39;00m\n\u001b[0;32m    261\u001b[0m     \u001b[38;5;28;01mwith\u001b[39;00m parallel_backend(\u001b[38;5;28mself\u001b[39m\u001b[38;5;241m.\u001b[39m_backend, n_jobs\u001b[38;5;241m=\u001b[39m\u001b[38;5;28mself\u001b[39m\u001b[38;5;241m.\u001b[39m_n_jobs):\n\u001b[1;32m--> 262\u001b[0m         \u001b[38;5;28;01mreturn\u001b[39;00m [\u001b[43mfunc\u001b[49m\u001b[43m(\u001b[49m\u001b[38;5;241;43m*\u001b[39;49m\u001b[43margs\u001b[49m\u001b[43m,\u001b[49m\u001b[43m \u001b[49m\u001b[38;5;241;43m*\u001b[39;49m\u001b[38;5;241;43m*\u001b[39;49m\u001b[43mkwargs\u001b[49m\u001b[43m)\u001b[49m\n\u001b[0;32m    263\u001b[0m                 \u001b[38;5;28;01mfor\u001b[39;00m func, args, kwargs \u001b[38;5;129;01min\u001b[39;00m \u001b[38;5;28mself\u001b[39m\u001b[38;5;241m.\u001b[39mitems]\n",
      "File \u001b[1;32m~\\anaconda3\\lib\\site-packages\\sklearn\\utils\\fixes.py:117\u001b[0m, in \u001b[0;36m_FuncWrapper.__call__\u001b[1;34m(self, *args, **kwargs)\u001b[0m\n\u001b[0;32m    115\u001b[0m \u001b[38;5;28;01mdef\u001b[39;00m \u001b[38;5;21m__call__\u001b[39m(\u001b[38;5;28mself\u001b[39m, \u001b[38;5;241m*\u001b[39margs, \u001b[38;5;241m*\u001b[39m\u001b[38;5;241m*\u001b[39mkwargs):\n\u001b[0;32m    116\u001b[0m     \u001b[38;5;28;01mwith\u001b[39;00m config_context(\u001b[38;5;241m*\u001b[39m\u001b[38;5;241m*\u001b[39m\u001b[38;5;28mself\u001b[39m\u001b[38;5;241m.\u001b[39mconfig):\n\u001b[1;32m--> 117\u001b[0m         \u001b[38;5;28;01mreturn\u001b[39;00m \u001b[38;5;28;43mself\u001b[39;49m\u001b[38;5;241;43m.\u001b[39;49m\u001b[43mfunction\u001b[49m\u001b[43m(\u001b[49m\u001b[38;5;241;43m*\u001b[39;49m\u001b[43margs\u001b[49m\u001b[43m,\u001b[49m\u001b[43m \u001b[49m\u001b[38;5;241;43m*\u001b[39;49m\u001b[38;5;241;43m*\u001b[39;49m\u001b[43mkwargs\u001b[49m\u001b[43m)\u001b[49m\n",
      "File \u001b[1;32m~\\anaconda3\\lib\\site-packages\\sklearn\\model_selection\\_validation.py:686\u001b[0m, in \u001b[0;36m_fit_and_score\u001b[1;34m(estimator, X, y, scorer, train, test, verbose, parameters, fit_params, return_train_score, return_parameters, return_n_test_samples, return_times, return_estimator, split_progress, candidate_progress, error_score)\u001b[0m\n\u001b[0;32m    684\u001b[0m         estimator\u001b[38;5;241m.\u001b[39mfit(X_train, \u001b[38;5;241m*\u001b[39m\u001b[38;5;241m*\u001b[39mfit_params)\n\u001b[0;32m    685\u001b[0m     \u001b[38;5;28;01melse\u001b[39;00m:\n\u001b[1;32m--> 686\u001b[0m         \u001b[43mestimator\u001b[49m\u001b[38;5;241;43m.\u001b[39;49m\u001b[43mfit\u001b[49m\u001b[43m(\u001b[49m\u001b[43mX_train\u001b[49m\u001b[43m,\u001b[49m\u001b[43m \u001b[49m\u001b[43my_train\u001b[49m\u001b[43m,\u001b[49m\u001b[43m \u001b[49m\u001b[38;5;241;43m*\u001b[39;49m\u001b[38;5;241;43m*\u001b[39;49m\u001b[43mfit_params\u001b[49m\u001b[43m)\u001b[49m\n\u001b[0;32m    688\u001b[0m \u001b[38;5;28;01mexcept\u001b[39;00m \u001b[38;5;167;01mException\u001b[39;00m:\n\u001b[0;32m    689\u001b[0m     \u001b[38;5;66;03m# Note fit time as time until error\u001b[39;00m\n\u001b[0;32m    690\u001b[0m     fit_time \u001b[38;5;241m=\u001b[39m time\u001b[38;5;241m.\u001b[39mtime() \u001b[38;5;241m-\u001b[39m start_time\n",
      "File \u001b[1;32m~\\anaconda3\\lib\\site-packages\\scikeras\\wrappers.py:1494\u001b[0m, in \u001b[0;36mKerasClassifier.fit\u001b[1;34m(self, X, y, sample_weight, **kwargs)\u001b[0m\n\u001b[0;32m   1492\u001b[0m     sample_weight \u001b[38;5;241m=\u001b[39m \u001b[38;5;241m1\u001b[39m \u001b[38;5;28;01mif\u001b[39;00m sample_weight \u001b[38;5;129;01mis\u001b[39;00m \u001b[38;5;28;01mNone\u001b[39;00m \u001b[38;5;28;01melse\u001b[39;00m sample_weight\n\u001b[0;32m   1493\u001b[0m     sample_weight \u001b[38;5;241m*\u001b[39m\u001b[38;5;241m=\u001b[39m compute_sample_weight(class_weight\u001b[38;5;241m=\u001b[39m\u001b[38;5;28mself\u001b[39m\u001b[38;5;241m.\u001b[39mclass_weight, y\u001b[38;5;241m=\u001b[39my)\n\u001b[1;32m-> 1494\u001b[0m \u001b[38;5;28;43msuper\u001b[39;49m\u001b[43m(\u001b[49m\u001b[43m)\u001b[49m\u001b[38;5;241;43m.\u001b[39;49m\u001b[43mfit\u001b[49m\u001b[43m(\u001b[49m\u001b[43mX\u001b[49m\u001b[38;5;241;43m=\u001b[39;49m\u001b[43mX\u001b[49m\u001b[43m,\u001b[49m\u001b[43m \u001b[49m\u001b[43my\u001b[49m\u001b[38;5;241;43m=\u001b[39;49m\u001b[43my\u001b[49m\u001b[43m,\u001b[49m\u001b[43m \u001b[49m\u001b[43msample_weight\u001b[49m\u001b[38;5;241;43m=\u001b[39;49m\u001b[43msample_weight\u001b[49m\u001b[43m,\u001b[49m\u001b[43m \u001b[49m\u001b[38;5;241;43m*\u001b[39;49m\u001b[38;5;241;43m*\u001b[39;49m\u001b[43mkwargs\u001b[49m\u001b[43m)\u001b[49m\n\u001b[0;32m   1495\u001b[0m \u001b[38;5;28;01mreturn\u001b[39;00m \u001b[38;5;28mself\u001b[39m\n",
      "File \u001b[1;32m~\\anaconda3\\lib\\site-packages\\scikeras\\wrappers.py:762\u001b[0m, in \u001b[0;36mBaseWrapper.fit\u001b[1;34m(self, X, y, sample_weight, **kwargs)\u001b[0m\n\u001b[0;32m    757\u001b[0m kwargs[\u001b[38;5;124m\"\u001b[39m\u001b[38;5;124mepochs\u001b[39m\u001b[38;5;124m\"\u001b[39m] \u001b[38;5;241m=\u001b[39m kwargs\u001b[38;5;241m.\u001b[39mget(\n\u001b[0;32m    758\u001b[0m     \u001b[38;5;124m\"\u001b[39m\u001b[38;5;124mepochs\u001b[39m\u001b[38;5;124m\"\u001b[39m, \u001b[38;5;28mgetattr\u001b[39m(\u001b[38;5;28mself\u001b[39m, \u001b[38;5;124m\"\u001b[39m\u001b[38;5;124mfit__epochs\u001b[39m\u001b[38;5;124m\"\u001b[39m, \u001b[38;5;28mself\u001b[39m\u001b[38;5;241m.\u001b[39mepochs)\n\u001b[0;32m    759\u001b[0m )\n\u001b[0;32m    760\u001b[0m kwargs[\u001b[38;5;124m\"\u001b[39m\u001b[38;5;124minitial_epoch\u001b[39m\u001b[38;5;124m\"\u001b[39m] \u001b[38;5;241m=\u001b[39m kwargs\u001b[38;5;241m.\u001b[39mget(\u001b[38;5;124m\"\u001b[39m\u001b[38;5;124minitial_epoch\u001b[39m\u001b[38;5;124m\"\u001b[39m, \u001b[38;5;241m0\u001b[39m)\n\u001b[1;32m--> 762\u001b[0m \u001b[38;5;28;43mself\u001b[39;49m\u001b[38;5;241;43m.\u001b[39;49m\u001b[43m_fit\u001b[49m\u001b[43m(\u001b[49m\n\u001b[0;32m    763\u001b[0m \u001b[43m    \u001b[49m\u001b[43mX\u001b[49m\u001b[38;5;241;43m=\u001b[39;49m\u001b[43mX\u001b[49m\u001b[43m,\u001b[49m\n\u001b[0;32m    764\u001b[0m \u001b[43m    \u001b[49m\u001b[43my\u001b[49m\u001b[38;5;241;43m=\u001b[39;49m\u001b[43my\u001b[49m\u001b[43m,\u001b[49m\n\u001b[0;32m    765\u001b[0m \u001b[43m    \u001b[49m\u001b[43msample_weight\u001b[49m\u001b[38;5;241;43m=\u001b[39;49m\u001b[43msample_weight\u001b[49m\u001b[43m,\u001b[49m\n\u001b[0;32m    766\u001b[0m \u001b[43m    \u001b[49m\u001b[43mwarm_start\u001b[49m\u001b[38;5;241;43m=\u001b[39;49m\u001b[38;5;28;43mself\u001b[39;49m\u001b[38;5;241;43m.\u001b[39;49m\u001b[43mwarm_start\u001b[49m\u001b[43m,\u001b[49m\n\u001b[0;32m    767\u001b[0m \u001b[43m    \u001b[49m\u001b[38;5;241;43m*\u001b[39;49m\u001b[38;5;241;43m*\u001b[39;49m\u001b[43mkwargs\u001b[49m\u001b[43m,\u001b[49m\n\u001b[0;32m    768\u001b[0m \u001b[43m\u001b[49m\u001b[43m)\u001b[49m\n\u001b[0;32m    770\u001b[0m \u001b[38;5;28;01mreturn\u001b[39;00m \u001b[38;5;28mself\u001b[39m\n",
      "File \u001b[1;32m~\\anaconda3\\lib\\site-packages\\scikeras\\wrappers.py:931\u001b[0m, in \u001b[0;36mBaseWrapper._fit\u001b[1;34m(self, X, y, sample_weight, warm_start, epochs, initial_epoch, **kwargs)\u001b[0m\n\u001b[0;32m    927\u001b[0m X \u001b[38;5;241m=\u001b[39m \u001b[38;5;28mself\u001b[39m\u001b[38;5;241m.\u001b[39mfeature_encoder_\u001b[38;5;241m.\u001b[39mtransform(X)\n\u001b[0;32m    929\u001b[0m \u001b[38;5;28mself\u001b[39m\u001b[38;5;241m.\u001b[39m_check_model_compatibility(y)\n\u001b[1;32m--> 931\u001b[0m \u001b[38;5;28;43mself\u001b[39;49m\u001b[38;5;241;43m.\u001b[39;49m\u001b[43m_fit_keras_model\u001b[49m\u001b[43m(\u001b[49m\n\u001b[0;32m    932\u001b[0m \u001b[43m    \u001b[49m\u001b[43mX\u001b[49m\u001b[43m,\u001b[49m\n\u001b[0;32m    933\u001b[0m \u001b[43m    \u001b[49m\u001b[43my\u001b[49m\u001b[43m,\u001b[49m\n\u001b[0;32m    934\u001b[0m \u001b[43m    \u001b[49m\u001b[43msample_weight\u001b[49m\u001b[38;5;241;43m=\u001b[39;49m\u001b[43msample_weight\u001b[49m\u001b[43m,\u001b[49m\n\u001b[0;32m    935\u001b[0m \u001b[43m    \u001b[49m\u001b[43mwarm_start\u001b[49m\u001b[38;5;241;43m=\u001b[39;49m\u001b[43mwarm_start\u001b[49m\u001b[43m,\u001b[49m\n\u001b[0;32m    936\u001b[0m \u001b[43m    \u001b[49m\u001b[43mepochs\u001b[49m\u001b[38;5;241;43m=\u001b[39;49m\u001b[43mepochs\u001b[49m\u001b[43m,\u001b[49m\n\u001b[0;32m    937\u001b[0m \u001b[43m    \u001b[49m\u001b[43minitial_epoch\u001b[49m\u001b[38;5;241;43m=\u001b[39;49m\u001b[43minitial_epoch\u001b[49m\u001b[43m,\u001b[49m\n\u001b[0;32m    938\u001b[0m \u001b[43m    \u001b[49m\u001b[38;5;241;43m*\u001b[39;49m\u001b[38;5;241;43m*\u001b[39;49m\u001b[43mkwargs\u001b[49m\u001b[43m,\u001b[49m\n\u001b[0;32m    939\u001b[0m \u001b[43m\u001b[49m\u001b[43m)\u001b[49m\n",
      "File \u001b[1;32m~\\anaconda3\\lib\\site-packages\\scikeras\\wrappers.py:526\u001b[0m, in \u001b[0;36mBaseWrapper._fit_keras_model\u001b[1;34m(self, X, y, sample_weight, warm_start, epochs, initial_epoch, **kwargs)\u001b[0m\n\u001b[0;32m    524\u001b[0m         hist \u001b[38;5;241m=\u001b[39m \u001b[38;5;28mself\u001b[39m\u001b[38;5;241m.\u001b[39mmodel_\u001b[38;5;241m.\u001b[39mfit(x\u001b[38;5;241m=\u001b[39mX, y\u001b[38;5;241m=\u001b[39my, \u001b[38;5;241m*\u001b[39m\u001b[38;5;241m*\u001b[39mfit_args)\n\u001b[0;32m    525\u001b[0m \u001b[38;5;28;01melse\u001b[39;00m:\n\u001b[1;32m--> 526\u001b[0m     hist \u001b[38;5;241m=\u001b[39m \u001b[38;5;28;43mself\u001b[39;49m\u001b[38;5;241;43m.\u001b[39;49m\u001b[43mmodel_\u001b[49m\u001b[38;5;241;43m.\u001b[39;49m\u001b[43mfit\u001b[49m\u001b[43m(\u001b[49m\u001b[43mx\u001b[49m\u001b[38;5;241;43m=\u001b[39;49m\u001b[43mX\u001b[49m\u001b[43m,\u001b[49m\u001b[43m \u001b[49m\u001b[43my\u001b[49m\u001b[38;5;241;43m=\u001b[39;49m\u001b[43my\u001b[49m\u001b[43m,\u001b[49m\u001b[43m \u001b[49m\u001b[38;5;241;43m*\u001b[39;49m\u001b[38;5;241;43m*\u001b[39;49m\u001b[43mfit_args\u001b[49m\u001b[43m)\u001b[49m\n\u001b[0;32m    528\u001b[0m \u001b[38;5;28;01mif\u001b[39;00m \u001b[38;5;129;01mnot\u001b[39;00m warm_start \u001b[38;5;129;01mor\u001b[39;00m \u001b[38;5;129;01mnot\u001b[39;00m \u001b[38;5;28mhasattr\u001b[39m(\u001b[38;5;28mself\u001b[39m, \u001b[38;5;124m\"\u001b[39m\u001b[38;5;124mhistory_\u001b[39m\u001b[38;5;124m\"\u001b[39m) \u001b[38;5;129;01mor\u001b[39;00m initial_epoch \u001b[38;5;241m==\u001b[39m \u001b[38;5;241m0\u001b[39m:\n\u001b[0;32m    529\u001b[0m     \u001b[38;5;28mself\u001b[39m\u001b[38;5;241m.\u001b[39mhistory_ \u001b[38;5;241m=\u001b[39m defaultdict(\u001b[38;5;28mlist\u001b[39m)\n",
      "File \u001b[1;32m~\\anaconda3\\lib\\site-packages\\keras\\utils\\traceback_utils.py:65\u001b[0m, in \u001b[0;36mfilter_traceback.<locals>.error_handler\u001b[1;34m(*args, **kwargs)\u001b[0m\n\u001b[0;32m     63\u001b[0m filtered_tb \u001b[38;5;241m=\u001b[39m \u001b[38;5;28;01mNone\u001b[39;00m\n\u001b[0;32m     64\u001b[0m \u001b[38;5;28;01mtry\u001b[39;00m:\n\u001b[1;32m---> 65\u001b[0m     \u001b[38;5;28;01mreturn\u001b[39;00m \u001b[43mfn\u001b[49m\u001b[43m(\u001b[49m\u001b[38;5;241;43m*\u001b[39;49m\u001b[43margs\u001b[49m\u001b[43m,\u001b[49m\u001b[43m \u001b[49m\u001b[38;5;241;43m*\u001b[39;49m\u001b[38;5;241;43m*\u001b[39;49m\u001b[43mkwargs\u001b[49m\u001b[43m)\u001b[49m\n\u001b[0;32m     66\u001b[0m \u001b[38;5;28;01mexcept\u001b[39;00m \u001b[38;5;167;01mException\u001b[39;00m \u001b[38;5;28;01mas\u001b[39;00m e:\n\u001b[0;32m     67\u001b[0m     filtered_tb \u001b[38;5;241m=\u001b[39m _process_traceback_frames(e\u001b[38;5;241m.\u001b[39m__traceback__)\n",
      "File \u001b[1;32m~\\anaconda3\\lib\\site-packages\\keras\\engine\\training.py:1564\u001b[0m, in \u001b[0;36mModel.fit\u001b[1;34m(self, x, y, batch_size, epochs, verbose, callbacks, validation_split, validation_data, shuffle, class_weight, sample_weight, initial_epoch, steps_per_epoch, validation_steps, validation_batch_size, validation_freq, max_queue_size, workers, use_multiprocessing)\u001b[0m\n\u001b[0;32m   1556\u001b[0m \u001b[38;5;28;01mwith\u001b[39;00m tf\u001b[38;5;241m.\u001b[39mprofiler\u001b[38;5;241m.\u001b[39mexperimental\u001b[38;5;241m.\u001b[39mTrace(\n\u001b[0;32m   1557\u001b[0m     \u001b[38;5;124m\"\u001b[39m\u001b[38;5;124mtrain\u001b[39m\u001b[38;5;124m\"\u001b[39m,\n\u001b[0;32m   1558\u001b[0m     epoch_num\u001b[38;5;241m=\u001b[39mepoch,\n\u001b[1;32m   (...)\u001b[0m\n\u001b[0;32m   1561\u001b[0m     _r\u001b[38;5;241m=\u001b[39m\u001b[38;5;241m1\u001b[39m,\n\u001b[0;32m   1562\u001b[0m ):\n\u001b[0;32m   1563\u001b[0m     callbacks\u001b[38;5;241m.\u001b[39mon_train_batch_begin(step)\n\u001b[1;32m-> 1564\u001b[0m     tmp_logs \u001b[38;5;241m=\u001b[39m \u001b[38;5;28;43mself\u001b[39;49m\u001b[38;5;241;43m.\u001b[39;49m\u001b[43mtrain_function\u001b[49m\u001b[43m(\u001b[49m\u001b[43miterator\u001b[49m\u001b[43m)\u001b[49m\n\u001b[0;32m   1565\u001b[0m     \u001b[38;5;28;01mif\u001b[39;00m data_handler\u001b[38;5;241m.\u001b[39mshould_sync:\n\u001b[0;32m   1566\u001b[0m         context\u001b[38;5;241m.\u001b[39masync_wait()\n",
      "File \u001b[1;32m~\\anaconda3\\lib\\site-packages\\tensorflow\\python\\util\\traceback_utils.py:150\u001b[0m, in \u001b[0;36mfilter_traceback.<locals>.error_handler\u001b[1;34m(*args, **kwargs)\u001b[0m\n\u001b[0;32m    148\u001b[0m filtered_tb \u001b[38;5;241m=\u001b[39m \u001b[38;5;28;01mNone\u001b[39;00m\n\u001b[0;32m    149\u001b[0m \u001b[38;5;28;01mtry\u001b[39;00m:\n\u001b[1;32m--> 150\u001b[0m   \u001b[38;5;28;01mreturn\u001b[39;00m \u001b[43mfn\u001b[49m\u001b[43m(\u001b[49m\u001b[38;5;241;43m*\u001b[39;49m\u001b[43margs\u001b[49m\u001b[43m,\u001b[49m\u001b[43m \u001b[49m\u001b[38;5;241;43m*\u001b[39;49m\u001b[38;5;241;43m*\u001b[39;49m\u001b[43mkwargs\u001b[49m\u001b[43m)\u001b[49m\n\u001b[0;32m    151\u001b[0m \u001b[38;5;28;01mexcept\u001b[39;00m \u001b[38;5;167;01mException\u001b[39;00m \u001b[38;5;28;01mas\u001b[39;00m e:\n\u001b[0;32m    152\u001b[0m   filtered_tb \u001b[38;5;241m=\u001b[39m _process_traceback_frames(e\u001b[38;5;241m.\u001b[39m__traceback__)\n",
      "File \u001b[1;32m~\\anaconda3\\lib\\site-packages\\tensorflow\\python\\eager\\polymorphic_function\\polymorphic_function.py:880\u001b[0m, in \u001b[0;36mFunction.__call__\u001b[1;34m(self, *args, **kwds)\u001b[0m\n\u001b[0;32m    877\u001b[0m compiler \u001b[38;5;241m=\u001b[39m \u001b[38;5;124m\"\u001b[39m\u001b[38;5;124mxla\u001b[39m\u001b[38;5;124m\"\u001b[39m \u001b[38;5;28;01mif\u001b[39;00m \u001b[38;5;28mself\u001b[39m\u001b[38;5;241m.\u001b[39m_jit_compile \u001b[38;5;28;01melse\u001b[39;00m \u001b[38;5;124m\"\u001b[39m\u001b[38;5;124mnonXla\u001b[39m\u001b[38;5;124m\"\u001b[39m\n\u001b[0;32m    879\u001b[0m \u001b[38;5;28;01mwith\u001b[39;00m OptionalXlaContext(\u001b[38;5;28mself\u001b[39m\u001b[38;5;241m.\u001b[39m_jit_compile):\n\u001b[1;32m--> 880\u001b[0m   result \u001b[38;5;241m=\u001b[39m \u001b[38;5;28;43mself\u001b[39;49m\u001b[38;5;241;43m.\u001b[39;49m\u001b[43m_call\u001b[49m\u001b[43m(\u001b[49m\u001b[38;5;241;43m*\u001b[39;49m\u001b[43margs\u001b[49m\u001b[43m,\u001b[49m\u001b[43m \u001b[49m\u001b[38;5;241;43m*\u001b[39;49m\u001b[38;5;241;43m*\u001b[39;49m\u001b[43mkwds\u001b[49m\u001b[43m)\u001b[49m\n\u001b[0;32m    882\u001b[0m new_tracing_count \u001b[38;5;241m=\u001b[39m \u001b[38;5;28mself\u001b[39m\u001b[38;5;241m.\u001b[39mexperimental_get_tracing_count()\n\u001b[0;32m    883\u001b[0m without_tracing \u001b[38;5;241m=\u001b[39m (tracing_count \u001b[38;5;241m==\u001b[39m new_tracing_count)\n",
      "File \u001b[1;32m~\\anaconda3\\lib\\site-packages\\tensorflow\\python\\eager\\polymorphic_function\\polymorphic_function.py:912\u001b[0m, in \u001b[0;36mFunction._call\u001b[1;34m(self, *args, **kwds)\u001b[0m\n\u001b[0;32m    909\u001b[0m   \u001b[38;5;28mself\u001b[39m\u001b[38;5;241m.\u001b[39m_lock\u001b[38;5;241m.\u001b[39mrelease()\n\u001b[0;32m    910\u001b[0m   \u001b[38;5;66;03m# In this case we have created variables on the first call, so we run the\u001b[39;00m\n\u001b[0;32m    911\u001b[0m   \u001b[38;5;66;03m# defunned version which is guaranteed to never create variables.\u001b[39;00m\n\u001b[1;32m--> 912\u001b[0m   \u001b[38;5;28;01mreturn\u001b[39;00m \u001b[38;5;28;43mself\u001b[39;49m\u001b[38;5;241;43m.\u001b[39;49m\u001b[43m_no_variable_creation_fn\u001b[49m\u001b[43m(\u001b[49m\u001b[38;5;241;43m*\u001b[39;49m\u001b[43margs\u001b[49m\u001b[43m,\u001b[49m\u001b[43m \u001b[49m\u001b[38;5;241;43m*\u001b[39;49m\u001b[38;5;241;43m*\u001b[39;49m\u001b[43mkwds\u001b[49m\u001b[43m)\u001b[49m  \u001b[38;5;66;03m# pylint: disable=not-callable\u001b[39;00m\n\u001b[0;32m    913\u001b[0m \u001b[38;5;28;01melif\u001b[39;00m \u001b[38;5;28mself\u001b[39m\u001b[38;5;241m.\u001b[39m_variable_creation_fn \u001b[38;5;129;01mis\u001b[39;00m \u001b[38;5;129;01mnot\u001b[39;00m \u001b[38;5;28;01mNone\u001b[39;00m:\n\u001b[0;32m    914\u001b[0m   \u001b[38;5;66;03m# Release the lock early so that multiple threads can perform the call\u001b[39;00m\n\u001b[0;32m    915\u001b[0m   \u001b[38;5;66;03m# in parallel.\u001b[39;00m\n\u001b[0;32m    916\u001b[0m   \u001b[38;5;28mself\u001b[39m\u001b[38;5;241m.\u001b[39m_lock\u001b[38;5;241m.\u001b[39mrelease()\n",
      "File \u001b[1;32m~\\anaconda3\\lib\\site-packages\\tensorflow\\python\\eager\\polymorphic_function\\tracing_compiler.py:134\u001b[0m, in \u001b[0;36mTracingCompiler.__call__\u001b[1;34m(self, *args, **kwargs)\u001b[0m\n\u001b[0;32m    131\u001b[0m \u001b[38;5;28;01mwith\u001b[39;00m \u001b[38;5;28mself\u001b[39m\u001b[38;5;241m.\u001b[39m_lock:\n\u001b[0;32m    132\u001b[0m   (concrete_function,\n\u001b[0;32m    133\u001b[0m    filtered_flat_args) \u001b[38;5;241m=\u001b[39m \u001b[38;5;28mself\u001b[39m\u001b[38;5;241m.\u001b[39m_maybe_define_function(args, kwargs)\n\u001b[1;32m--> 134\u001b[0m \u001b[38;5;28;01mreturn\u001b[39;00m \u001b[43mconcrete_function\u001b[49m\u001b[38;5;241;43m.\u001b[39;49m\u001b[43m_call_flat\u001b[49m\u001b[43m(\u001b[49m\n\u001b[0;32m    135\u001b[0m \u001b[43m    \u001b[49m\u001b[43mfiltered_flat_args\u001b[49m\u001b[43m,\u001b[49m\u001b[43m \u001b[49m\u001b[43mcaptured_inputs\u001b[49m\u001b[38;5;241;43m=\u001b[39;49m\u001b[43mconcrete_function\u001b[49m\u001b[38;5;241;43m.\u001b[39;49m\u001b[43mcaptured_inputs\u001b[49m\u001b[43m)\u001b[49m\n",
      "File \u001b[1;32m~\\anaconda3\\lib\\site-packages\\tensorflow\\python\\eager\\polymorphic_function\\monomorphic_function.py:1745\u001b[0m, in \u001b[0;36mConcreteFunction._call_flat\u001b[1;34m(self, args, captured_inputs, cancellation_manager)\u001b[0m\n\u001b[0;32m   1741\u001b[0m possible_gradient_type \u001b[38;5;241m=\u001b[39m gradients_util\u001b[38;5;241m.\u001b[39mPossibleTapeGradientTypes(args)\n\u001b[0;32m   1742\u001b[0m \u001b[38;5;28;01mif\u001b[39;00m (possible_gradient_type \u001b[38;5;241m==\u001b[39m gradients_util\u001b[38;5;241m.\u001b[39mPOSSIBLE_GRADIENT_TYPES_NONE\n\u001b[0;32m   1743\u001b[0m     \u001b[38;5;129;01mand\u001b[39;00m executing_eagerly):\n\u001b[0;32m   1744\u001b[0m   \u001b[38;5;66;03m# No tape is watching; skip to running the function.\u001b[39;00m\n\u001b[1;32m-> 1745\u001b[0m   \u001b[38;5;28;01mreturn\u001b[39;00m \u001b[38;5;28mself\u001b[39m\u001b[38;5;241m.\u001b[39m_build_call_outputs(\u001b[38;5;28;43mself\u001b[39;49m\u001b[38;5;241;43m.\u001b[39;49m\u001b[43m_inference_function\u001b[49m\u001b[38;5;241;43m.\u001b[39;49m\u001b[43mcall\u001b[49m\u001b[43m(\u001b[49m\n\u001b[0;32m   1746\u001b[0m \u001b[43m      \u001b[49m\u001b[43mctx\u001b[49m\u001b[43m,\u001b[49m\u001b[43m \u001b[49m\u001b[43margs\u001b[49m\u001b[43m,\u001b[49m\u001b[43m \u001b[49m\u001b[43mcancellation_manager\u001b[49m\u001b[38;5;241;43m=\u001b[39;49m\u001b[43mcancellation_manager\u001b[49m\u001b[43m)\u001b[49m)\n\u001b[0;32m   1747\u001b[0m forward_backward \u001b[38;5;241m=\u001b[39m \u001b[38;5;28mself\u001b[39m\u001b[38;5;241m.\u001b[39m_select_forward_and_backward_functions(\n\u001b[0;32m   1748\u001b[0m     args,\n\u001b[0;32m   1749\u001b[0m     possible_gradient_type,\n\u001b[0;32m   1750\u001b[0m     executing_eagerly)\n\u001b[0;32m   1751\u001b[0m forward_function, args_with_tangents \u001b[38;5;241m=\u001b[39m forward_backward\u001b[38;5;241m.\u001b[39mforward()\n",
      "File \u001b[1;32m~\\anaconda3\\lib\\site-packages\\tensorflow\\python\\eager\\polymorphic_function\\monomorphic_function.py:378\u001b[0m, in \u001b[0;36m_EagerDefinedFunction.call\u001b[1;34m(self, ctx, args, cancellation_manager)\u001b[0m\n\u001b[0;32m    376\u001b[0m \u001b[38;5;28;01mwith\u001b[39;00m _InterpolateFunctionError(\u001b[38;5;28mself\u001b[39m):\n\u001b[0;32m    377\u001b[0m   \u001b[38;5;28;01mif\u001b[39;00m cancellation_manager \u001b[38;5;129;01mis\u001b[39;00m \u001b[38;5;28;01mNone\u001b[39;00m:\n\u001b[1;32m--> 378\u001b[0m     outputs \u001b[38;5;241m=\u001b[39m \u001b[43mexecute\u001b[49m\u001b[38;5;241;43m.\u001b[39;49m\u001b[43mexecute\u001b[49m\u001b[43m(\u001b[49m\n\u001b[0;32m    379\u001b[0m \u001b[43m        \u001b[49m\u001b[38;5;28;43mstr\u001b[39;49m\u001b[43m(\u001b[49m\u001b[38;5;28;43mself\u001b[39;49m\u001b[38;5;241;43m.\u001b[39;49m\u001b[43msignature\u001b[49m\u001b[38;5;241;43m.\u001b[39;49m\u001b[43mname\u001b[49m\u001b[43m)\u001b[49m\u001b[43m,\u001b[49m\n\u001b[0;32m    380\u001b[0m \u001b[43m        \u001b[49m\u001b[43mnum_outputs\u001b[49m\u001b[38;5;241;43m=\u001b[39;49m\u001b[38;5;28;43mself\u001b[39;49m\u001b[38;5;241;43m.\u001b[39;49m\u001b[43m_num_outputs\u001b[49m\u001b[43m,\u001b[49m\n\u001b[0;32m    381\u001b[0m \u001b[43m        \u001b[49m\u001b[43minputs\u001b[49m\u001b[38;5;241;43m=\u001b[39;49m\u001b[43margs\u001b[49m\u001b[43m,\u001b[49m\n\u001b[0;32m    382\u001b[0m \u001b[43m        \u001b[49m\u001b[43mattrs\u001b[49m\u001b[38;5;241;43m=\u001b[39;49m\u001b[43mattrs\u001b[49m\u001b[43m,\u001b[49m\n\u001b[0;32m    383\u001b[0m \u001b[43m        \u001b[49m\u001b[43mctx\u001b[49m\u001b[38;5;241;43m=\u001b[39;49m\u001b[43mctx\u001b[49m\u001b[43m)\u001b[49m\n\u001b[0;32m    384\u001b[0m   \u001b[38;5;28;01melse\u001b[39;00m:\n\u001b[0;32m    385\u001b[0m     outputs \u001b[38;5;241m=\u001b[39m execute\u001b[38;5;241m.\u001b[39mexecute_with_cancellation(\n\u001b[0;32m    386\u001b[0m         \u001b[38;5;28mstr\u001b[39m(\u001b[38;5;28mself\u001b[39m\u001b[38;5;241m.\u001b[39msignature\u001b[38;5;241m.\u001b[39mname),\n\u001b[0;32m    387\u001b[0m         num_outputs\u001b[38;5;241m=\u001b[39m\u001b[38;5;28mself\u001b[39m\u001b[38;5;241m.\u001b[39m_num_outputs,\n\u001b[1;32m   (...)\u001b[0m\n\u001b[0;32m    390\u001b[0m         ctx\u001b[38;5;241m=\u001b[39mctx,\n\u001b[0;32m    391\u001b[0m         cancellation_manager\u001b[38;5;241m=\u001b[39mcancellation_manager)\n",
      "File \u001b[1;32m~\\anaconda3\\lib\\site-packages\\tensorflow\\python\\eager\\execute.py:52\u001b[0m, in \u001b[0;36mquick_execute\u001b[1;34m(op_name, num_outputs, inputs, attrs, ctx, name)\u001b[0m\n\u001b[0;32m     50\u001b[0m \u001b[38;5;28;01mtry\u001b[39;00m:\n\u001b[0;32m     51\u001b[0m   ctx\u001b[38;5;241m.\u001b[39mensure_initialized()\n\u001b[1;32m---> 52\u001b[0m   tensors \u001b[38;5;241m=\u001b[39m \u001b[43mpywrap_tfe\u001b[49m\u001b[38;5;241;43m.\u001b[39;49m\u001b[43mTFE_Py_Execute\u001b[49m\u001b[43m(\u001b[49m\u001b[43mctx\u001b[49m\u001b[38;5;241;43m.\u001b[39;49m\u001b[43m_handle\u001b[49m\u001b[43m,\u001b[49m\u001b[43m \u001b[49m\u001b[43mdevice_name\u001b[49m\u001b[43m,\u001b[49m\u001b[43m \u001b[49m\u001b[43mop_name\u001b[49m\u001b[43m,\u001b[49m\n\u001b[0;32m     53\u001b[0m \u001b[43m                                      \u001b[49m\u001b[43minputs\u001b[49m\u001b[43m,\u001b[49m\u001b[43m \u001b[49m\u001b[43mattrs\u001b[49m\u001b[43m,\u001b[49m\u001b[43m \u001b[49m\u001b[43mnum_outputs\u001b[49m\u001b[43m)\u001b[49m\n\u001b[0;32m     54\u001b[0m \u001b[38;5;28;01mexcept\u001b[39;00m core\u001b[38;5;241m.\u001b[39m_NotOkStatusException \u001b[38;5;28;01mas\u001b[39;00m e:\n\u001b[0;32m     55\u001b[0m   \u001b[38;5;28;01mif\u001b[39;00m name \u001b[38;5;129;01mis\u001b[39;00m \u001b[38;5;129;01mnot\u001b[39;00m \u001b[38;5;28;01mNone\u001b[39;00m:\n",
      "\u001b[1;31mKeyboardInterrupt\u001b[0m: "
     ]
    }
   ],
   "source": [
    "grid = GridSearchCV(estimator = ann_mod,param_grid = params_grid,cv = kf,verbose = 1)\n",
    "grid_res = grid.fit(X_train, y_train)"
   ]
  },
  {
   "cell_type": "markdown",
   "id": "65b89539",
   "metadata": {},
   "source": [
    "## Hyperparameter tuning"
   ]
  },
  {
   "cell_type": "code",
   "execution_count": 103,
   "id": "09ffcbf7",
   "metadata": {},
   "outputs": [],
   "source": [
    "def build_model(hp):\n",
    "    \n",
    "    \"\"\"\n",
    "    This function build an ANN model.\n",
    "    \n",
    "    Param: hp: Hyperparameters that will be optimized\n",
    "    \n",
    "    The hyperparameters that will be optimized are:\n",
    "    the number of layers,\n",
    "    the number of neurons per layer,\n",
    "    the dropout rate,\n",
    "    the type of activation function,\n",
    "    the learning rate.\n",
    "    \n",
    "    The function allows for different values for each parameter, constructs the ANN model using the Keras library and tensorflow.\n",
    "    \n",
    "    The function uses the ADAM optimizer and the Binary Crossentropy loss function\n",
    "    \n",
    "    Return: model ---> the function returns the best architecture based on its hyperparameters.    \n",
    "    \"\"\"\n",
    "    \n",
    "    \n",
    "    dnn_layers_ss = [1,2]   # Number of layers\n",
    "    dnn_units_min, dnn_units_max, step = 64, 256, 32 # number of neurons per layer\n",
    "    dropout_ss = [0.1,0.2,0.3,0.5]  # dropout rate\n",
    "    lr_ss = [0.001,0.0001] # learning rate\n",
    "    active_func_ss = ['relu','tanh'] #activation function\n",
    "       \n",
    "    # Combination of randomly picked hyperparameters:\n",
    "    active_func = hp.Choice('activation', active_func_ss) # choose an activation function\n",
    "    \n",
    "    lr = hp.Choice('learning_rate', lr_ss) #chooses a learning rate within the given range\n",
    "    \n",
    "    dropout = hp.Choice('dropout', dropout_ss) # choose a dropout rate\n",
    "    \n",
    "    inputs = tf.keras.Input(shape=(n_cols,)) #creates an input layer with a shape, equal to number of columns. The idea is to have as much neurons in the input layer as variables\n",
    "        \n",
    "    flatten_layer = Flatten()(inputs) # Creates a 1-D array for the input layer\n",
    "    \n",
    "    # create hidden layers\n",
    "    dnn_units = hp.Int(f\"0_units\", min_value=dnn_units_min, max_value=dnn_units_max, step=step) # chooses a number of neurons within the range for the hidden layers\n",
    "    dense = tf.keras.layers.Dense(units=dnn_units, activation=active_func, use_bias=True, bias_initializer='ones')(flatten_layer) # creates layer with the specific number of neurons selected in the line above + sets the chosen activation function\n",
    "\n",
    "    \n",
    "    # Creating the architecture based on the upper randomly selected hyperparameters\n",
    "    # loops through the number of chosen layers\n",
    "    for layer_i in range(hp.Choice(\"n_layers\", dnn_layers_ss)):\n",
    "        # chooses a number of layers with the selected number of neurons from the previous line\n",
    "        dnn_units = hp.Int(f\"{layer_i}_units\", min_value=dnn_units_min, max_value=dnn_units_max, step=step)\n",
    "        dense = Dense(units=dnn_units, activation=active_func, use_bias=True, bias_initializer='ones')(dense)   \n",
    "        # if the model performs better with a Dropout, it will add one after the hidden layer\n",
    "        if hp.Boolean(\"dropout\"):\n",
    "            dense = Dropout(rate=dropout)(dense)\n",
    "    \n",
    "    # sets the output layer with 1 neuron since the function will estimate a regression, and will produce one value\n",
    "    outputs = tf.keras.layers.Dense(units=1, activation='sigmoid')(dense)\n",
    "    # build the model\n",
    "    model = tf.keras.Model(inputs=inputs, outputs=outputs)\n",
    "    \n",
    "    # set optimizer\n",
    "    optimizer = tf.keras.optimizers.Adam(learning_rate=lr)\n",
    "        \n",
    "    # compile the model with chosen optimizer, loss function and metrics\n",
    "    model.compile(optimizer=optimizer,\n",
    "                 loss=\"binary_crossentropy\",\n",
    "                 metrics=['accuracy'])\n",
    "    \n",
    "    return model"
   ]
  },
  {
   "cell_type": "code",
   "execution_count": null,
   "id": "9b9226ec",
   "metadata": {},
   "outputs": [],
   "source": []
  },
  {
   "cell_type": "code",
   "execution_count": 105,
   "id": "7d8842d7",
   "metadata": {},
   "outputs": [],
   "source": [
    "#RandomSearch will take a combination of the hyperparameters that will be test, but not all possible ones. \n",
    "tuner1 = kt.RandomSearch(build_model, # the created ANN model\n",
    "                        objective='val_accuracy',  # the metrics we are interested to observe\n",
    "                        max_trials=100, # how many times we train the model\n",
    "                        # The purpose of having multiple executions per trial is to reduce results variance and therefore be able to more accurately assess the performance of a model.\n",
    "                        executions_per_trial=1, # we set 1 different weight initializations for each hyperparameter combination ,which basically trains the same model but achieves different results\n",
    "                        overwrite=True, # overwrite file in same directory\n",
    "                        project_name='ANN_HOTELS_FINAL',\n",
    "                        directory='C:/Users/Asus/Data Case')"
   ]
  },
  {
   "cell_type": "code",
   "execution_count": 106,
   "id": "43dcf90f",
   "metadata": {},
   "outputs": [],
   "source": [
    "# EarlyStopping will allow the training cycle to end if there is no improvement in accuracy\n",
    "early_stopping = EarlyStopping(\n",
    "    min_delta=0.001, # minimium amount of change to count as an improvement\n",
    "    patience=5, # how many epochs to wait before stopping\n",
    "    restore_best_weights=True)"
   ]
  },
  {
   "cell_type": "code",
   "execution_count": 107,
   "id": "9dc7974f",
   "metadata": {
    "scrolled": true
   },
   "outputs": [
    {
     "name": "stdout",
     "output_type": "stream",
     "text": [
      "Trial 100 Complete [00h 03m 32s]\n",
      "val_accuracy: 0.7804778814315796\n",
      "\n",
      "Best val_accuracy So Far: 0.8108456134796143\n",
      "Total elapsed time: 08h 30m 13s\n",
      "INFO:tensorflow:Oracle triggered exit\n"
     ]
    }
   ],
   "source": [
    "# search is a function that will perform the model N-times (number of epochs) and will apply the combinations from the random search\n",
    "# to find the best Hyperparameters\n",
    "\n",
    "tuner1.search(X_train,y_train, epochs=40,batch_size=80, validation_data=(X_val,y_val), callbacks=[early_stopping])"
   ]
  },
  {
   "cell_type": "code",
   "execution_count": null,
   "id": "8b696c63",
   "metadata": {},
   "outputs": [],
   "source": []
  },
  {
   "cell_type": "code",
   "execution_count": 108,
   "id": "4da9d1d2",
   "metadata": {},
   "outputs": [
    {
     "data": {
      "text/plain": [
       "[<keras_tuner.engine.hyperparameters.HyperParameters at 0x1ed8ad5c3d0>]"
      ]
     },
     "execution_count": 108,
     "metadata": {},
     "output_type": "execute_result"
    }
   ],
   "source": [
    "tuner1.get_best_hyperparameters()"
   ]
  },
  {
   "cell_type": "code",
   "execution_count": 109,
   "id": "0b3fb61f",
   "metadata": {},
   "outputs": [
    {
     "name": "stdout",
     "output_type": "stream",
     "text": [
      "Results summary\n",
      "Results in C:/Users/Asus/Data Case\\ANN_HOTELS_FINAL\n",
      "Showing 10 best trials\n",
      "<keras_tuner.engine.objective.Objective object at 0x000001ED8A59AFD0>\n",
      "Trial summary\n",
      "Hyperparameters:\n",
      "activation: relu\n",
      "learning_rate: 0.001\n",
      "dropout: 0.1\n",
      "0_units: 192\n",
      "n_layers: 2\n",
      "1_units: 192\n",
      "Score: 0.8108456134796143\n",
      "Trial summary\n",
      "Hyperparameters:\n",
      "activation: relu\n",
      "learning_rate: 0.001\n",
      "dropout: 0.1\n",
      "0_units: 224\n",
      "n_layers: 1\n",
      "1_units: 192\n",
      "Score: 0.8077613711357117\n",
      "Trial summary\n",
      "Hyperparameters:\n",
      "activation: tanh\n",
      "learning_rate: 0.001\n",
      "dropout: 0.2\n",
      "0_units: 192\n",
      "n_layers: 1\n",
      "1_units: 64\n",
      "Score: 0.8074224591255188\n",
      "Trial summary\n",
      "Hyperparameters:\n",
      "activation: relu\n",
      "learning_rate: 0.001\n",
      "dropout: 0.3\n",
      "0_units: 224\n",
      "n_layers: 2\n",
      "1_units: 128\n",
      "Score: 0.8041687607765198\n",
      "Trial summary\n",
      "Hyperparameters:\n",
      "activation: relu\n",
      "learning_rate: 0.001\n",
      "dropout: 0.5\n",
      "0_units: 256\n",
      "n_layers: 2\n",
      "1_units: 160\n",
      "Score: 0.8025758266448975\n",
      "Trial summary\n",
      "Hyperparameters:\n",
      "activation: relu\n",
      "learning_rate: 0.001\n",
      "dropout: 0.3\n",
      "0_units: 160\n",
      "n_layers: 1\n",
      "1_units: 64\n",
      "Score: 0.8021013140678406\n",
      "Trial summary\n",
      "Hyperparameters:\n",
      "activation: tanh\n",
      "learning_rate: 0.001\n",
      "dropout: 0.2\n",
      "0_units: 192\n",
      "n_layers: 2\n",
      "1_units: 96\n",
      "Score: 0.8020674586296082\n",
      "Trial summary\n",
      "Hyperparameters:\n",
      "activation: tanh\n",
      "learning_rate: 0.001\n",
      "dropout: 0.1\n",
      "0_units: 64\n",
      "n_layers: 2\n",
      "1_units: 192\n",
      "Score: 0.8015929460525513\n",
      "Trial summary\n",
      "Hyperparameters:\n",
      "activation: relu\n",
      "learning_rate: 0.001\n",
      "dropout: 0.2\n",
      "0_units: 128\n",
      "n_layers: 1\n",
      "1_units: 64\n",
      "Score: 0.8015929460525513\n",
      "Trial summary\n",
      "Hyperparameters:\n",
      "activation: relu\n",
      "learning_rate: 0.001\n",
      "dropout: 0.5\n",
      "0_units: 192\n",
      "n_layers: 1\n",
      "1_units: 128\n",
      "Score: 0.8010167479515076\n"
     ]
    }
   ],
   "source": [
    "tuner1.results_summary()"
   ]
  },
  {
   "cell_type": "code",
   "execution_count": 122,
   "id": "2d5190e0",
   "metadata": {},
   "outputs": [],
   "source": [
    "best_model = build_model(tuner1.get_best_hyperparameters(1)[0])"
   ]
  },
  {
   "cell_type": "code",
   "execution_count": null,
   "id": "27d3ad8c",
   "metadata": {},
   "outputs": [],
   "source": []
  },
  {
   "cell_type": "code",
   "execution_count": 123,
   "id": "a7102b51",
   "metadata": {},
   "outputs": [
    {
     "name": "stdout",
     "output_type": "stream",
     "text": [
      "Epoch 1/80\n",
      "749/749 [==============================] - 21s 26ms/step - loss: 0.7075 - accuracy: 0.6533 - val_loss: 0.5618 - val_accuracy: 0.7066\n",
      "Epoch 2/80\n",
      "749/749 [==============================] - 17s 23ms/step - loss: 0.5535 - accuracy: 0.7122 - val_loss: 0.5203 - val_accuracy: 0.7512\n",
      "Epoch 3/80\n",
      "749/749 [==============================] - 18s 24ms/step - loss: 0.5267 - accuracy: 0.7333 - val_loss: 0.5005 - val_accuracy: 0.7529\n",
      "Epoch 4/80\n",
      "749/749 [==============================] - 22s 29ms/step - loss: 0.5044 - accuracy: 0.7496 - val_loss: 0.4896 - val_accuracy: 0.7598\n",
      "Epoch 5/80\n",
      "749/749 [==============================] - 21s 28ms/step - loss: 0.4955 - accuracy: 0.7548 - val_loss: 0.4828 - val_accuracy: 0.7619\n",
      "Epoch 6/80\n",
      "749/749 [==============================] - 30s 40ms/step - loss: 0.4905 - accuracy: 0.7563 - val_loss: 0.4662 - val_accuracy: 0.7771\n",
      "Epoch 7/80\n",
      "749/749 [==============================] - 30s 41ms/step - loss: 0.4801 - accuracy: 0.7632 - val_loss: 0.4737 - val_accuracy: 0.7641\n",
      "Epoch 8/80\n",
      "749/749 [==============================] - 30s 39ms/step - loss: 0.4741 - accuracy: 0.7660 - val_loss: 0.4533 - val_accuracy: 0.7772\n",
      "Epoch 9/80\n",
      "749/749 [==============================] - 28s 37ms/step - loss: 0.4637 - accuracy: 0.7740 - val_loss: 0.4776 - val_accuracy: 0.7631\n",
      "Epoch 10/80\n",
      "749/749 [==============================] - 27s 36ms/step - loss: 0.4628 - accuracy: 0.7745 - val_loss: 0.4509 - val_accuracy: 0.7877\n",
      "Epoch 11/80\n",
      "749/749 [==============================] - 28s 38ms/step - loss: 0.4510 - accuracy: 0.7823 - val_loss: 0.4393 - val_accuracy: 0.7917\n",
      "Epoch 12/80\n",
      "749/749 [==============================] - 30s 41ms/step - loss: 0.4476 - accuracy: 0.7849 - val_loss: 0.4405 - val_accuracy: 0.7871\n",
      "Epoch 13/80\n",
      "749/749 [==============================] - 30s 39ms/step - loss: 0.4395 - accuracy: 0.7903 - val_loss: 0.4397 - val_accuracy: 0.7842\n",
      "Epoch 14/80\n",
      "749/749 [==============================] - 27s 36ms/step - loss: 0.4381 - accuracy: 0.7908 - val_loss: 0.4383 - val_accuracy: 0.7937\n",
      "Epoch 15/80\n",
      "749/749 [==============================] - 29s 39ms/step - loss: 0.4325 - accuracy: 0.7917 - val_loss: 0.4363 - val_accuracy: 0.7906\n",
      "Epoch 16/80\n",
      "749/749 [==============================] - 28s 37ms/step - loss: 0.4347 - accuracy: 0.7919 - val_loss: 0.4321 - val_accuracy: 0.7944\n",
      "Epoch 17/80\n",
      "749/749 [==============================] - 22s 30ms/step - loss: 0.4279 - accuracy: 0.7938 - val_loss: 0.4320 - val_accuracy: 0.7931\n",
      "Epoch 18/80\n",
      "749/749 [==============================] - 21s 28ms/step - loss: 0.4261 - accuracy: 0.7959 - val_loss: 0.4207 - val_accuracy: 0.8002\n",
      "Epoch 19/80\n",
      "749/749 [==============================] - 21s 28ms/step - loss: 0.4243 - accuracy: 0.7978 - val_loss: 0.4211 - val_accuracy: 0.7977\n",
      "Epoch 20/80\n",
      "749/749 [==============================] - 48s 64ms/step - loss: 0.4206 - accuracy: 0.7984 - val_loss: 0.4189 - val_accuracy: 0.8005\n",
      "Epoch 21/80\n",
      "749/749 [==============================] - 25s 34ms/step - loss: 0.4185 - accuracy: 0.8013 - val_loss: 0.4223 - val_accuracy: 0.8017\n",
      "Epoch 22/80\n",
      "749/749 [==============================] - 24s 32ms/step - loss: 0.4160 - accuracy: 0.8019 - val_loss: 0.4176 - val_accuracy: 0.8023\n",
      "Epoch 23/80\n",
      "749/749 [==============================] - 28s 38ms/step - loss: 0.4155 - accuracy: 0.8006 - val_loss: 0.4182 - val_accuracy: 0.8016\n",
      "Epoch 24/80\n",
      "749/749 [==============================] - 18s 25ms/step - loss: 0.4126 - accuracy: 0.8024 - val_loss: 0.4177 - val_accuracy: 0.8067\n",
      "Epoch 25/80\n",
      "749/749 [==============================] - 20s 27ms/step - loss: 0.4097 - accuracy: 0.8045 - val_loss: 0.4129 - val_accuracy: 0.8048\n",
      "Epoch 26/80\n",
      "749/749 [==============================] - 18s 23ms/step - loss: 0.4069 - accuracy: 0.8071 - val_loss: 0.4211 - val_accuracy: 0.8046\n",
      "Epoch 27/80\n",
      "749/749 [==============================] - 36s 48ms/step - loss: 0.4048 - accuracy: 0.8067 - val_loss: 0.4170 - val_accuracy: 0.8036\n",
      "Epoch 28/80\n",
      "749/749 [==============================] - 25s 34ms/step - loss: 0.4079 - accuracy: 0.8066 - val_loss: 0.4133 - val_accuracy: 0.8062\n",
      "Epoch 29/80\n",
      "749/749 [==============================] - 24s 32ms/step - loss: 0.4017 - accuracy: 0.8083 - val_loss: 0.4136 - val_accuracy: 0.8046\n",
      "Epoch 30/80\n",
      "749/749 [==============================] - 28s 37ms/step - loss: 0.3980 - accuracy: 0.8104 - val_loss: 0.4109 - val_accuracy: 0.8068\n",
      "Epoch 31/80\n",
      "749/749 [==============================] - 27s 36ms/step - loss: 0.4005 - accuracy: 0.8090 - val_loss: 0.4075 - val_accuracy: 0.8096\n",
      "Epoch 32/80\n",
      "749/749 [==============================] - 32s 43ms/step - loss: 0.3974 - accuracy: 0.8098 - val_loss: 0.4110 - val_accuracy: 0.8076\n",
      "Epoch 33/80\n",
      "749/749 [==============================] - 33s 43ms/step - loss: 0.3982 - accuracy: 0.8105 - val_loss: 0.4068 - val_accuracy: 0.8095\n",
      "Epoch 34/80\n",
      "749/749 [==============================] - 17s 22ms/step - loss: 0.3939 - accuracy: 0.8118 - val_loss: 0.4118 - val_accuracy: 0.8085\n",
      "Epoch 35/80\n",
      "749/749 [==============================] - 13s 17ms/step - loss: 0.3925 - accuracy: 0.8133 - val_loss: 0.4068 - val_accuracy: 0.8109\n",
      "Epoch 36/80\n",
      "749/749 [==============================] - 13s 17ms/step - loss: 0.3913 - accuracy: 0.8133 - val_loss: 0.4088 - val_accuracy: 0.8113\n"
     ]
    },
    {
     "data": {
      "text/plain": [
       "<keras.callbacks.History at 0x1ed8c233520>"
      ]
     },
     "execution_count": 123,
     "metadata": {},
     "output_type": "execute_result"
    }
   ],
   "source": [
    "best_model.fit(x=X_train,y=y_train,\n",
    "          validation_data=(X_val,y_val),\n",
    "               callbacks=[early_stopping],\n",
    "          batch_size=80,\n",
    "               epochs=80)"
   ]
  },
  {
   "cell_type": "markdown",
   "id": "06fabf13",
   "metadata": {},
   "source": [
    "### SAVE the model:"
   ]
  },
  {
   "cell_type": "code",
   "execution_count": 124,
   "id": "a020e90d",
   "metadata": {},
   "outputs": [
    {
     "name": "stdout",
     "output_type": "stream",
     "text": [
      "INFO:tensorflow:Assets written to: SUBMITION_ANN\\assets\n"
     ]
    }
   ],
   "source": [
    "# Calling `save('my_model')` creates a SavedModel folder `my_model`.\n",
    "best_model.save(\"SUBMITION_ANN\")"
   ]
  },
  {
   "cell_type": "code",
   "execution_count": 128,
   "id": "3012f519",
   "metadata": {},
   "outputs": [
    {
     "name": "stdout",
     "output_type": "stream",
     "text": [
      "\n",
      "val_accuracy is: 78.99%\n"
     ]
    }
   ],
   "source": [
    "val_accuracy = np.mean(best_model.history.history['val_accuracy'])\n",
    "print(\"\\n%s: %.2f%%\" % ('val_accuracy is', val_accuracy*100))"
   ]
  },
  {
   "cell_type": "code",
   "execution_count": 220,
   "id": "5d9de8cc",
   "metadata": {},
   "outputs": [],
   "source": [
    "#reconstruct the model identically.\n",
    "reconstructed_model = tf.keras.models.load_model(\"ANN_FINAL_MODEL!\")"
   ]
  },
  {
   "cell_type": "code",
   "execution_count": 125,
   "id": "75054271",
   "metadata": {},
   "outputs": [],
   "source": [
    "model_loss = loss_df['loss']\n",
    "model_val_loss = loss_df['val_loss']\n",
    "epochs = range(1, len(model_loss) + 1)\n",
    "model_accuracy = loss_df['accuracy']\n",
    "model_acc_val = loss_df['val_accuracy']"
   ]
  },
  {
   "cell_type": "code",
   "execution_count": 126,
   "id": "02739b46",
   "metadata": {},
   "outputs": [
    {
     "data": {
      "text/plain": [
       "[]"
      ]
     },
     "execution_count": 126,
     "metadata": {},
     "output_type": "execute_result"
    },
    {
     "data": {
      "image/png": "[encoded data removed]",
      "text/plain": [
       "<Figure size 640x480 with 1 Axes>"
      ]
     },
     "metadata": {},
     "output_type": "display_data"
    }
   ],
   "source": [
    "plt.plot(epochs, model_loss, '-', label='Training loss')\n",
    "plt.plot(epochs, model_val_loss, ':', label='Validation loss')\n",
    "plt.title('Training and Validation Loss')\n",
    "plt.xlabel('Epoch')\n",
    "plt.ylabel('Loss')\n",
    "plt.legend(loc='best')\n",
    "plt.plot()"
   ]
  },
  {
   "cell_type": "code",
   "execution_count": 127,
   "id": "48943864",
   "metadata": {},
   "outputs": [
    {
     "data": {
      "text/plain": [
       "[]"
      ]
     },
     "execution_count": 127,
     "metadata": {},
     "output_type": "execute_result"
    },
    {
     "data": {
      "image/png": "[encoded data removed]",
      "text/plain": [
       "<Figure size 640x480 with 1 Axes>"
      ]
     },
     "metadata": {},
     "output_type": "display_data"
    }
   ],
   "source": [
    "plt.plot(epochs, model_accuracy, '-', label='Training accuracy')\n",
    "plt.plot(epochs, model_acc_val, ':', label='Validation accuracy')\n",
    "plt.title('Training and Validation Accuracy')\n",
    "plt.xlabel('Epoch')\n",
    "plt.ylabel('Accuracy')\n",
    "plt.legend(loc='best')\n",
    "plt.plot()"
   ]
  },
  {
   "cell_type": "code",
   "execution_count": 129,
   "id": "9f3ec409",
   "metadata": {},
   "outputs": [
    {
     "name": "stdout",
     "output_type": "stream",
     "text": [
      "932/932 [==============================] - 3s 3ms/step\n"
     ]
    }
   ],
   "source": [
    "y_pred_opt = best_model.predict(X_test)\n",
    "# Turn the prediction variable into binary\n",
    "y_pred = (y_pred_opt > 0.5)"
   ]
  },
  {
   "cell_type": "code",
   "execution_count": 130,
   "id": "29fb6fd9",
   "metadata": {},
   "outputs": [
    {
     "name": "stdout",
     "output_type": "stream",
     "text": [
      "MAE: 0.27255798747791915\n",
      "MSE: 0.13254998570775903\n",
      "RMSE: 0.36407414863975035\n",
      "VarScore: 0.43480369734653934\n"
     ]
    }
   ],
   "source": [
    "print('MAE:', mean_absolute_error(y_test, y_pred_opt))  \n",
    "print('MSE:', mean_squared_error(y_test, y_pred_opt))  \n",
    "print('RMSE:', np.sqrt(mean_squared_error(y_test, y_pred_opt)))\n",
    "print('VarScore:',explained_variance_score(y_test,y_pred_opt))"
   ]
  },
  {
   "cell_type": "code",
   "execution_count": 131,
   "id": "b4664677",
   "metadata": {},
   "outputs": [
    {
     "data": {
      "text/plain": [
       "Text(50.72222222222221, 0.5, 'Actual')"
      ]
     },
     "execution_count": 131,
     "metadata": {},
     "output_type": "execute_result"
    },
    {
     "data": {
      "image/png": "[encoded data removed]",
      "text/plain": [
       "<Figure size 640x480 with 2 Axes>"
      ]
     },
     "metadata": {},
     "output_type": "display_data"
    }
   ],
   "source": [
    "mat = confusion_matrix(y_test, y_pred)\n",
    "labels_conf_mat = ['Legitimate', 'Fraudulent']\n",
    "sns.heatmap(mat/np.sum(mat),annot=True, xticklabels=labels_conf_mat, yticklabels=labels_conf_mat)\n",
    "plt.xlabel('Predicted')\n",
    "plt.ylabel('Actual')"
   ]
  },
  {
   "cell_type": "code",
   "execution_count": 132,
   "id": "0a911127",
   "metadata": {},
   "outputs": [],
   "source": [
    "rf_Recall = recall_score(y_test, y_pred)\n",
    "rf_Precision = precision_score(y_test, y_pred)\n",
    "rf_f1 = f1_score(y_test, y_pred)\n",
    "rf_accuracy = accuracy_score(y_test, y_pred)"
   ]
  },
  {
   "cell_type": "code",
   "execution_count": 133,
   "id": "be077343",
   "metadata": {},
   "outputs": [
    {
     "name": "stdout",
     "output_type": "stream",
     "text": [
      "              precision    recall  f1-score   support\n",
      "\n",
      "           0       0.83      0.88      0.85     18733\n",
      "           1       0.77      0.69      0.73     11070\n",
      "\n",
      "    accuracy                           0.81     29803\n",
      "   macro avg       0.80      0.78      0.79     29803\n",
      "weighted avg       0.81      0.81      0.81     29803\n",
      "\n"
     ]
    }
   ],
   "source": [
    "print(classification_report(y_test, y_pred))"
   ]
  }
 ],
 "metadata": {
  "kernelspec": {
   "display_name": "Python 3",
   "language": "python",
   "name": "python3"
  },
  "language_info": {
   "codemirror_mode": {
    "name": "ipython",
    "version": 3
   },
   "file_extension": ".py",
   "mimetype": "text/x-python",
   "name": "python",
   "nbconvert_exporter": "python",
   "pygments_lexer": "ipython3",
   "version": "3.8.8"
  },
  "vscode": {
   "interpreter": {
    "hash": "c25269a4018224bb4e3cb6b79397037e31419b0dedc1b97e47175df2e08dbf7b"
   }
  }
 },
 "nbformat": 4,
 "nbformat_minor": 5
}
